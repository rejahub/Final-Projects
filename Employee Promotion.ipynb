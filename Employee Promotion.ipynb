{
  "cells": [
    {
      "cell_type": "markdown",
      "metadata": {
        "id": "pI8Qt5oYqREs"
      },
      "source": [
        "# Employee Promotion Prediction using Classification Model (Biner)"
      ]
    },
    {
      "cell_type": "markdown",
      "metadata": {
        "id": "vLnF20RoqgEK"
      },
      "source": [
        "## Description\n",
        "This report provides employee promotion prediction using classification algoritms. The dataset used in this report for modeling is real employee data in a company. This file can access in Google Drive"
      ]
    },
    {
      "cell_type": "markdown",
      "metadata": {
        "id": "5Ie_H7eDqsW_"
      },
      "source": [
        "The report is structured as follows:\n",
        "1. Data Extraction\n",
        "2. Exploratory Data Analysis\n",
        "3. Data Preparation\n",
        "4. Modeling\n",
        "5. Evaluation\n",
        "6. Recommendation"
      ]
    },
    {
      "cell_type": "markdown",
      "metadata": {
        "id": "vuTXr-eDrG23"
      },
      "source": [
        "## Data Extraction"
      ]
    },
    {
      "cell_type": "markdown",
      "metadata": {
        "id": "u-D68JGdrNfP"
      },
      "source": [
        "Import Necessary Libraries "
      ]
    },
    {
      "cell_type": "code",
      "execution_count": 1,
      "metadata": {
        "id": "kwx4YdCarKAx"
      },
      "outputs": [],
      "source": [
        "import pandas as pd #untuk mengolah dataset\n",
        "import numpy as np #untuk menghitung algoritma\n",
        "\n",
        "#Untuk plotting dan visualisasi\n",
        "import seaborn as sns\n",
        "import matplotlib.pyplot as plt\n",
        "\n",
        "#Disable Warning\n",
        "import warnings\n",
        "warnings.filterwarnings(\"ignore\")"
      ]
    },
    {
      "cell_type": "markdown",
      "metadata": {
        "id": "tlvcsOKus8Zn"
      },
      "source": [
        "Read Data"
      ]
    },
    {
      "cell_type": "code",
      "execution_count": 2,
      "metadata": {
        "colab": {
          "base_uri": "https://localhost:8080/"
        },
        "id": "drBYKmR2uDFt",
        "outputId": "61ee79eb-de35-428b-9e8c-a8647fd363c0"
      },
      "outputs": [
        {
          "output_type": "stream",
          "name": "stdout",
          "text": [
            "Mounted at /content/drive\n"
          ]
        }
      ],
      "source": [
        "from google.colab import drive\n",
        "drive.mount(\"/content/drive\")"
      ]
    },
    {
      "cell_type": "code",
      "execution_count": 3,
      "metadata": {
        "colab": {
          "base_uri": "https://localhost:8080/",
          "height": 206
        },
        "id": "XAsIh54Ssgr2",
        "outputId": "eec51d8d-0b7d-4bc5-f436-31d0ed9d427e"
      },
      "outputs": [
        {
          "output_type": "execute_result",
          "data": {
            "text/plain": [
              "   employee_id         department         education gender  \\\n",
              "0        65438  Sales & Marketing  Master's & above      f   \n",
              "1        65141         Operations        Bachelor's      m   \n",
              "2         7513  Sales & Marketing        Bachelor's      m   \n",
              "3         2542  Sales & Marketing        Bachelor's      m   \n",
              "4        48945         Technology        Bachelor's      m   \n",
              "\n",
              "  recruitment_channel  is_promoted  \n",
              "0            sourcing            0  \n",
              "1               other            0  \n",
              "2            sourcing            0  \n",
              "3               other            0  \n",
              "4               other            0  "
            ],
            "text/html": [
              "\n",
              "  <div id=\"df-b5276218-b719-4f29-a08c-4ffd64b69ef9\">\n",
              "    <div class=\"colab-df-container\">\n",
              "      <div>\n",
              "<style scoped>\n",
              "    .dataframe tbody tr th:only-of-type {\n",
              "        vertical-align: middle;\n",
              "    }\n",
              "\n",
              "    .dataframe tbody tr th {\n",
              "        vertical-align: top;\n",
              "    }\n",
              "\n",
              "    .dataframe thead th {\n",
              "        text-align: right;\n",
              "    }\n",
              "</style>\n",
              "<table border=\"1\" class=\"dataframe\">\n",
              "  <thead>\n",
              "    <tr style=\"text-align: right;\">\n",
              "      <th></th>\n",
              "      <th>employee_id</th>\n",
              "      <th>department</th>\n",
              "      <th>education</th>\n",
              "      <th>gender</th>\n",
              "      <th>recruitment_channel</th>\n",
              "      <th>is_promoted</th>\n",
              "    </tr>\n",
              "  </thead>\n",
              "  <tbody>\n",
              "    <tr>\n",
              "      <th>0</th>\n",
              "      <td>65438</td>\n",
              "      <td>Sales &amp; Marketing</td>\n",
              "      <td>Master's &amp; above</td>\n",
              "      <td>f</td>\n",
              "      <td>sourcing</td>\n",
              "      <td>0</td>\n",
              "    </tr>\n",
              "    <tr>\n",
              "      <th>1</th>\n",
              "      <td>65141</td>\n",
              "      <td>Operations</td>\n",
              "      <td>Bachelor's</td>\n",
              "      <td>m</td>\n",
              "      <td>other</td>\n",
              "      <td>0</td>\n",
              "    </tr>\n",
              "    <tr>\n",
              "      <th>2</th>\n",
              "      <td>7513</td>\n",
              "      <td>Sales &amp; Marketing</td>\n",
              "      <td>Bachelor's</td>\n",
              "      <td>m</td>\n",
              "      <td>sourcing</td>\n",
              "      <td>0</td>\n",
              "    </tr>\n",
              "    <tr>\n",
              "      <th>3</th>\n",
              "      <td>2542</td>\n",
              "      <td>Sales &amp; Marketing</td>\n",
              "      <td>Bachelor's</td>\n",
              "      <td>m</td>\n",
              "      <td>other</td>\n",
              "      <td>0</td>\n",
              "    </tr>\n",
              "    <tr>\n",
              "      <th>4</th>\n",
              "      <td>48945</td>\n",
              "      <td>Technology</td>\n",
              "      <td>Bachelor's</td>\n",
              "      <td>m</td>\n",
              "      <td>other</td>\n",
              "      <td>0</td>\n",
              "    </tr>\n",
              "  </tbody>\n",
              "</table>\n",
              "</div>\n",
              "      <button class=\"colab-df-convert\" onclick=\"convertToInteractive('df-b5276218-b719-4f29-a08c-4ffd64b69ef9')\"\n",
              "              title=\"Convert this dataframe to an interactive table.\"\n",
              "              style=\"display:none;\">\n",
              "        \n",
              "  <svg xmlns=\"http://www.w3.org/2000/svg\" height=\"24px\"viewBox=\"0 0 24 24\"\n",
              "       width=\"24px\">\n",
              "    <path d=\"M0 0h24v24H0V0z\" fill=\"none\"/>\n",
              "    <path d=\"M18.56 5.44l.94 2.06.94-2.06 2.06-.94-2.06-.94-.94-2.06-.94 2.06-2.06.94zm-11 1L8.5 8.5l.94-2.06 2.06-.94-2.06-.94L8.5 2.5l-.94 2.06-2.06.94zm10 10l.94 2.06.94-2.06 2.06-.94-2.06-.94-.94-2.06-.94 2.06-2.06.94z\"/><path d=\"M17.41 7.96l-1.37-1.37c-.4-.4-.92-.59-1.43-.59-.52 0-1.04.2-1.43.59L10.3 9.45l-7.72 7.72c-.78.78-.78 2.05 0 2.83L4 21.41c.39.39.9.59 1.41.59.51 0 1.02-.2 1.41-.59l7.78-7.78 2.81-2.81c.8-.78.8-2.07 0-2.86zM5.41 20L4 18.59l7.72-7.72 1.47 1.35L5.41 20z\"/>\n",
              "  </svg>\n",
              "      </button>\n",
              "      \n",
              "  <style>\n",
              "    .colab-df-container {\n",
              "      display:flex;\n",
              "      flex-wrap:wrap;\n",
              "      gap: 12px;\n",
              "    }\n",
              "\n",
              "    .colab-df-convert {\n",
              "      background-color: #E8F0FE;\n",
              "      border: none;\n",
              "      border-radius: 50%;\n",
              "      cursor: pointer;\n",
              "      display: none;\n",
              "      fill: #1967D2;\n",
              "      height: 32px;\n",
              "      padding: 0 0 0 0;\n",
              "      width: 32px;\n",
              "    }\n",
              "\n",
              "    .colab-df-convert:hover {\n",
              "      background-color: #E2EBFA;\n",
              "      box-shadow: 0px 1px 2px rgba(60, 64, 67, 0.3), 0px 1px 3px 1px rgba(60, 64, 67, 0.15);\n",
              "      fill: #174EA6;\n",
              "    }\n",
              "\n",
              "    [theme=dark] .colab-df-convert {\n",
              "      background-color: #3B4455;\n",
              "      fill: #D2E3FC;\n",
              "    }\n",
              "\n",
              "    [theme=dark] .colab-df-convert:hover {\n",
              "      background-color: #434B5C;\n",
              "      box-shadow: 0px 1px 3px 1px rgba(0, 0, 0, 0.15);\n",
              "      filter: drop-shadow(0px 1px 2px rgba(0, 0, 0, 0.3));\n",
              "      fill: #FFFFFF;\n",
              "    }\n",
              "  </style>\n",
              "\n",
              "      <script>\n",
              "        const buttonEl =\n",
              "          document.querySelector('#df-b5276218-b719-4f29-a08c-4ffd64b69ef9 button.colab-df-convert');\n",
              "        buttonEl.style.display =\n",
              "          google.colab.kernel.accessAllowed ? 'block' : 'none';\n",
              "\n",
              "        async function convertToInteractive(key) {\n",
              "          const element = document.querySelector('#df-b5276218-b719-4f29-a08c-4ffd64b69ef9');\n",
              "          const dataTable =\n",
              "            await google.colab.kernel.invokeFunction('convertToInteractive',\n",
              "                                                     [key], {});\n",
              "          if (!dataTable) return;\n",
              "\n",
              "          const docLinkHtml = 'Like what you see? Visit the ' +\n",
              "            '<a target=\"_blank\" href=https://colab.research.google.com/notebooks/data_table.ipynb>data table notebook</a>'\n",
              "            + ' to learn more about interactive tables.';\n",
              "          element.innerHTML = '';\n",
              "          dataTable['output_type'] = 'display_data';\n",
              "          await google.colab.output.renderOutput(dataTable, element);\n",
              "          const docLink = document.createElement('div');\n",
              "          docLink.innerHTML = docLinkHtml;\n",
              "          element.appendChild(docLink);\n",
              "        }\n",
              "      </script>\n",
              "    </div>\n",
              "  </div>\n",
              "  "
            ]
          },
          "metadata": {},
          "execution_count": 3
        }
      ],
      "source": [
        "df = pd.read_csv(\"/content/drive/MyDrive/Colab Notebooks/Digital Skola/Final Project/Dataset15_Employee_Promotion.csv\")\n",
        "df.head(5)"
      ]
    },
    {
      "cell_type": "markdown",
      "metadata": {
        "id": "ioOmeA3XJLU7"
      },
      "source": [
        "Check Data"
      ]
    },
    {
      "cell_type": "code",
      "execution_count": 4,
      "metadata": {
        "colab": {
          "base_uri": "https://localhost:8080/"
        },
        "id": "_M7yXwW0JOPD",
        "outputId": "ba186209-54d9-4eca-8d3e-a54ab447fdab"
      },
      "outputs": [
        {
          "output_type": "stream",
          "name": "stdout",
          "text": [
            "<class 'pandas.core.frame.DataFrame'>\n",
            "RangeIndex: 54808 entries, 0 to 54807\n",
            "Data columns (total 6 columns):\n",
            " #   Column               Non-Null Count  Dtype \n",
            "---  ------               --------------  ----- \n",
            " 0   employee_id          54808 non-null  int64 \n",
            " 1   department           54808 non-null  object\n",
            " 2   education            52399 non-null  object\n",
            " 3   gender               54808 non-null  object\n",
            " 4   recruitment_channel  54808 non-null  object\n",
            " 5   is_promoted          54808 non-null  int64 \n",
            "dtypes: int64(2), object(4)\n",
            "memory usage: 2.5+ MB\n"
          ]
        }
      ],
      "source": [
        "#Cek tipe data\n",
        "df.info()\n",
        "#df.dtypes"
      ]
    },
    {
      "cell_type": "markdown",
      "metadata": {
        "id": "h1ogE3Doo3Zp"
      },
      "source": [
        "#Exploratory Data Analysis"
      ]
    },
    {
      "cell_type": "markdown",
      "metadata": {
        "id": "7r7hYGOqJ5OE"
      },
      "source": [
        "Check Missing Value"
      ]
    },
    {
      "cell_type": "code",
      "execution_count": 5,
      "metadata": {
        "colab": {
          "base_uri": "https://localhost:8080/"
        },
        "id": "PCuVqutzJwhW",
        "outputId": "e03a3444-8de6-4c59-c1e0-b32da49da540"
      },
      "outputs": [
        {
          "output_type": "execute_result",
          "data": {
            "text/plain": [
              "employee_id               0\n",
              "department                0\n",
              "education              2409\n",
              "gender                    0\n",
              "recruitment_channel       0\n",
              "is_promoted               0\n",
              "dtype: int64"
            ]
          },
          "metadata": {},
          "execution_count": 5
        }
      ],
      "source": [
        "#Cek missing value \"Education\" karena non null nya beda, berarti ada nilai Nan\n",
        "df.isna().sum()"
      ]
    },
    {
      "cell_type": "code",
      "execution_count": 6,
      "metadata": {
        "colab": {
          "base_uri": "https://localhost:8080/"
        },
        "id": "ogsbGUkUKU7E",
        "outputId": "8fa2c06c-b90c-4d48-cd55-8a0fb44b9930"
      },
      "outputs": [
        {
          "output_type": "execute_result",
          "data": {
            "text/plain": [
              "4.395343745438622"
            ]
          },
          "metadata": {},
          "execution_count": 6
        }
      ],
      "source": [
        "2409/54808*100 #Missing value (%)"
      ]
    },
    {
      "cell_type": "markdown",
      "metadata": {
        "id": "wIsgCqydMrMc"
      },
      "source": [
        "Check Duplicate Data"
      ]
    },
    {
      "cell_type": "code",
      "execution_count": 7,
      "metadata": {
        "id": "tkvdmlrTMvi7"
      },
      "outputs": [],
      "source": [
        "df = df.drop_duplicates() #Semua data bernilai unik karena memiliki id berbeda"
      ]
    },
    {
      "cell_type": "markdown",
      "metadata": {
        "id": "iUf4wPhiNFLJ"
      },
      "source": [
        "Check Distribusi Data\n",
        "\n",
        "\n",
        "\n"
      ]
    },
    {
      "cell_type": "code",
      "execution_count": 8,
      "metadata": {
        "colab": {
          "base_uri": "https://localhost:8080/",
          "height": 300
        },
        "id": "NmIdz-4oNnoa",
        "outputId": "01037777-ed67-4296-9df5-586d53093522"
      },
      "outputs": [
        {
          "output_type": "execute_result",
          "data": {
            "text/plain": [
              "        employee_id   is_promoted\n",
              "count  54808.000000  54808.000000\n",
              "mean   39195.830627      0.085170\n",
              "std    22586.581449      0.279137\n",
              "min        1.000000      0.000000\n",
              "25%    19669.750000      0.000000\n",
              "50%    39225.500000      0.000000\n",
              "75%    58730.500000      0.000000\n",
              "max    78298.000000      1.000000"
            ],
            "text/html": [
              "\n",
              "  <div id=\"df-dda92605-0614-480f-94fd-7cf2546a354a\">\n",
              "    <div class=\"colab-df-container\">\n",
              "      <div>\n",
              "<style scoped>\n",
              "    .dataframe tbody tr th:only-of-type {\n",
              "        vertical-align: middle;\n",
              "    }\n",
              "\n",
              "    .dataframe tbody tr th {\n",
              "        vertical-align: top;\n",
              "    }\n",
              "\n",
              "    .dataframe thead th {\n",
              "        text-align: right;\n",
              "    }\n",
              "</style>\n",
              "<table border=\"1\" class=\"dataframe\">\n",
              "  <thead>\n",
              "    <tr style=\"text-align: right;\">\n",
              "      <th></th>\n",
              "      <th>employee_id</th>\n",
              "      <th>is_promoted</th>\n",
              "    </tr>\n",
              "  </thead>\n",
              "  <tbody>\n",
              "    <tr>\n",
              "      <th>count</th>\n",
              "      <td>54808.000000</td>\n",
              "      <td>54808.000000</td>\n",
              "    </tr>\n",
              "    <tr>\n",
              "      <th>mean</th>\n",
              "      <td>39195.830627</td>\n",
              "      <td>0.085170</td>\n",
              "    </tr>\n",
              "    <tr>\n",
              "      <th>std</th>\n",
              "      <td>22586.581449</td>\n",
              "      <td>0.279137</td>\n",
              "    </tr>\n",
              "    <tr>\n",
              "      <th>min</th>\n",
              "      <td>1.000000</td>\n",
              "      <td>0.000000</td>\n",
              "    </tr>\n",
              "    <tr>\n",
              "      <th>25%</th>\n",
              "      <td>19669.750000</td>\n",
              "      <td>0.000000</td>\n",
              "    </tr>\n",
              "    <tr>\n",
              "      <th>50%</th>\n",
              "      <td>39225.500000</td>\n",
              "      <td>0.000000</td>\n",
              "    </tr>\n",
              "    <tr>\n",
              "      <th>75%</th>\n",
              "      <td>58730.500000</td>\n",
              "      <td>0.000000</td>\n",
              "    </tr>\n",
              "    <tr>\n",
              "      <th>max</th>\n",
              "      <td>78298.000000</td>\n",
              "      <td>1.000000</td>\n",
              "    </tr>\n",
              "  </tbody>\n",
              "</table>\n",
              "</div>\n",
              "      <button class=\"colab-df-convert\" onclick=\"convertToInteractive('df-dda92605-0614-480f-94fd-7cf2546a354a')\"\n",
              "              title=\"Convert this dataframe to an interactive table.\"\n",
              "              style=\"display:none;\">\n",
              "        \n",
              "  <svg xmlns=\"http://www.w3.org/2000/svg\" height=\"24px\"viewBox=\"0 0 24 24\"\n",
              "       width=\"24px\">\n",
              "    <path d=\"M0 0h24v24H0V0z\" fill=\"none\"/>\n",
              "    <path d=\"M18.56 5.44l.94 2.06.94-2.06 2.06-.94-2.06-.94-.94-2.06-.94 2.06-2.06.94zm-11 1L8.5 8.5l.94-2.06 2.06-.94-2.06-.94L8.5 2.5l-.94 2.06-2.06.94zm10 10l.94 2.06.94-2.06 2.06-.94-2.06-.94-.94-2.06-.94 2.06-2.06.94z\"/><path d=\"M17.41 7.96l-1.37-1.37c-.4-.4-.92-.59-1.43-.59-.52 0-1.04.2-1.43.59L10.3 9.45l-7.72 7.72c-.78.78-.78 2.05 0 2.83L4 21.41c.39.39.9.59 1.41.59.51 0 1.02-.2 1.41-.59l7.78-7.78 2.81-2.81c.8-.78.8-2.07 0-2.86zM5.41 20L4 18.59l7.72-7.72 1.47 1.35L5.41 20z\"/>\n",
              "  </svg>\n",
              "      </button>\n",
              "      \n",
              "  <style>\n",
              "    .colab-df-container {\n",
              "      display:flex;\n",
              "      flex-wrap:wrap;\n",
              "      gap: 12px;\n",
              "    }\n",
              "\n",
              "    .colab-df-convert {\n",
              "      background-color: #E8F0FE;\n",
              "      border: none;\n",
              "      border-radius: 50%;\n",
              "      cursor: pointer;\n",
              "      display: none;\n",
              "      fill: #1967D2;\n",
              "      height: 32px;\n",
              "      padding: 0 0 0 0;\n",
              "      width: 32px;\n",
              "    }\n",
              "\n",
              "    .colab-df-convert:hover {\n",
              "      background-color: #E2EBFA;\n",
              "      box-shadow: 0px 1px 2px rgba(60, 64, 67, 0.3), 0px 1px 3px 1px rgba(60, 64, 67, 0.15);\n",
              "      fill: #174EA6;\n",
              "    }\n",
              "\n",
              "    [theme=dark] .colab-df-convert {\n",
              "      background-color: #3B4455;\n",
              "      fill: #D2E3FC;\n",
              "    }\n",
              "\n",
              "    [theme=dark] .colab-df-convert:hover {\n",
              "      background-color: #434B5C;\n",
              "      box-shadow: 0px 1px 3px 1px rgba(0, 0, 0, 0.15);\n",
              "      filter: drop-shadow(0px 1px 2px rgba(0, 0, 0, 0.3));\n",
              "      fill: #FFFFFF;\n",
              "    }\n",
              "  </style>\n",
              "\n",
              "      <script>\n",
              "        const buttonEl =\n",
              "          document.querySelector('#df-dda92605-0614-480f-94fd-7cf2546a354a button.colab-df-convert');\n",
              "        buttonEl.style.display =\n",
              "          google.colab.kernel.accessAllowed ? 'block' : 'none';\n",
              "\n",
              "        async function convertToInteractive(key) {\n",
              "          const element = document.querySelector('#df-dda92605-0614-480f-94fd-7cf2546a354a');\n",
              "          const dataTable =\n",
              "            await google.colab.kernel.invokeFunction('convertToInteractive',\n",
              "                                                     [key], {});\n",
              "          if (!dataTable) return;\n",
              "\n",
              "          const docLinkHtml = 'Like what you see? Visit the ' +\n",
              "            '<a target=\"_blank\" href=https://colab.research.google.com/notebooks/data_table.ipynb>data table notebook</a>'\n",
              "            + ' to learn more about interactive tables.';\n",
              "          element.innerHTML = '';\n",
              "          dataTable['output_type'] = 'display_data';\n",
              "          await google.colab.output.renderOutput(dataTable, element);\n",
              "          const docLink = document.createElement('div');\n",
              "          docLink.innerHTML = docLinkHtml;\n",
              "          element.appendChild(docLink);\n",
              "        }\n",
              "      </script>\n",
              "    </div>\n",
              "  </div>\n",
              "  "
            ]
          },
          "metadata": {},
          "execution_count": 8
        }
      ],
      "source": [
        "#Cek ditribusi semua data\n",
        "df.describe()"
      ]
    },
    {
      "cell_type": "markdown",
      "metadata": {
        "id": "PusaqNrnOxNf"
      },
      "source": [
        "Check Imbalance Data"
      ]
    },
    {
      "cell_type": "code",
      "execution_count": 9,
      "metadata": {
        "colab": {
          "base_uri": "https://localhost:8080/"
        },
        "id": "60KEntAlNypr",
        "outputId": "fa6ee3d1-283d-42f3-93bc-24933e376edf"
      },
      "outputs": [
        {
          "output_type": "execute_result",
          "data": {
            "text/plain": [
              "0    50140\n",
              "1     4668\n",
              "Name: is_promoted, dtype: int64"
            ]
          },
          "metadata": {},
          "execution_count": 9
        }
      ],
      "source": [
        "#Cek distribusi variabel dependen(target)\n",
        "df[\"is_promoted\"].value_counts()"
      ]
    },
    {
      "cell_type": "markdown",
      "metadata": {
        "id": "TAexvEqVO5Sk"
      },
      "source": [
        "\n",
        "Apa Yang Harus Kita Lakukan?\n",
        "\n",
        "Kesimpulan : Ada data value \"education\" yang bernilai Nan sebanyak 2409 baris (4,4 %) dari keseluruhan data yang ada.\n",
        "Maka kita harus:\n",
        "1. Hapus kolom employee_id terlebih dahulu karena diskrit\n",
        "2. Mengisi nan pada education dengan dengan 'modus'\n",
        "3. Encoding Nominal Data using One-Hot Enconding\n",
        "4. Encoding Ordinal Data using Mean Ordinal Encoding\n",
        "5. Samakan tipe data\n",
        "6. Handling Imbalance Data -> Melakukan Teknik SMOTE dengan Sampling"
      ]
    },
    {
      "cell_type": "markdown",
      "metadata": {
        "id": "DlO-vL09PdmD"
      },
      "source": [
        "##Unvariate Analysis"
      ]
    },
    {
      "cell_type": "markdown",
      "metadata": {
        "id": "iGaZQyXOP8hL"
      },
      "source": [
        "##Cek Masing - Masing tipe variabel"
      ]
    },
    {
      "cell_type": "markdown",
      "metadata": {
        "id": "8-QBH-oBQJOn"
      },
      "source": [
        "Employee ID"
      ]
    },
    {
      "cell_type": "code",
      "execution_count": 10,
      "metadata": {
        "colab": {
          "base_uri": "https://localhost:8080/"
        },
        "id": "E7ZcHZ8mQNa0",
        "outputId": "96600d08-27de-43fa-e421-eaf066a2f3fa"
      },
      "outputs": [
        {
          "output_type": "execute_result",
          "data": {
            "text/plain": [
              "False"
            ]
          },
          "metadata": {},
          "execution_count": 10
        }
      ],
      "source": [
        "#employee_id -> data employee_id bisa dihapus kolomnya karena bernilai diskrit(unique)\n",
        "df['employee_id'].duplicated().any()"
      ]
    },
    {
      "cell_type": "markdown",
      "metadata": {
        "id": "ErB-CjryR39W"
      },
      "source": [
        "Department"
      ]
    },
    {
      "cell_type": "code",
      "execution_count": 11,
      "metadata": {
        "colab": {
          "base_uri": "https://localhost:8080/"
        },
        "id": "Me7dAhhTR2J1",
        "outputId": "5be31001-d4dc-46f0-d98c-51d071cb0c1e"
      },
      "outputs": [
        {
          "output_type": "execute_result",
          "data": {
            "text/plain": [
              "array(['Sales & Marketing', 'Operations', 'Technology', 'Analytics',\n",
              "       'R&D', 'Procurement', 'Finance', 'HR', 'Legal'], dtype=object)"
            ]
          },
          "metadata": {},
          "execution_count": 11
        }
      ],
      "source": [
        "#department -> tipe data kategorikal nominal\n",
        "df['department'].unique()"
      ]
    },
    {
      "cell_type": "code",
      "execution_count": 12,
      "metadata": {
        "colab": {
          "base_uri": "https://localhost:8080/",
          "height": 623
        },
        "id": "RWhvIP7QTRxc",
        "outputId": "a530b48b-0710-498d-ff2a-85fdf8dd02a5"
      },
      "outputs": [
        {
          "output_type": "execute_result",
          "data": {
            "text/plain": [
              "<matplotlib.axes._subplots.AxesSubplot at 0x7f4b8df590d0>"
            ]
          },
          "metadata": {},
          "execution_count": 12
        },
        {
          "output_type": "display_data",
          "data": {
            "text/plain": [
              "<Figure size 1440x720 with 1 Axes>"
            ],
            "image/png": "[encoded data removed]"
          },
          "metadata": {
            "needs_background": "light"
          }
        }
      ],
      "source": [
        "#visualisasi data value \"department\"\n",
        "#sns.histplot(x= 'department',data=df)\n",
        "plt.figure(figsize=(20,10))\n",
        "sns.countplot(data=df, x='department')"
      ]
    },
    {
      "cell_type": "markdown",
      "metadata": {
        "id": "NdZOgx1tnyq9"
      },
      "source": [
        "Based on the bar plot above, we can see that the Sales & Marketing department is the department with the most employees.\n",
        "\n",
        "Berdasarkan diagram batang di atas, kita dapat melihat bahwa departemen Sales & Marketing adalah departemen dengan jumlah karyawan paling banyak."
      ]
    },
    {
      "cell_type": "code",
      "execution_count": 13,
      "metadata": {
        "colab": {
          "base_uri": "https://localhost:8080/"
        },
        "id": "Rkm2jaUoTwXW",
        "outputId": "a0d0f229-79b8-4472-db9f-bc79a50483b4"
      },
      "outputs": [
        {
          "output_type": "execute_result",
          "data": {
            "text/plain": [
              "Sales & Marketing    16840\n",
              "Operations           11348\n",
              "Technology            7138\n",
              "Procurement           7138\n",
              "Analytics             5352\n",
              "Finance               2536\n",
              "HR                    2418\n",
              "Legal                 1039\n",
              "R&D                    999\n",
              "Name: department, dtype: int64"
            ]
          },
          "metadata": {},
          "execution_count": 13
        }
      ],
      "source": [
        "#Cek jumlah tiap value \"department\"\n",
        "df['department'].value_counts()"
      ]
    },
    {
      "cell_type": "code",
      "source": [
        "#Rasio Tiap value Department Terhadap Target\n",
        "per_is_promoted = df.groupby(['department', 'is_promoted']).size().to_frame('Total')\n",
        "per_department = df.groupby(['department']).size().to_frame('Aggregate')\n",
        "per_is_prom_dept = per_is_promoted.join(\n",
        "    per_department,\n",
        "    on='department'\n",
        "    )\n",
        "per_is_prom_dept['Ratio'] = per_is_prom_dept['Total'] / per_is_prom_dept['Aggregate'] * 100\n",
        "per_is_prom_dept = per_is_prom_dept.reset_index()"
      ],
      "metadata": {
        "id": "GiWof948PcmD"
      },
      "execution_count": 14,
      "outputs": []
    },
    {
      "cell_type": "code",
      "source": [
        "per_is_prom_dept"
      ],
      "metadata": {
        "colab": {
          "base_uri": "https://localhost:8080/",
          "height": 614
        },
        "id": "EnNVc46cPmJu",
        "outputId": "daeed2f5-cc1d-48a4-ee48-546c12349bc1"
      },
      "execution_count": 15,
      "outputs": [
        {
          "output_type": "execute_result",
          "data": {
            "text/plain": [
              "           department  is_promoted  Total  Aggregate      Ratio\n",
              "0           Analytics            0   4840       5352  90.433483\n",
              "1           Analytics            1    512       5352   9.566517\n",
              "2             Finance            0   2330       2536  91.876972\n",
              "3             Finance            1    206       2536   8.123028\n",
              "4                  HR            0   2282       2418  94.375517\n",
              "5                  HR            1    136       2418   5.624483\n",
              "6               Legal            0    986       1039  94.898941\n",
              "7               Legal            1     53       1039   5.101059\n",
              "8          Operations            0  10325      11348  90.985196\n",
              "9          Operations            1   1023      11348   9.014804\n",
              "10        Procurement            0   6450       7138  90.361446\n",
              "11        Procurement            1    688       7138   9.638554\n",
              "12                R&D            0    930        999  93.093093\n",
              "13                R&D            1     69        999   6.906907\n",
              "14  Sales & Marketing            0  15627      16840  92.796912\n",
              "15  Sales & Marketing            1   1213      16840   7.203088\n",
              "16         Technology            0   6370       7138  89.240684\n",
              "17         Technology            1    768       7138  10.759316"
            ],
            "text/html": [
              "\n",
              "  <div id=\"df-04aba824-ae00-41e9-8045-70b37c34333a\">\n",
              "    <div class=\"colab-df-container\">\n",
              "      <div>\n",
              "<style scoped>\n",
              "    .dataframe tbody tr th:only-of-type {\n",
              "        vertical-align: middle;\n",
              "    }\n",
              "\n",
              "    .dataframe tbody tr th {\n",
              "        vertical-align: top;\n",
              "    }\n",
              "\n",
              "    .dataframe thead th {\n",
              "        text-align: right;\n",
              "    }\n",
              "</style>\n",
              "<table border=\"1\" class=\"dataframe\">\n",
              "  <thead>\n",
              "    <tr style=\"text-align: right;\">\n",
              "      <th></th>\n",
              "      <th>department</th>\n",
              "      <th>is_promoted</th>\n",
              "      <th>Total</th>\n",
              "      <th>Aggregate</th>\n",
              "      <th>Ratio</th>\n",
              "    </tr>\n",
              "  </thead>\n",
              "  <tbody>\n",
              "    <tr>\n",
              "      <th>0</th>\n",
              "      <td>Analytics</td>\n",
              "      <td>0</td>\n",
              "      <td>4840</td>\n",
              "      <td>5352</td>\n",
              "      <td>90.433483</td>\n",
              "    </tr>\n",
              "    <tr>\n",
              "      <th>1</th>\n",
              "      <td>Analytics</td>\n",
              "      <td>1</td>\n",
              "      <td>512</td>\n",
              "      <td>5352</td>\n",
              "      <td>9.566517</td>\n",
              "    </tr>\n",
              "    <tr>\n",
              "      <th>2</th>\n",
              "      <td>Finance</td>\n",
              "      <td>0</td>\n",
              "      <td>2330</td>\n",
              "      <td>2536</td>\n",
              "      <td>91.876972</td>\n",
              "    </tr>\n",
              "    <tr>\n",
              "      <th>3</th>\n",
              "      <td>Finance</td>\n",
              "      <td>1</td>\n",
              "      <td>206</td>\n",
              "      <td>2536</td>\n",
              "      <td>8.123028</td>\n",
              "    </tr>\n",
              "    <tr>\n",
              "      <th>4</th>\n",
              "      <td>HR</td>\n",
              "      <td>0</td>\n",
              "      <td>2282</td>\n",
              "      <td>2418</td>\n",
              "      <td>94.375517</td>\n",
              "    </tr>\n",
              "    <tr>\n",
              "      <th>5</th>\n",
              "      <td>HR</td>\n",
              "      <td>1</td>\n",
              "      <td>136</td>\n",
              "      <td>2418</td>\n",
              "      <td>5.624483</td>\n",
              "    </tr>\n",
              "    <tr>\n",
              "      <th>6</th>\n",
              "      <td>Legal</td>\n",
              "      <td>0</td>\n",
              "      <td>986</td>\n",
              "      <td>1039</td>\n",
              "      <td>94.898941</td>\n",
              "    </tr>\n",
              "    <tr>\n",
              "      <th>7</th>\n",
              "      <td>Legal</td>\n",
              "      <td>1</td>\n",
              "      <td>53</td>\n",
              "      <td>1039</td>\n",
              "      <td>5.101059</td>\n",
              "    </tr>\n",
              "    <tr>\n",
              "      <th>8</th>\n",
              "      <td>Operations</td>\n",
              "      <td>0</td>\n",
              "      <td>10325</td>\n",
              "      <td>11348</td>\n",
              "      <td>90.985196</td>\n",
              "    </tr>\n",
              "    <tr>\n",
              "      <th>9</th>\n",
              "      <td>Operations</td>\n",
              "      <td>1</td>\n",
              "      <td>1023</td>\n",
              "      <td>11348</td>\n",
              "      <td>9.014804</td>\n",
              "    </tr>\n",
              "    <tr>\n",
              "      <th>10</th>\n",
              "      <td>Procurement</td>\n",
              "      <td>0</td>\n",
              "      <td>6450</td>\n",
              "      <td>7138</td>\n",
              "      <td>90.361446</td>\n",
              "    </tr>\n",
              "    <tr>\n",
              "      <th>11</th>\n",
              "      <td>Procurement</td>\n",
              "      <td>1</td>\n",
              "      <td>688</td>\n",
              "      <td>7138</td>\n",
              "      <td>9.638554</td>\n",
              "    </tr>\n",
              "    <tr>\n",
              "      <th>12</th>\n",
              "      <td>R&amp;D</td>\n",
              "      <td>0</td>\n",
              "      <td>930</td>\n",
              "      <td>999</td>\n",
              "      <td>93.093093</td>\n",
              "    </tr>\n",
              "    <tr>\n",
              "      <th>13</th>\n",
              "      <td>R&amp;D</td>\n",
              "      <td>1</td>\n",
              "      <td>69</td>\n",
              "      <td>999</td>\n",
              "      <td>6.906907</td>\n",
              "    </tr>\n",
              "    <tr>\n",
              "      <th>14</th>\n",
              "      <td>Sales &amp; Marketing</td>\n",
              "      <td>0</td>\n",
              "      <td>15627</td>\n",
              "      <td>16840</td>\n",
              "      <td>92.796912</td>\n",
              "    </tr>\n",
              "    <tr>\n",
              "      <th>15</th>\n",
              "      <td>Sales &amp; Marketing</td>\n",
              "      <td>1</td>\n",
              "      <td>1213</td>\n",
              "      <td>16840</td>\n",
              "      <td>7.203088</td>\n",
              "    </tr>\n",
              "    <tr>\n",
              "      <th>16</th>\n",
              "      <td>Technology</td>\n",
              "      <td>0</td>\n",
              "      <td>6370</td>\n",
              "      <td>7138</td>\n",
              "      <td>89.240684</td>\n",
              "    </tr>\n",
              "    <tr>\n",
              "      <th>17</th>\n",
              "      <td>Technology</td>\n",
              "      <td>1</td>\n",
              "      <td>768</td>\n",
              "      <td>7138</td>\n",
              "      <td>10.759316</td>\n",
              "    </tr>\n",
              "  </tbody>\n",
              "</table>\n",
              "</div>\n",
              "      <button class=\"colab-df-convert\" onclick=\"convertToInteractive('df-04aba824-ae00-41e9-8045-70b37c34333a')\"\n",
              "              title=\"Convert this dataframe to an interactive table.\"\n",
              "              style=\"display:none;\">\n",
              "        \n",
              "  <svg xmlns=\"http://www.w3.org/2000/svg\" height=\"24px\"viewBox=\"0 0 24 24\"\n",
              "       width=\"24px\">\n",
              "    <path d=\"M0 0h24v24H0V0z\" fill=\"none\"/>\n",
              "    <path d=\"M18.56 5.44l.94 2.06.94-2.06 2.06-.94-2.06-.94-.94-2.06-.94 2.06-2.06.94zm-11 1L8.5 8.5l.94-2.06 2.06-.94-2.06-.94L8.5 2.5l-.94 2.06-2.06.94zm10 10l.94 2.06.94-2.06 2.06-.94-2.06-.94-.94-2.06-.94 2.06-2.06.94z\"/><path d=\"M17.41 7.96l-1.37-1.37c-.4-.4-.92-.59-1.43-.59-.52 0-1.04.2-1.43.59L10.3 9.45l-7.72 7.72c-.78.78-.78 2.05 0 2.83L4 21.41c.39.39.9.59 1.41.59.51 0 1.02-.2 1.41-.59l7.78-7.78 2.81-2.81c.8-.78.8-2.07 0-2.86zM5.41 20L4 18.59l7.72-7.72 1.47 1.35L5.41 20z\"/>\n",
              "  </svg>\n",
              "      </button>\n",
              "      \n",
              "  <style>\n",
              "    .colab-df-container {\n",
              "      display:flex;\n",
              "      flex-wrap:wrap;\n",
              "      gap: 12px;\n",
              "    }\n",
              "\n",
              "    .colab-df-convert {\n",
              "      background-color: #E8F0FE;\n",
              "      border: none;\n",
              "      border-radius: 50%;\n",
              "      cursor: pointer;\n",
              "      display: none;\n",
              "      fill: #1967D2;\n",
              "      height: 32px;\n",
              "      padding: 0 0 0 0;\n",
              "      width: 32px;\n",
              "    }\n",
              "\n",
              "    .colab-df-convert:hover {\n",
              "      background-color: #E2EBFA;\n",
              "      box-shadow: 0px 1px 2px rgba(60, 64, 67, 0.3), 0px 1px 3px 1px rgba(60, 64, 67, 0.15);\n",
              "      fill: #174EA6;\n",
              "    }\n",
              "\n",
              "    [theme=dark] .colab-df-convert {\n",
              "      background-color: #3B4455;\n",
              "      fill: #D2E3FC;\n",
              "    }\n",
              "\n",
              "    [theme=dark] .colab-df-convert:hover {\n",
              "      background-color: #434B5C;\n",
              "      box-shadow: 0px 1px 3px 1px rgba(0, 0, 0, 0.15);\n",
              "      filter: drop-shadow(0px 1px 2px rgba(0, 0, 0, 0.3));\n",
              "      fill: #FFFFFF;\n",
              "    }\n",
              "  </style>\n",
              "\n",
              "      <script>\n",
              "        const buttonEl =\n",
              "          document.querySelector('#df-04aba824-ae00-41e9-8045-70b37c34333a button.colab-df-convert');\n",
              "        buttonEl.style.display =\n",
              "          google.colab.kernel.accessAllowed ? 'block' : 'none';\n",
              "\n",
              "        async function convertToInteractive(key) {\n",
              "          const element = document.querySelector('#df-04aba824-ae00-41e9-8045-70b37c34333a');\n",
              "          const dataTable =\n",
              "            await google.colab.kernel.invokeFunction('convertToInteractive',\n",
              "                                                     [key], {});\n",
              "          if (!dataTable) return;\n",
              "\n",
              "          const docLinkHtml = 'Like what you see? Visit the ' +\n",
              "            '<a target=\"_blank\" href=https://colab.research.google.com/notebooks/data_table.ipynb>data table notebook</a>'\n",
              "            + ' to learn more about interactive tables.';\n",
              "          element.innerHTML = '';\n",
              "          dataTable['output_type'] = 'display_data';\n",
              "          await google.colab.output.renderOutput(dataTable, element);\n",
              "          const docLink = document.createElement('div');\n",
              "          docLink.innerHTML = docLinkHtml;\n",
              "          element.appendChild(docLink);\n",
              "        }\n",
              "      </script>\n",
              "    </div>\n",
              "  </div>\n",
              "  "
            ]
          },
          "metadata": {},
          "execution_count": 15
        }
      ]
    },
    {
      "cell_type": "code",
      "source": [
        "plt.figure(figsize=(15,5))\n",
        "sns.barplot(data=per_is_prom_dept, y='Ratio', x='department', hue='is_promoted')"
      ],
      "metadata": {
        "colab": {
          "base_uri": "https://localhost:8080/",
          "height": 351
        },
        "id": "1CCV5KDTPyyV",
        "outputId": "3cb7f8fb-f7fa-46f1-8e75-bbf5ed5dc319"
      },
      "execution_count": 16,
      "outputs": [
        {
          "output_type": "execute_result",
          "data": {
            "text/plain": [
              "<matplotlib.axes._subplots.AxesSubplot at 0x7f4b780ecd10>"
            ]
          },
          "metadata": {},
          "execution_count": 16
        },
        {
          "output_type": "display_data",
          "data": {
            "text/plain": [
              "<Figure size 1080x360 with 1 Axes>"
            ],
            "image/png": "[encoded data removed]"
          },
          "metadata": {
            "needs_background": "light"
          }
        }
      ]
    },
    {
      "cell_type": "markdown",
      "metadata": {
        "id": "il098u2YUFgA"
      },
      "source": [
        "Education"
      ]
    },
    {
      "cell_type": "code",
      "execution_count": 17,
      "metadata": {
        "colab": {
          "base_uri": "https://localhost:8080/"
        },
        "id": "Xj30AC2FUPPz",
        "outputId": "33530d8a-d0fe-43ba-c9bf-23c576c96072"
      },
      "outputs": [
        {
          "output_type": "execute_result",
          "data": {
            "text/plain": [
              "array([\"Master's & above\", \"Bachelor's\", nan, 'Below Secondary'],\n",
              "      dtype=object)"
            ]
          },
          "metadata": {},
          "execution_count": 17
        }
      ],
      "source": [
        "#Education -> tipe data kategorikal ordinal\n",
        "df['education'].unique()"
      ]
    },
    {
      "cell_type": "code",
      "execution_count": 18,
      "metadata": {
        "colab": {
          "base_uri": "https://localhost:8080/",
          "height": 351
        },
        "id": "b0rHS5zFVbt8",
        "outputId": "5df472c3-afa2-426a-a28e-be0223654b67"
      },
      "outputs": [
        {
          "output_type": "execute_result",
          "data": {
            "text/plain": [
              "<matplotlib.axes._subplots.AxesSubplot at 0x7f4b7717f450>"
            ]
          },
          "metadata": {},
          "execution_count": 18
        },
        {
          "output_type": "display_data",
          "data": {
            "text/plain": [
              "<Figure size 360x360 with 1 Axes>"
            ],
            "image/png": "[encoded data removed]"
          },
          "metadata": {
            "needs_background": "light"
          }
        }
      ],
      "source": [
        "#visualisasi data value \"education\"\n",
        "#sns.histplot(df, x = 'education')\n",
        "plt.figure(figsize=(5,5))\n",
        "sns.countplot(data=df, x='education')"
      ]
    },
    {
      "cell_type": "markdown",
      "metadata": {
        "id": "ciN3qh0Mq3xg"
      },
      "source": [
        "Based on the bar plot above, we can see that the most employees are Bachelor's education.\n",
        "\n",
        "Berdasarkan diagram batang di atas, kita dapat melihat bahwa Sarjana adalah tingkat pendidikan karyawan paling banyak."
      ]
    },
    {
      "cell_type": "code",
      "execution_count": 19,
      "metadata": {
        "colab": {
          "base_uri": "https://localhost:8080/"
        },
        "id": "m3xMhyEFVU8U",
        "outputId": "7f7c25f1-5e32-47ea-b8d5-9f27d1218ba6"
      },
      "outputs": [
        {
          "output_type": "execute_result",
          "data": {
            "text/plain": [
              "Bachelor's          36669\n",
              "Master's & above    14925\n",
              "Below Secondary       805\n",
              "Name: education, dtype: int64"
            ]
          },
          "metadata": {},
          "execution_count": 19
        }
      ],
      "source": [
        "#Cek jumlah tiap value \"education\"\n",
        "df['education'].value_counts()"
      ]
    },
    {
      "cell_type": "code",
      "source": [
        "#Rasio Tiap value Education Terhadap Target\n",
        "per_is_promoted = df.groupby(['education', 'is_promoted']).size().to_frame('Total')\n",
        "per_education = df.groupby(['education']).size().to_frame('Aggregate')\n",
        "per_is_prom_educ = per_is_promoted.join(\n",
        "    per_education,\n",
        "    on='education'\n",
        "    )\n",
        "per_is_prom_educ['Ratio'] = per_is_prom_educ['Total'] / per_is_prom_educ['Aggregate'] * 100\n",
        "per_is_prom_educ = per_is_prom_educ.reset_index()"
      ],
      "metadata": {
        "id": "F1j6MJnxQL5F"
      },
      "execution_count": 20,
      "outputs": []
    },
    {
      "cell_type": "code",
      "source": [
        "per_is_prom_educ"
      ],
      "metadata": {
        "colab": {
          "base_uri": "https://localhost:8080/",
          "height": 238
        },
        "id": "bAO3r4gsQdom",
        "outputId": "bedce8a7-3ff0-45a0-cab2-0b4879f108bd"
      },
      "execution_count": 21,
      "outputs": [
        {
          "output_type": "execute_result",
          "data": {
            "text/plain": [
              "          education  is_promoted  Total  Aggregate      Ratio\n",
              "0        Bachelor's            0  33661      36669  91.796886\n",
              "1        Bachelor's            1   3008      36669   8.203114\n",
              "2   Below Secondary            0    738        805  91.677019\n",
              "3   Below Secondary            1     67        805   8.322981\n",
              "4  Master's & above            0  13454      14925  90.144054\n",
              "5  Master's & above            1   1471      14925   9.855946"
            ],
            "text/html": [
              "\n",
              "  <div id=\"df-cade3625-2515-4b85-9cf4-9a3e274e4312\">\n",
              "    <div class=\"colab-df-container\">\n",
              "      <div>\n",
              "<style scoped>\n",
              "    .dataframe tbody tr th:only-of-type {\n",
              "        vertical-align: middle;\n",
              "    }\n",
              "\n",
              "    .dataframe tbody tr th {\n",
              "        vertical-align: top;\n",
              "    }\n",
              "\n",
              "    .dataframe thead th {\n",
              "        text-align: right;\n",
              "    }\n",
              "</style>\n",
              "<table border=\"1\" class=\"dataframe\">\n",
              "  <thead>\n",
              "    <tr style=\"text-align: right;\">\n",
              "      <th></th>\n",
              "      <th>education</th>\n",
              "      <th>is_promoted</th>\n",
              "      <th>Total</th>\n",
              "      <th>Aggregate</th>\n",
              "      <th>Ratio</th>\n",
              "    </tr>\n",
              "  </thead>\n",
              "  <tbody>\n",
              "    <tr>\n",
              "      <th>0</th>\n",
              "      <td>Bachelor's</td>\n",
              "      <td>0</td>\n",
              "      <td>33661</td>\n",
              "      <td>36669</td>\n",
              "      <td>91.796886</td>\n",
              "    </tr>\n",
              "    <tr>\n",
              "      <th>1</th>\n",
              "      <td>Bachelor's</td>\n",
              "      <td>1</td>\n",
              "      <td>3008</td>\n",
              "      <td>36669</td>\n",
              "      <td>8.203114</td>\n",
              "    </tr>\n",
              "    <tr>\n",
              "      <th>2</th>\n",
              "      <td>Below Secondary</td>\n",
              "      <td>0</td>\n",
              "      <td>738</td>\n",
              "      <td>805</td>\n",
              "      <td>91.677019</td>\n",
              "    </tr>\n",
              "    <tr>\n",
              "      <th>3</th>\n",
              "      <td>Below Secondary</td>\n",
              "      <td>1</td>\n",
              "      <td>67</td>\n",
              "      <td>805</td>\n",
              "      <td>8.322981</td>\n",
              "    </tr>\n",
              "    <tr>\n",
              "      <th>4</th>\n",
              "      <td>Master's &amp; above</td>\n",
              "      <td>0</td>\n",
              "      <td>13454</td>\n",
              "      <td>14925</td>\n",
              "      <td>90.144054</td>\n",
              "    </tr>\n",
              "    <tr>\n",
              "      <th>5</th>\n",
              "      <td>Master's &amp; above</td>\n",
              "      <td>1</td>\n",
              "      <td>1471</td>\n",
              "      <td>14925</td>\n",
              "      <td>9.855946</td>\n",
              "    </tr>\n",
              "  </tbody>\n",
              "</table>\n",
              "</div>\n",
              "      <button class=\"colab-df-convert\" onclick=\"convertToInteractive('df-cade3625-2515-4b85-9cf4-9a3e274e4312')\"\n",
              "              title=\"Convert this dataframe to an interactive table.\"\n",
              "              style=\"display:none;\">\n",
              "        \n",
              "  <svg xmlns=\"http://www.w3.org/2000/svg\" height=\"24px\"viewBox=\"0 0 24 24\"\n",
              "       width=\"24px\">\n",
              "    <path d=\"M0 0h24v24H0V0z\" fill=\"none\"/>\n",
              "    <path d=\"M18.56 5.44l.94 2.06.94-2.06 2.06-.94-2.06-.94-.94-2.06-.94 2.06-2.06.94zm-11 1L8.5 8.5l.94-2.06 2.06-.94-2.06-.94L8.5 2.5l-.94 2.06-2.06.94zm10 10l.94 2.06.94-2.06 2.06-.94-2.06-.94-.94-2.06-.94 2.06-2.06.94z\"/><path d=\"M17.41 7.96l-1.37-1.37c-.4-.4-.92-.59-1.43-.59-.52 0-1.04.2-1.43.59L10.3 9.45l-7.72 7.72c-.78.78-.78 2.05 0 2.83L4 21.41c.39.39.9.59 1.41.59.51 0 1.02-.2 1.41-.59l7.78-7.78 2.81-2.81c.8-.78.8-2.07 0-2.86zM5.41 20L4 18.59l7.72-7.72 1.47 1.35L5.41 20z\"/>\n",
              "  </svg>\n",
              "      </button>\n",
              "      \n",
              "  <style>\n",
              "    .colab-df-container {\n",
              "      display:flex;\n",
              "      flex-wrap:wrap;\n",
              "      gap: 12px;\n",
              "    }\n",
              "\n",
              "    .colab-df-convert {\n",
              "      background-color: #E8F0FE;\n",
              "      border: none;\n",
              "      border-radius: 50%;\n",
              "      cursor: pointer;\n",
              "      display: none;\n",
              "      fill: #1967D2;\n",
              "      height: 32px;\n",
              "      padding: 0 0 0 0;\n",
              "      width: 32px;\n",
              "    }\n",
              "\n",
              "    .colab-df-convert:hover {\n",
              "      background-color: #E2EBFA;\n",
              "      box-shadow: 0px 1px 2px rgba(60, 64, 67, 0.3), 0px 1px 3px 1px rgba(60, 64, 67, 0.15);\n",
              "      fill: #174EA6;\n",
              "    }\n",
              "\n",
              "    [theme=dark] .colab-df-convert {\n",
              "      background-color: #3B4455;\n",
              "      fill: #D2E3FC;\n",
              "    }\n",
              "\n",
              "    [theme=dark] .colab-df-convert:hover {\n",
              "      background-color: #434B5C;\n",
              "      box-shadow: 0px 1px 3px 1px rgba(0, 0, 0, 0.15);\n",
              "      filter: drop-shadow(0px 1px 2px rgba(0, 0, 0, 0.3));\n",
              "      fill: #FFFFFF;\n",
              "    }\n",
              "  </style>\n",
              "\n",
              "      <script>\n",
              "        const buttonEl =\n",
              "          document.querySelector('#df-cade3625-2515-4b85-9cf4-9a3e274e4312 button.colab-df-convert');\n",
              "        buttonEl.style.display =\n",
              "          google.colab.kernel.accessAllowed ? 'block' : 'none';\n",
              "\n",
              "        async function convertToInteractive(key) {\n",
              "          const element = document.querySelector('#df-cade3625-2515-4b85-9cf4-9a3e274e4312');\n",
              "          const dataTable =\n",
              "            await google.colab.kernel.invokeFunction('convertToInteractive',\n",
              "                                                     [key], {});\n",
              "          if (!dataTable) return;\n",
              "\n",
              "          const docLinkHtml = 'Like what you see? Visit the ' +\n",
              "            '<a target=\"_blank\" href=https://colab.research.google.com/notebooks/data_table.ipynb>data table notebook</a>'\n",
              "            + ' to learn more about interactive tables.';\n",
              "          element.innerHTML = '';\n",
              "          dataTable['output_type'] = 'display_data';\n",
              "          await google.colab.output.renderOutput(dataTable, element);\n",
              "          const docLink = document.createElement('div');\n",
              "          docLink.innerHTML = docLinkHtml;\n",
              "          element.appendChild(docLink);\n",
              "        }\n",
              "      </script>\n",
              "    </div>\n",
              "  </div>\n",
              "  "
            ]
          },
          "metadata": {},
          "execution_count": 21
        }
      ]
    },
    {
      "cell_type": "code",
      "source": [
        "plt.figure(figsize=(10,5))\n",
        "sns.barplot(data=per_is_prom_educ, y='Ratio', x='education', hue='is_promoted')"
      ],
      "metadata": {
        "colab": {
          "base_uri": "https://localhost:8080/",
          "height": 351
        },
        "id": "nC9GanmSQrPV",
        "outputId": "ceaaae19-8ed7-4f67-f156-8bce31cc7880"
      },
      "execution_count": 22,
      "outputs": [
        {
          "output_type": "execute_result",
          "data": {
            "text/plain": [
              "<matplotlib.axes._subplots.AxesSubplot at 0x7f4b7713ad10>"
            ]
          },
          "metadata": {},
          "execution_count": 22
        },
        {
          "output_type": "display_data",
          "data": {
            "text/plain": [
              "<Figure size 720x360 with 1 Axes>"
            ],
            "image/png": "[encoded data removed]"
          },
          "metadata": {
            "needs_background": "light"
          }
        }
      ]
    },
    {
      "cell_type": "markdown",
      "metadata": {
        "id": "75vNsnGJVnTi"
      },
      "source": [
        "Gender"
      ]
    },
    {
      "cell_type": "code",
      "execution_count": 23,
      "metadata": {
        "colab": {
          "base_uri": "https://localhost:8080/"
        },
        "id": "OvjJOF_7VxhR",
        "outputId": "b691fd23-070a-4e23-f857-cdd3dd0e9099"
      },
      "outputs": [
        {
          "output_type": "execute_result",
          "data": {
            "text/plain": [
              "array(['f', 'm'], dtype=object)"
            ]
          },
          "metadata": {},
          "execution_count": 23
        }
      ],
      "source": [
        "#Gender -> Tipe data kategorikal nominal\n",
        "df['gender'].unique()"
      ]
    },
    {
      "cell_type": "code",
      "execution_count": 24,
      "metadata": {
        "colab": {
          "base_uri": "https://localhost:8080/",
          "height": 352
        },
        "id": "1XyFrfezV8gx",
        "outputId": "ef0bf3f5-8178-4bfd-be6c-05616c69ecac"
      },
      "outputs": [
        {
          "output_type": "execute_result",
          "data": {
            "text/plain": [
              "<matplotlib.axes._subplots.AxesSubplot at 0x7f4b77194610>"
            ]
          },
          "metadata": {},
          "execution_count": 24
        },
        {
          "output_type": "display_data",
          "data": {
            "text/plain": [
              "<Figure size 360x360 with 1 Axes>"
            ],
            "image/png": "[encoded data removed]"
          },
          "metadata": {
            "needs_background": "light"
          }
        }
      ],
      "source": [
        "#visualisasi data value \"gender\"\n",
        "#sns.histplot(df, x = 'gender')\n",
        "plt.figure(figsize=(5,5))\n",
        "sns.countplot(data=df, x='gender')"
      ]
    },
    {
      "cell_type": "markdown",
      "metadata": {
        "id": "10uR5ew8rKKX"
      },
      "source": [
        "Based on the bar plot above, we can see that the most employees are Male.\n",
        "\n",
        "Berdasarkan diagram batang di atas, kita dapat melihat bahwa Male adalah Gender dengan jumlah karyawan paling banyak."
      ]
    },
    {
      "cell_type": "code",
      "execution_count": 25,
      "metadata": {
        "colab": {
          "base_uri": "https://localhost:8080/"
        },
        "id": "D6kwg75yWCl7",
        "outputId": "4d033914-842c-4bac-84e7-f29683d3e932"
      },
      "outputs": [
        {
          "output_type": "execute_result",
          "data": {
            "text/plain": [
              "m    38496\n",
              "f    16312\n",
              "Name: gender, dtype: int64"
            ]
          },
          "metadata": {},
          "execution_count": 25
        }
      ],
      "source": [
        "#Cek jumlah tiap value \"gender\"\n",
        "df['gender'].value_counts()"
      ]
    },
    {
      "cell_type": "code",
      "source": [
        "per_is_promoted = df.groupby(['gender', 'is_promoted']).size().to_frame('Total')\n",
        "per_gender = df.groupby(['gender']).size().to_frame('Aggregate')\n",
        "per_is_prom_gender = per_is_promoted.join(\n",
        "    per_gender,\n",
        "    on='gender'\n",
        "    )\n",
        "per_is_prom_gender['Ratio'] = per_is_prom_gender['Total'] / per_is_prom_gender['Aggregate'] * 100\n",
        "per_is_prom_gender = per_is_prom_gender.reset_index()"
      ],
      "metadata": {
        "id": "Q3hPBiJmSZZ2"
      },
      "execution_count": 26,
      "outputs": []
    },
    {
      "cell_type": "code",
      "source": [
        "per_is_prom_gender"
      ],
      "metadata": {
        "colab": {
          "base_uri": "https://localhost:8080/",
          "height": 175
        },
        "id": "huB_ttgaSgGU",
        "outputId": "eb7cb8c8-08b3-4865-f097-51f396a8d8e3"
      },
      "execution_count": 27,
      "outputs": [
        {
          "output_type": "execute_result",
          "data": {
            "text/plain": [
              "  gender  is_promoted  Total  Aggregate      Ratio\n",
              "0      f            0  14845      16312  91.006621\n",
              "1      f            1   1467      16312   8.993379\n",
              "2      m            0  35295      38496  91.684850\n",
              "3      m            1   3201      38496   8.315150"
            ],
            "text/html": [
              "\n",
              "  <div id=\"df-3a8e678e-63d9-46e7-a19a-8d588e7174c8\">\n",
              "    <div class=\"colab-df-container\">\n",
              "      <div>\n",
              "<style scoped>\n",
              "    .dataframe tbody tr th:only-of-type {\n",
              "        vertical-align: middle;\n",
              "    }\n",
              "\n",
              "    .dataframe tbody tr th {\n",
              "        vertical-align: top;\n",
              "    }\n",
              "\n",
              "    .dataframe thead th {\n",
              "        text-align: right;\n",
              "    }\n",
              "</style>\n",
              "<table border=\"1\" class=\"dataframe\">\n",
              "  <thead>\n",
              "    <tr style=\"text-align: right;\">\n",
              "      <th></th>\n",
              "      <th>gender</th>\n",
              "      <th>is_promoted</th>\n",
              "      <th>Total</th>\n",
              "      <th>Aggregate</th>\n",
              "      <th>Ratio</th>\n",
              "    </tr>\n",
              "  </thead>\n",
              "  <tbody>\n",
              "    <tr>\n",
              "      <th>0</th>\n",
              "      <td>f</td>\n",
              "      <td>0</td>\n",
              "      <td>14845</td>\n",
              "      <td>16312</td>\n",
              "      <td>91.006621</td>\n",
              "    </tr>\n",
              "    <tr>\n",
              "      <th>1</th>\n",
              "      <td>f</td>\n",
              "      <td>1</td>\n",
              "      <td>1467</td>\n",
              "      <td>16312</td>\n",
              "      <td>8.993379</td>\n",
              "    </tr>\n",
              "    <tr>\n",
              "      <th>2</th>\n",
              "      <td>m</td>\n",
              "      <td>0</td>\n",
              "      <td>35295</td>\n",
              "      <td>38496</td>\n",
              "      <td>91.684850</td>\n",
              "    </tr>\n",
              "    <tr>\n",
              "      <th>3</th>\n",
              "      <td>m</td>\n",
              "      <td>1</td>\n",
              "      <td>3201</td>\n",
              "      <td>38496</td>\n",
              "      <td>8.315150</td>\n",
              "    </tr>\n",
              "  </tbody>\n",
              "</table>\n",
              "</div>\n",
              "      <button class=\"colab-df-convert\" onclick=\"convertToInteractive('df-3a8e678e-63d9-46e7-a19a-8d588e7174c8')\"\n",
              "              title=\"Convert this dataframe to an interactive table.\"\n",
              "              style=\"display:none;\">\n",
              "        \n",
              "  <svg xmlns=\"http://www.w3.org/2000/svg\" height=\"24px\"viewBox=\"0 0 24 24\"\n",
              "       width=\"24px\">\n",
              "    <path d=\"M0 0h24v24H0V0z\" fill=\"none\"/>\n",
              "    <path d=\"M18.56 5.44l.94 2.06.94-2.06 2.06-.94-2.06-.94-.94-2.06-.94 2.06-2.06.94zm-11 1L8.5 8.5l.94-2.06 2.06-.94-2.06-.94L8.5 2.5l-.94 2.06-2.06.94zm10 10l.94 2.06.94-2.06 2.06-.94-2.06-.94-.94-2.06-.94 2.06-2.06.94z\"/><path d=\"M17.41 7.96l-1.37-1.37c-.4-.4-.92-.59-1.43-.59-.52 0-1.04.2-1.43.59L10.3 9.45l-7.72 7.72c-.78.78-.78 2.05 0 2.83L4 21.41c.39.39.9.59 1.41.59.51 0 1.02-.2 1.41-.59l7.78-7.78 2.81-2.81c.8-.78.8-2.07 0-2.86zM5.41 20L4 18.59l7.72-7.72 1.47 1.35L5.41 20z\"/>\n",
              "  </svg>\n",
              "      </button>\n",
              "      \n",
              "  <style>\n",
              "    .colab-df-container {\n",
              "      display:flex;\n",
              "      flex-wrap:wrap;\n",
              "      gap: 12px;\n",
              "    }\n",
              "\n",
              "    .colab-df-convert {\n",
              "      background-color: #E8F0FE;\n",
              "      border: none;\n",
              "      border-radius: 50%;\n",
              "      cursor: pointer;\n",
              "      display: none;\n",
              "      fill: #1967D2;\n",
              "      height: 32px;\n",
              "      padding: 0 0 0 0;\n",
              "      width: 32px;\n",
              "    }\n",
              "\n",
              "    .colab-df-convert:hover {\n",
              "      background-color: #E2EBFA;\n",
              "      box-shadow: 0px 1px 2px rgba(60, 64, 67, 0.3), 0px 1px 3px 1px rgba(60, 64, 67, 0.15);\n",
              "      fill: #174EA6;\n",
              "    }\n",
              "\n",
              "    [theme=dark] .colab-df-convert {\n",
              "      background-color: #3B4455;\n",
              "      fill: #D2E3FC;\n",
              "    }\n",
              "\n",
              "    [theme=dark] .colab-df-convert:hover {\n",
              "      background-color: #434B5C;\n",
              "      box-shadow: 0px 1px 3px 1px rgba(0, 0, 0, 0.15);\n",
              "      filter: drop-shadow(0px 1px 2px rgba(0, 0, 0, 0.3));\n",
              "      fill: #FFFFFF;\n",
              "    }\n",
              "  </style>\n",
              "\n",
              "      <script>\n",
              "        const buttonEl =\n",
              "          document.querySelector('#df-3a8e678e-63d9-46e7-a19a-8d588e7174c8 button.colab-df-convert');\n",
              "        buttonEl.style.display =\n",
              "          google.colab.kernel.accessAllowed ? 'block' : 'none';\n",
              "\n",
              "        async function convertToInteractive(key) {\n",
              "          const element = document.querySelector('#df-3a8e678e-63d9-46e7-a19a-8d588e7174c8');\n",
              "          const dataTable =\n",
              "            await google.colab.kernel.invokeFunction('convertToInteractive',\n",
              "                                                     [key], {});\n",
              "          if (!dataTable) return;\n",
              "\n",
              "          const docLinkHtml = 'Like what you see? Visit the ' +\n",
              "            '<a target=\"_blank\" href=https://colab.research.google.com/notebooks/data_table.ipynb>data table notebook</a>'\n",
              "            + ' to learn more about interactive tables.';\n",
              "          element.innerHTML = '';\n",
              "          dataTable['output_type'] = 'display_data';\n",
              "          await google.colab.output.renderOutput(dataTable, element);\n",
              "          const docLink = document.createElement('div');\n",
              "          docLink.innerHTML = docLinkHtml;\n",
              "          element.appendChild(docLink);\n",
              "        }\n",
              "      </script>\n",
              "    </div>\n",
              "  </div>\n",
              "  "
            ]
          },
          "metadata": {},
          "execution_count": 27
        }
      ]
    },
    {
      "cell_type": "code",
      "source": [
        "plt.figure(figsize=(6,5))\n",
        "sns.barplot(data=per_is_prom_gender, y='Ratio', x='gender', hue='is_promoted')"
      ],
      "metadata": {
        "colab": {
          "base_uri": "https://localhost:8080/",
          "height": 351
        },
        "id": "5OvwoFwEShny",
        "outputId": "7937ca9f-dd1d-4317-9c0b-9ac8791bbb9d"
      },
      "execution_count": 28,
      "outputs": [
        {
          "output_type": "execute_result",
          "data": {
            "text/plain": [
              "<matplotlib.axes._subplots.AxesSubplot at 0x7f4b76ffcb50>"
            ]
          },
          "metadata": {},
          "execution_count": 28
        },
        {
          "output_type": "display_data",
          "data": {
            "text/plain": [
              "<Figure size 432x360 with 1 Axes>"
            ],
            "image/png": "[encoded data removed]"
          },
          "metadata": {
            "needs_background": "light"
          }
        }
      ]
    },
    {
      "cell_type": "markdown",
      "metadata": {
        "id": "rCZB1S8PWg3i"
      },
      "source": [
        "recruitment_channel"
      ]
    },
    {
      "cell_type": "code",
      "execution_count": 29,
      "metadata": {
        "colab": {
          "base_uri": "https://localhost:8080/"
        },
        "id": "aklmTsaOWmvd",
        "outputId": "97e06968-d081-4c7e-e68a-fe5f10cad294"
      },
      "outputs": [
        {
          "output_type": "execute_result",
          "data": {
            "text/plain": [
              "array(['sourcing', 'other', 'referred'], dtype=object)"
            ]
          },
          "metadata": {},
          "execution_count": 29
        }
      ],
      "source": [
        "df['recruitment_channel'].unique()\n",
        "#recruitment_channel -> tipe data kategorikal nominal"
      ]
    },
    {
      "cell_type": "code",
      "execution_count": 30,
      "metadata": {
        "colab": {
          "base_uri": "https://localhost:8080/",
          "height": 352
        },
        "id": "fD0C5ISMXEAv",
        "outputId": "0af660f8-de53-45b2-acb7-f722bad05b71"
      },
      "outputs": [
        {
          "output_type": "execute_result",
          "data": {
            "text/plain": [
              "<matplotlib.axes._subplots.AxesSubplot at 0x7f4b7706b790>"
            ]
          },
          "metadata": {},
          "execution_count": 30
        },
        {
          "output_type": "display_data",
          "data": {
            "text/plain": [
              "<Figure size 432x360 with 1 Axes>"
            ],
            "image/png": "[encoded data removed]"
          },
          "metadata": {
            "needs_background": "light"
          }
        }
      ],
      "source": [
        "#visualisasi data value \"recruitment_channel\"\n",
        "#sns.histplot(df,x = \"recruitment_channel\")\n",
        "plt.figure(figsize=(6,5))\n",
        "sns.countplot(data=df, x='recruitment_channel')"
      ]
    },
    {
      "cell_type": "markdown",
      "metadata": {
        "id": "0i-BmsubrRbi"
      },
      "source": [
        "Based on the bar plot above, we can see that the most employees are Other.\n",
        "\n",
        "Berdasarkan diagram batang di atas, kita dapat melihat bahwa Lainnya adalah jalur rekrutmen dengan jumlah karyawan paling banyak."
      ]
    },
    {
      "cell_type": "code",
      "source": [
        "per_is_promoted = df.groupby(['recruitment_channel', 'is_promoted']).size().to_frame('Total')\n",
        "per_recruitment_channel = df.groupby(['recruitment_channel']).size().to_frame('Aggregate')\n",
        "per_is_prom_recr = per_is_promoted.join(\n",
        "    per_recruitment_channel,\n",
        "    on='recruitment_channel'\n",
        "    )\n",
        "per_is_prom_recr['Ratio'] = per_is_prom_recr['Total'] / per_is_prom_recr['Aggregate'] * 100\n",
        "per_is_prom_recr = per_is_prom_recr.reset_index()"
      ],
      "metadata": {
        "id": "to82xzJaTJ1U"
      },
      "execution_count": 31,
      "outputs": []
    },
    {
      "cell_type": "code",
      "source": [
        "per_is_prom_recr"
      ],
      "metadata": {
        "colab": {
          "base_uri": "https://localhost:8080/",
          "height": 238
        },
        "id": "pJ3FgL14TMDj",
        "outputId": "6511b9af-ad7f-4bb5-84e0-67f44c4685b5"
      },
      "execution_count": 32,
      "outputs": [
        {
          "output_type": "execute_result",
          "data": {
            "text/plain": [
              "  recruitment_channel  is_promoted  Total  Aggregate      Ratio\n",
              "0               other            0  27890      30446  91.604809\n",
              "1               other            1   2556      30446   8.395191\n",
              "2            referred            0   1004       1142  87.915937\n",
              "3            referred            1    138       1142  12.084063\n",
              "4            sourcing            0  21246      23220  91.498708\n",
              "5            sourcing            1   1974      23220   8.501292"
            ],
            "text/html": [
              "\n",
              "  <div id=\"df-5685fbcf-80de-4661-b7dd-0d5152098387\">\n",
              "    <div class=\"colab-df-container\">\n",
              "      <div>\n",
              "<style scoped>\n",
              "    .dataframe tbody tr th:only-of-type {\n",
              "        vertical-align: middle;\n",
              "    }\n",
              "\n",
              "    .dataframe tbody tr th {\n",
              "        vertical-align: top;\n",
              "    }\n",
              "\n",
              "    .dataframe thead th {\n",
              "        text-align: right;\n",
              "    }\n",
              "</style>\n",
              "<table border=\"1\" class=\"dataframe\">\n",
              "  <thead>\n",
              "    <tr style=\"text-align: right;\">\n",
              "      <th></th>\n",
              "      <th>recruitment_channel</th>\n",
              "      <th>is_promoted</th>\n",
              "      <th>Total</th>\n",
              "      <th>Aggregate</th>\n",
              "      <th>Ratio</th>\n",
              "    </tr>\n",
              "  </thead>\n",
              "  <tbody>\n",
              "    <tr>\n",
              "      <th>0</th>\n",
              "      <td>other</td>\n",
              "      <td>0</td>\n",
              "      <td>27890</td>\n",
              "      <td>30446</td>\n",
              "      <td>91.604809</td>\n",
              "    </tr>\n",
              "    <tr>\n",
              "      <th>1</th>\n",
              "      <td>other</td>\n",
              "      <td>1</td>\n",
              "      <td>2556</td>\n",
              "      <td>30446</td>\n",
              "      <td>8.395191</td>\n",
              "    </tr>\n",
              "    <tr>\n",
              "      <th>2</th>\n",
              "      <td>referred</td>\n",
              "      <td>0</td>\n",
              "      <td>1004</td>\n",
              "      <td>1142</td>\n",
              "      <td>87.915937</td>\n",
              "    </tr>\n",
              "    <tr>\n",
              "      <th>3</th>\n",
              "      <td>referred</td>\n",
              "      <td>1</td>\n",
              "      <td>138</td>\n",
              "      <td>1142</td>\n",
              "      <td>12.084063</td>\n",
              "    </tr>\n",
              "    <tr>\n",
              "      <th>4</th>\n",
              "      <td>sourcing</td>\n",
              "      <td>0</td>\n",
              "      <td>21246</td>\n",
              "      <td>23220</td>\n",
              "      <td>91.498708</td>\n",
              "    </tr>\n",
              "    <tr>\n",
              "      <th>5</th>\n",
              "      <td>sourcing</td>\n",
              "      <td>1</td>\n",
              "      <td>1974</td>\n",
              "      <td>23220</td>\n",
              "      <td>8.501292</td>\n",
              "    </tr>\n",
              "  </tbody>\n",
              "</table>\n",
              "</div>\n",
              "      <button class=\"colab-df-convert\" onclick=\"convertToInteractive('df-5685fbcf-80de-4661-b7dd-0d5152098387')\"\n",
              "              title=\"Convert this dataframe to an interactive table.\"\n",
              "              style=\"display:none;\">\n",
              "        \n",
              "  <svg xmlns=\"http://www.w3.org/2000/svg\" height=\"24px\"viewBox=\"0 0 24 24\"\n",
              "       width=\"24px\">\n",
              "    <path d=\"M0 0h24v24H0V0z\" fill=\"none\"/>\n",
              "    <path d=\"M18.56 5.44l.94 2.06.94-2.06 2.06-.94-2.06-.94-.94-2.06-.94 2.06-2.06.94zm-11 1L8.5 8.5l.94-2.06 2.06-.94-2.06-.94L8.5 2.5l-.94 2.06-2.06.94zm10 10l.94 2.06.94-2.06 2.06-.94-2.06-.94-.94-2.06-.94 2.06-2.06.94z\"/><path d=\"M17.41 7.96l-1.37-1.37c-.4-.4-.92-.59-1.43-.59-.52 0-1.04.2-1.43.59L10.3 9.45l-7.72 7.72c-.78.78-.78 2.05 0 2.83L4 21.41c.39.39.9.59 1.41.59.51 0 1.02-.2 1.41-.59l7.78-7.78 2.81-2.81c.8-.78.8-2.07 0-2.86zM5.41 20L4 18.59l7.72-7.72 1.47 1.35L5.41 20z\"/>\n",
              "  </svg>\n",
              "      </button>\n",
              "      \n",
              "  <style>\n",
              "    .colab-df-container {\n",
              "      display:flex;\n",
              "      flex-wrap:wrap;\n",
              "      gap: 12px;\n",
              "    }\n",
              "\n",
              "    .colab-df-convert {\n",
              "      background-color: #E8F0FE;\n",
              "      border: none;\n",
              "      border-radius: 50%;\n",
              "      cursor: pointer;\n",
              "      display: none;\n",
              "      fill: #1967D2;\n",
              "      height: 32px;\n",
              "      padding: 0 0 0 0;\n",
              "      width: 32px;\n",
              "    }\n",
              "\n",
              "    .colab-df-convert:hover {\n",
              "      background-color: #E2EBFA;\n",
              "      box-shadow: 0px 1px 2px rgba(60, 64, 67, 0.3), 0px 1px 3px 1px rgba(60, 64, 67, 0.15);\n",
              "      fill: #174EA6;\n",
              "    }\n",
              "\n",
              "    [theme=dark] .colab-df-convert {\n",
              "      background-color: #3B4455;\n",
              "      fill: #D2E3FC;\n",
              "    }\n",
              "\n",
              "    [theme=dark] .colab-df-convert:hover {\n",
              "      background-color: #434B5C;\n",
              "      box-shadow: 0px 1px 3px 1px rgba(0, 0, 0, 0.15);\n",
              "      filter: drop-shadow(0px 1px 2px rgba(0, 0, 0, 0.3));\n",
              "      fill: #FFFFFF;\n",
              "    }\n",
              "  </style>\n",
              "\n",
              "      <script>\n",
              "        const buttonEl =\n",
              "          document.querySelector('#df-5685fbcf-80de-4661-b7dd-0d5152098387 button.colab-df-convert');\n",
              "        buttonEl.style.display =\n",
              "          google.colab.kernel.accessAllowed ? 'block' : 'none';\n",
              "\n",
              "        async function convertToInteractive(key) {\n",
              "          const element = document.querySelector('#df-5685fbcf-80de-4661-b7dd-0d5152098387');\n",
              "          const dataTable =\n",
              "            await google.colab.kernel.invokeFunction('convertToInteractive',\n",
              "                                                     [key], {});\n",
              "          if (!dataTable) return;\n",
              "\n",
              "          const docLinkHtml = 'Like what you see? Visit the ' +\n",
              "            '<a target=\"_blank\" href=https://colab.research.google.com/notebooks/data_table.ipynb>data table notebook</a>'\n",
              "            + ' to learn more about interactive tables.';\n",
              "          element.innerHTML = '';\n",
              "          dataTable['output_type'] = 'display_data';\n",
              "          await google.colab.output.renderOutput(dataTable, element);\n",
              "          const docLink = document.createElement('div');\n",
              "          docLink.innerHTML = docLinkHtml;\n",
              "          element.appendChild(docLink);\n",
              "        }\n",
              "      </script>\n",
              "    </div>\n",
              "  </div>\n",
              "  "
            ]
          },
          "metadata": {},
          "execution_count": 32
        }
      ]
    },
    {
      "cell_type": "code",
      "source": [
        "plt.figure(figsize=(6,5))\n",
        "sns.barplot(data=per_is_prom_recr, y='Ratio', x='recruitment_channel', hue='is_promoted')"
      ],
      "metadata": {
        "colab": {
          "base_uri": "https://localhost:8080/",
          "height": 352
        },
        "id": "PaJBxNUmTQRE",
        "outputId": "b6755675-d134-4df1-9223-8ad61120cbfd"
      },
      "execution_count": 33,
      "outputs": [
        {
          "output_type": "execute_result",
          "data": {
            "text/plain": [
              "<matplotlib.axes._subplots.AxesSubplot at 0x7f4b77039290>"
            ]
          },
          "metadata": {},
          "execution_count": 33
        },
        {
          "output_type": "display_data",
          "data": {
            "text/plain": [
              "<Figure size 432x360 with 1 Axes>"
            ],
            "image/png": "[encoded data removed]"
          },
          "metadata": {
            "needs_background": "light"
          }
        }
      ]
    },
    {
      "cell_type": "code",
      "execution_count": 34,
      "metadata": {
        "colab": {
          "base_uri": "https://localhost:8080/"
        },
        "id": "YjtxrVuhXWqr",
        "outputId": "b2e68445-2464-43f7-d14f-59ee1953e81d"
      },
      "outputs": [
        {
          "output_type": "execute_result",
          "data": {
            "text/plain": [
              "other       30446\n",
              "sourcing    23220\n",
              "referred     1142\n",
              "Name: recruitment_channel, dtype: int64"
            ]
          },
          "metadata": {},
          "execution_count": 34
        }
      ],
      "source": [
        "#Cek jumlah tiap value \"recruitment_channel\"\n",
        "df['recruitment_channel'].value_counts()"
      ]
    },
    {
      "cell_type": "markdown",
      "metadata": {
        "id": "j12QBZ0gYuEd"
      },
      "source": [
        "Is_promoted"
      ]
    },
    {
      "cell_type": "code",
      "execution_count": 35,
      "metadata": {
        "colab": {
          "base_uri": "https://localhost:8080/"
        },
        "id": "zSid-q66Yw9a",
        "outputId": "50ebd4e5-9c6b-4237-b714-b4b9d969236d"
      },
      "outputs": [
        {
          "output_type": "execute_result",
          "data": {
            "text/plain": [
              "array([0, 1])"
            ]
          },
          "metadata": {},
          "execution_count": 35
        }
      ],
      "source": [
        "df['is_promoted'].unique()\n",
        "#is_promoted adalah variabel dependen(target)"
      ]
    },
    {
      "cell_type": "code",
      "execution_count": 36,
      "metadata": {
        "colab": {
          "base_uri": "https://localhost:8080/"
        },
        "id": "ZiY4lJyareTo",
        "outputId": "84ebfb14-fb25-4db3-9a8e-cf4bafce8582"
      },
      "outputs": [
        {
          "output_type": "execute_result",
          "data": {
            "text/plain": [
              "0    50140\n",
              "1     4668\n",
              "Name: is_promoted, dtype: int64"
            ]
          },
          "metadata": {},
          "execution_count": 36
        }
      ],
      "source": [
        "# is promoted -> target class  (output)\n",
        "df['is_promoted'].value_counts()"
      ]
    },
    {
      "cell_type": "code",
      "execution_count": 37,
      "metadata": {
        "colab": {
          "base_uri": "https://localhost:8080/"
        },
        "id": "NS1i4RXoVqZV",
        "outputId": "c8621208-8caf-477e-cb8f-0dddbadf68d1"
      },
      "outputs": [
        {
          "output_type": "stream",
          "name": "stdout",
          "text": [
            "<class 'pandas.core.frame.DataFrame'>\n",
            "Int64Index: 54808 entries, 0 to 54807\n",
            "Data columns (total 6 columns):\n",
            " #   Column               Non-Null Count  Dtype \n",
            "---  ------               --------------  ----- \n",
            " 0   employee_id          54808 non-null  int64 \n",
            " 1   department           54808 non-null  object\n",
            " 2   education            52399 non-null  object\n",
            " 3   gender               54808 non-null  object\n",
            " 4   recruitment_channel  54808 non-null  object\n",
            " 5   is_promoted          54808 non-null  int64 \n",
            "dtypes: int64(2), object(4)\n",
            "memory usage: 4.9+ MB\n"
          ]
        }
      ],
      "source": [
        "df.info()"
      ]
    },
    {
      "cell_type": "markdown",
      "metadata": {
        "id": "5MbJMJ3vVnRj"
      },
      "source": [
        "##Cek Distribusi Data"
      ]
    },
    {
      "cell_type": "code",
      "execution_count": 38,
      "metadata": {
        "colab": {
          "base_uri": "https://localhost:8080/",
          "height": 0
        },
        "id": "dhaPfeNAZeL6",
        "outputId": "6ca20f06-90a6-4a52-c5ff-2d51647e9d47"
      },
      "outputs": [
        {
          "output_type": "execute_result",
          "data": {
            "text/plain": [
              "<matplotlib.axes._subplots.AxesSubplot at 0x7f4b76f21710>"
            ]
          },
          "metadata": {},
          "execution_count": 38
        },
        {
          "output_type": "display_data",
          "data": {
            "text/plain": [
              "<Figure size 432x288 with 1 Axes>"
            ],
            "image/png": "[encoded data removed]"
          },
          "metadata": {
            "needs_background": "light"
          }
        }
      ],
      "source": [
        "sns.histplot(df, x= 'department', hue='is_promoted') \n",
        "#x adalah sumbu x -> garis horizontal\n",
        "#hue adalah sumbu z -> memperdetail visualisasi dari kolom lainnya"
      ]
    },
    {
      "cell_type": "markdown",
      "metadata": {
        "id": "RncIK5fWccbm"
      },
      "source": [
        "Merge untuk Melihat Rasio\n"
      ]
    },
    {
      "cell_type": "code",
      "execution_count": 39,
      "metadata": {
        "colab": {
          "base_uri": "https://localhost:8080/",
          "height": 0
        },
        "id": "sZEos0M2cfsP",
        "outputId": "34b62cd8-9197-4e56-8663-b6efa87ed1fc"
      },
      "outputs": [
        {
          "output_type": "execute_result",
          "data": {
            "text/plain": [
              "           department  is_promoted  total  total_all      ratio\n",
              "0           Analytics            0   4840       5352   1.105785\n",
              "1           Analytics            1    512       5352  10.453125\n",
              "2             Finance            0   2330       2536   1.088412\n",
              "3             Finance            1    206       2536  12.310680\n",
              "4                  HR            0   2282       2418   1.059597\n",
              "5                  HR            1    136       2418  17.779412\n",
              "6               Legal            0    986       1039   1.053753\n",
              "7               Legal            1     53       1039  19.603774\n",
              "8          Operations            0  10325      11348   1.099080\n",
              "9          Operations            1   1023      11348  11.092864\n",
              "10        Procurement            0   6450       7138   1.106667\n",
              "11        Procurement            1    688       7138  10.375000\n",
              "12                R&D            0    930        999   1.074194\n",
              "13                R&D            1     69        999  14.478261\n",
              "14  Sales & Marketing            0  15627      16840   1.077622\n",
              "15  Sales & Marketing            1   1213      16840  13.882935\n",
              "16         Technology            0   6370       7138   1.120565\n",
              "17         Technology            1    768       7138   9.294271"
            ],
            "text/html": [
              "\n",
              "  <div id=\"df-86222156-de1c-4056-b046-2dbf8ba199d9\">\n",
              "    <div class=\"colab-df-container\">\n",
              "      <div>\n",
              "<style scoped>\n",
              "    .dataframe tbody tr th:only-of-type {\n",
              "        vertical-align: middle;\n",
              "    }\n",
              "\n",
              "    .dataframe tbody tr th {\n",
              "        vertical-align: top;\n",
              "    }\n",
              "\n",
              "    .dataframe thead th {\n",
              "        text-align: right;\n",
              "    }\n",
              "</style>\n",
              "<table border=\"1\" class=\"dataframe\">\n",
              "  <thead>\n",
              "    <tr style=\"text-align: right;\">\n",
              "      <th></th>\n",
              "      <th>department</th>\n",
              "      <th>is_promoted</th>\n",
              "      <th>total</th>\n",
              "      <th>total_all</th>\n",
              "      <th>ratio</th>\n",
              "    </tr>\n",
              "  </thead>\n",
              "  <tbody>\n",
              "    <tr>\n",
              "      <th>0</th>\n",
              "      <td>Analytics</td>\n",
              "      <td>0</td>\n",
              "      <td>4840</td>\n",
              "      <td>5352</td>\n",
              "      <td>1.105785</td>\n",
              "    </tr>\n",
              "    <tr>\n",
              "      <th>1</th>\n",
              "      <td>Analytics</td>\n",
              "      <td>1</td>\n",
              "      <td>512</td>\n",
              "      <td>5352</td>\n",
              "      <td>10.453125</td>\n",
              "    </tr>\n",
              "    <tr>\n",
              "      <th>2</th>\n",
              "      <td>Finance</td>\n",
              "      <td>0</td>\n",
              "      <td>2330</td>\n",
              "      <td>2536</td>\n",
              "      <td>1.088412</td>\n",
              "    </tr>\n",
              "    <tr>\n",
              "      <th>3</th>\n",
              "      <td>Finance</td>\n",
              "      <td>1</td>\n",
              "      <td>206</td>\n",
              "      <td>2536</td>\n",
              "      <td>12.310680</td>\n",
              "    </tr>\n",
              "    <tr>\n",
              "      <th>4</th>\n",
              "      <td>HR</td>\n",
              "      <td>0</td>\n",
              "      <td>2282</td>\n",
              "      <td>2418</td>\n",
              "      <td>1.059597</td>\n",
              "    </tr>\n",
              "    <tr>\n",
              "      <th>5</th>\n",
              "      <td>HR</td>\n",
              "      <td>1</td>\n",
              "      <td>136</td>\n",
              "      <td>2418</td>\n",
              "      <td>17.779412</td>\n",
              "    </tr>\n",
              "    <tr>\n",
              "      <th>6</th>\n",
              "      <td>Legal</td>\n",
              "      <td>0</td>\n",
              "      <td>986</td>\n",
              "      <td>1039</td>\n",
              "      <td>1.053753</td>\n",
              "    </tr>\n",
              "    <tr>\n",
              "      <th>7</th>\n",
              "      <td>Legal</td>\n",
              "      <td>1</td>\n",
              "      <td>53</td>\n",
              "      <td>1039</td>\n",
              "      <td>19.603774</td>\n",
              "    </tr>\n",
              "    <tr>\n",
              "      <th>8</th>\n",
              "      <td>Operations</td>\n",
              "      <td>0</td>\n",
              "      <td>10325</td>\n",
              "      <td>11348</td>\n",
              "      <td>1.099080</td>\n",
              "    </tr>\n",
              "    <tr>\n",
              "      <th>9</th>\n",
              "      <td>Operations</td>\n",
              "      <td>1</td>\n",
              "      <td>1023</td>\n",
              "      <td>11348</td>\n",
              "      <td>11.092864</td>\n",
              "    </tr>\n",
              "    <tr>\n",
              "      <th>10</th>\n",
              "      <td>Procurement</td>\n",
              "      <td>0</td>\n",
              "      <td>6450</td>\n",
              "      <td>7138</td>\n",
              "      <td>1.106667</td>\n",
              "    </tr>\n",
              "    <tr>\n",
              "      <th>11</th>\n",
              "      <td>Procurement</td>\n",
              "      <td>1</td>\n",
              "      <td>688</td>\n",
              "      <td>7138</td>\n",
              "      <td>10.375000</td>\n",
              "    </tr>\n",
              "    <tr>\n",
              "      <th>12</th>\n",
              "      <td>R&amp;D</td>\n",
              "      <td>0</td>\n",
              "      <td>930</td>\n",
              "      <td>999</td>\n",
              "      <td>1.074194</td>\n",
              "    </tr>\n",
              "    <tr>\n",
              "      <th>13</th>\n",
              "      <td>R&amp;D</td>\n",
              "      <td>1</td>\n",
              "      <td>69</td>\n",
              "      <td>999</td>\n",
              "      <td>14.478261</td>\n",
              "    </tr>\n",
              "    <tr>\n",
              "      <th>14</th>\n",
              "      <td>Sales &amp; Marketing</td>\n",
              "      <td>0</td>\n",
              "      <td>15627</td>\n",
              "      <td>16840</td>\n",
              "      <td>1.077622</td>\n",
              "    </tr>\n",
              "    <tr>\n",
              "      <th>15</th>\n",
              "      <td>Sales &amp; Marketing</td>\n",
              "      <td>1</td>\n",
              "      <td>1213</td>\n",
              "      <td>16840</td>\n",
              "      <td>13.882935</td>\n",
              "    </tr>\n",
              "    <tr>\n",
              "      <th>16</th>\n",
              "      <td>Technology</td>\n",
              "      <td>0</td>\n",
              "      <td>6370</td>\n",
              "      <td>7138</td>\n",
              "      <td>1.120565</td>\n",
              "    </tr>\n",
              "    <tr>\n",
              "      <th>17</th>\n",
              "      <td>Technology</td>\n",
              "      <td>1</td>\n",
              "      <td>768</td>\n",
              "      <td>7138</td>\n",
              "      <td>9.294271</td>\n",
              "    </tr>\n",
              "  </tbody>\n",
              "</table>\n",
              "</div>\n",
              "      <button class=\"colab-df-convert\" onclick=\"convertToInteractive('df-86222156-de1c-4056-b046-2dbf8ba199d9')\"\n",
              "              title=\"Convert this dataframe to an interactive table.\"\n",
              "              style=\"display:none;\">\n",
              "        \n",
              "  <svg xmlns=\"http://www.w3.org/2000/svg\" height=\"24px\"viewBox=\"0 0 24 24\"\n",
              "       width=\"24px\">\n",
              "    <path d=\"M0 0h24v24H0V0z\" fill=\"none\"/>\n",
              "    <path d=\"M18.56 5.44l.94 2.06.94-2.06 2.06-.94-2.06-.94-.94-2.06-.94 2.06-2.06.94zm-11 1L8.5 8.5l.94-2.06 2.06-.94-2.06-.94L8.5 2.5l-.94 2.06-2.06.94zm10 10l.94 2.06.94-2.06 2.06-.94-2.06-.94-.94-2.06-.94 2.06-2.06.94z\"/><path d=\"M17.41 7.96l-1.37-1.37c-.4-.4-.92-.59-1.43-.59-.52 0-1.04.2-1.43.59L10.3 9.45l-7.72 7.72c-.78.78-.78 2.05 0 2.83L4 21.41c.39.39.9.59 1.41.59.51 0 1.02-.2 1.41-.59l7.78-7.78 2.81-2.81c.8-.78.8-2.07 0-2.86zM5.41 20L4 18.59l7.72-7.72 1.47 1.35L5.41 20z\"/>\n",
              "  </svg>\n",
              "      </button>\n",
              "      \n",
              "  <style>\n",
              "    .colab-df-container {\n",
              "      display:flex;\n",
              "      flex-wrap:wrap;\n",
              "      gap: 12px;\n",
              "    }\n",
              "\n",
              "    .colab-df-convert {\n",
              "      background-color: #E8F0FE;\n",
              "      border: none;\n",
              "      border-radius: 50%;\n",
              "      cursor: pointer;\n",
              "      display: none;\n",
              "      fill: #1967D2;\n",
              "      height: 32px;\n",
              "      padding: 0 0 0 0;\n",
              "      width: 32px;\n",
              "    }\n",
              "\n",
              "    .colab-df-convert:hover {\n",
              "      background-color: #E2EBFA;\n",
              "      box-shadow: 0px 1px 2px rgba(60, 64, 67, 0.3), 0px 1px 3px 1px rgba(60, 64, 67, 0.15);\n",
              "      fill: #174EA6;\n",
              "    }\n",
              "\n",
              "    [theme=dark] .colab-df-convert {\n",
              "      background-color: #3B4455;\n",
              "      fill: #D2E3FC;\n",
              "    }\n",
              "\n",
              "    [theme=dark] .colab-df-convert:hover {\n",
              "      background-color: #434B5C;\n",
              "      box-shadow: 0px 1px 3px 1px rgba(0, 0, 0, 0.15);\n",
              "      filter: drop-shadow(0px 1px 2px rgba(0, 0, 0, 0.3));\n",
              "      fill: #FFFFFF;\n",
              "    }\n",
              "  </style>\n",
              "\n",
              "      <script>\n",
              "        const buttonEl =\n",
              "          document.querySelector('#df-86222156-de1c-4056-b046-2dbf8ba199d9 button.colab-df-convert');\n",
              "        buttonEl.style.display =\n",
              "          google.colab.kernel.accessAllowed ? 'block' : 'none';\n",
              "\n",
              "        async function convertToInteractive(key) {\n",
              "          const element = document.querySelector('#df-86222156-de1c-4056-b046-2dbf8ba199d9');\n",
              "          const dataTable =\n",
              "            await google.colab.kernel.invokeFunction('convertToInteractive',\n",
              "                                                     [key], {});\n",
              "          if (!dataTable) return;\n",
              "\n",
              "          const docLinkHtml = 'Like what you see? Visit the ' +\n",
              "            '<a target=\"_blank\" href=https://colab.research.google.com/notebooks/data_table.ipynb>data table notebook</a>'\n",
              "            + ' to learn more about interactive tables.';\n",
              "          element.innerHTML = '';\n",
              "          dataTable['output_type'] = 'display_data';\n",
              "          await google.colab.output.renderOutput(dataTable, element);\n",
              "          const docLink = document.createElement('div');\n",
              "          docLink.innerHTML = docLinkHtml;\n",
              "          element.appendChild(docLink);\n",
              "        }\n",
              "      </script>\n",
              "    </div>\n",
              "  </div>\n",
              "  "
            ]
          },
          "metadata": {},
          "execution_count": 39
        }
      ],
      "source": [
        "#Gunakan merge untuk lihat rasio masing value \"department\"\n",
        "\n",
        "per_is_promoted = df.groupby(['department', 'is_promoted']).size().to_frame('total').reset_index()\n",
        "per_deparment = df.groupby(['department']).size().to_frame('total_all').reset_index()\n",
        "\n",
        "merged = per_is_promoted.merge(\n",
        "per_deparment,\n",
        "on='department')\n",
        "\n",
        "merged['ratio'] = merged['total_all'] / merged['total']\n",
        "merged"
      ]
    },
    {
      "cell_type": "code",
      "execution_count": 40,
      "metadata": {
        "colab": {
          "base_uri": "https://localhost:8080/",
          "height": 0
        },
        "id": "mPf1562QdBIV",
        "outputId": "c7f8a6fd-604b-4804-beeb-c49f936da8cb"
      },
      "outputs": [
        {
          "output_type": "execute_result",
          "data": {
            "text/plain": [
              "<matplotlib.axes._subplots.AxesSubplot at 0x7f4b76e15bd0>"
            ]
          },
          "metadata": {},
          "execution_count": 40
        },
        {
          "output_type": "display_data",
          "data": {
            "text/plain": [
              "<Figure size 720x360 with 1 Axes>"
            ],
            "image/png": "[encoded data removed]"
          },
          "metadata": {
            "needs_background": "light"
          }
        }
      ],
      "source": [
        "#Visualisasi Data Rasio antara department dan is_promoted\n",
        "fig, ax = plt.subplots(figsize=(10, 5))\n",
        "sns.barplot(data=merged, y ='ratio' , hue = 'is_promoted', x = 'department')"
      ]
    },
    {
      "cell_type": "markdown",
      "metadata": {
        "id": "e7cGhDeew6ki"
      },
      "source": [
        "#Data Preparation"
      ]
    },
    {
      "cell_type": "markdown",
      "metadata": {
        "id": "1nhoqWpmxBLK"
      },
      "source": [
        "##Data Cleansing"
      ]
    },
    {
      "cell_type": "markdown",
      "metadata": {
        "id": "ug_qOiOTfCUP"
      },
      "source": [
        "###Feature Engineering\n",
        "\n",
        "Fungsi :\n",
        "1.   ***Menambah atau membuang feature***, pilih feature yang signifikan mempengaruhi nilai akhir.\n",
        "2.   ***One-hot encoding***, cara mempresentasikan data tipe kategori sebagai numeric dimana dapat dipahami model machine learning.\n",
        "3.  ***Menggabungkan beberapa fitur menjadi 1 fitur***, agar model lebih  simple. Contoh, ukuran panjang dan lebar tanah, maka cukup digabungkan menjadi 1 fitur saja, yaitu luas tanah yang merupakan perhitungan dari panjang x lebar yang digunakan.\n",
        "4. **Binning**, mengganti angka numerical menjadi kategori yang lebih luas, agar model lebih simple. Contoh, data ukuran kolam renang, diubah menjadi boolean, True jika ada kolam renang, dan False jika tidak ada."
      ]
    },
    {
      "cell_type": "markdown",
      "source": [
        "Drop/Menghapus Variabel yang Distrik"
      ],
      "metadata": {
        "id": "pdmFYkyZUcaE"
      }
    },
    {
      "cell_type": "code",
      "execution_count": 41,
      "metadata": {
        "id": "g5u7AiGzftC5"
      },
      "outputs": [],
      "source": [
        "#Membuang fitur employee_id karena bernilai numerikal district(unique)\n",
        "df = df.drop(['employee_id'], 1)"
      ]
    },
    {
      "cell_type": "markdown",
      "metadata": {
        "id": "DgfzwkyqiDrR"
      },
      "source": [
        "Cek Missing Value"
      ]
    },
    {
      "cell_type": "code",
      "execution_count": 42,
      "metadata": {
        "colab": {
          "base_uri": "https://localhost:8080/",
          "height": 0
        },
        "id": "8MJCxfzaiIGw",
        "outputId": "9b719865-6395-4fd5-d84d-e0f50f77901b"
      },
      "outputs": [
        {
          "output_type": "execute_result",
          "data": {
            "text/plain": [
              "              department education gender recruitment_channel  is_promoted\n",
              "10            Technology       NaN      m            sourcing            0\n",
              "21            Operations       NaN      m            sourcing            0\n",
              "32     Sales & Marketing       NaN      f            sourcing            0\n",
              "43     Sales & Marketing       NaN      m               other            0\n",
              "82     Sales & Marketing       NaN      m            sourcing            0\n",
              "...                  ...       ...    ...                 ...          ...\n",
              "54692  Sales & Marketing       NaN      f            sourcing            0\n",
              "54717          Analytics       NaN      m            sourcing            0\n",
              "54729                 HR       NaN      f               other            0\n",
              "54742  Sales & Marketing       NaN      m               other            0\n",
              "54806  Sales & Marketing       NaN      m            sourcing            0\n",
              "\n",
              "[2409 rows x 5 columns]"
            ],
            "text/html": [
              "\n",
              "  <div id=\"df-12df9983-cdc0-4511-8792-b9b64cf1dd97\">\n",
              "    <div class=\"colab-df-container\">\n",
              "      <div>\n",
              "<style scoped>\n",
              "    .dataframe tbody tr th:only-of-type {\n",
              "        vertical-align: middle;\n",
              "    }\n",
              "\n",
              "    .dataframe tbody tr th {\n",
              "        vertical-align: top;\n",
              "    }\n",
              "\n",
              "    .dataframe thead th {\n",
              "        text-align: right;\n",
              "    }\n",
              "</style>\n",
              "<table border=\"1\" class=\"dataframe\">\n",
              "  <thead>\n",
              "    <tr style=\"text-align: right;\">\n",
              "      <th></th>\n",
              "      <th>department</th>\n",
              "      <th>education</th>\n",
              "      <th>gender</th>\n",
              "      <th>recruitment_channel</th>\n",
              "      <th>is_promoted</th>\n",
              "    </tr>\n",
              "  </thead>\n",
              "  <tbody>\n",
              "    <tr>\n",
              "      <th>10</th>\n",
              "      <td>Technology</td>\n",
              "      <td>NaN</td>\n",
              "      <td>m</td>\n",
              "      <td>sourcing</td>\n",
              "      <td>0</td>\n",
              "    </tr>\n",
              "    <tr>\n",
              "      <th>21</th>\n",
              "      <td>Operations</td>\n",
              "      <td>NaN</td>\n",
              "      <td>m</td>\n",
              "      <td>sourcing</td>\n",
              "      <td>0</td>\n",
              "    </tr>\n",
              "    <tr>\n",
              "      <th>32</th>\n",
              "      <td>Sales &amp; Marketing</td>\n",
              "      <td>NaN</td>\n",
              "      <td>f</td>\n",
              "      <td>sourcing</td>\n",
              "      <td>0</td>\n",
              "    </tr>\n",
              "    <tr>\n",
              "      <th>43</th>\n",
              "      <td>Sales &amp; Marketing</td>\n",
              "      <td>NaN</td>\n",
              "      <td>m</td>\n",
              "      <td>other</td>\n",
              "      <td>0</td>\n",
              "    </tr>\n",
              "    <tr>\n",
              "      <th>82</th>\n",
              "      <td>Sales &amp; Marketing</td>\n",
              "      <td>NaN</td>\n",
              "      <td>m</td>\n",
              "      <td>sourcing</td>\n",
              "      <td>0</td>\n",
              "    </tr>\n",
              "    <tr>\n",
              "      <th>...</th>\n",
              "      <td>...</td>\n",
              "      <td>...</td>\n",
              "      <td>...</td>\n",
              "      <td>...</td>\n",
              "      <td>...</td>\n",
              "    </tr>\n",
              "    <tr>\n",
              "      <th>54692</th>\n",
              "      <td>Sales &amp; Marketing</td>\n",
              "      <td>NaN</td>\n",
              "      <td>f</td>\n",
              "      <td>sourcing</td>\n",
              "      <td>0</td>\n",
              "    </tr>\n",
              "    <tr>\n",
              "      <th>54717</th>\n",
              "      <td>Analytics</td>\n",
              "      <td>NaN</td>\n",
              "      <td>m</td>\n",
              "      <td>sourcing</td>\n",
              "      <td>0</td>\n",
              "    </tr>\n",
              "    <tr>\n",
              "      <th>54729</th>\n",
              "      <td>HR</td>\n",
              "      <td>NaN</td>\n",
              "      <td>f</td>\n",
              "      <td>other</td>\n",
              "      <td>0</td>\n",
              "    </tr>\n",
              "    <tr>\n",
              "      <th>54742</th>\n",
              "      <td>Sales &amp; Marketing</td>\n",
              "      <td>NaN</td>\n",
              "      <td>m</td>\n",
              "      <td>other</td>\n",
              "      <td>0</td>\n",
              "    </tr>\n",
              "    <tr>\n",
              "      <th>54806</th>\n",
              "      <td>Sales &amp; Marketing</td>\n",
              "      <td>NaN</td>\n",
              "      <td>m</td>\n",
              "      <td>sourcing</td>\n",
              "      <td>0</td>\n",
              "    </tr>\n",
              "  </tbody>\n",
              "</table>\n",
              "<p>2409 rows × 5 columns</p>\n",
              "</div>\n",
              "      <button class=\"colab-df-convert\" onclick=\"convertToInteractive('df-12df9983-cdc0-4511-8792-b9b64cf1dd97')\"\n",
              "              title=\"Convert this dataframe to an interactive table.\"\n",
              "              style=\"display:none;\">\n",
              "        \n",
              "  <svg xmlns=\"http://www.w3.org/2000/svg\" height=\"24px\"viewBox=\"0 0 24 24\"\n",
              "       width=\"24px\">\n",
              "    <path d=\"M0 0h24v24H0V0z\" fill=\"none\"/>\n",
              "    <path d=\"M18.56 5.44l.94 2.06.94-2.06 2.06-.94-2.06-.94-.94-2.06-.94 2.06-2.06.94zm-11 1L8.5 8.5l.94-2.06 2.06-.94-2.06-.94L8.5 2.5l-.94 2.06-2.06.94zm10 10l.94 2.06.94-2.06 2.06-.94-2.06-.94-.94-2.06-.94 2.06-2.06.94z\"/><path d=\"M17.41 7.96l-1.37-1.37c-.4-.4-.92-.59-1.43-.59-.52 0-1.04.2-1.43.59L10.3 9.45l-7.72 7.72c-.78.78-.78 2.05 0 2.83L4 21.41c.39.39.9.59 1.41.59.51 0 1.02-.2 1.41-.59l7.78-7.78 2.81-2.81c.8-.78.8-2.07 0-2.86zM5.41 20L4 18.59l7.72-7.72 1.47 1.35L5.41 20z\"/>\n",
              "  </svg>\n",
              "      </button>\n",
              "      \n",
              "  <style>\n",
              "    .colab-df-container {\n",
              "      display:flex;\n",
              "      flex-wrap:wrap;\n",
              "      gap: 12px;\n",
              "    }\n",
              "\n",
              "    .colab-df-convert {\n",
              "      background-color: #E8F0FE;\n",
              "      border: none;\n",
              "      border-radius: 50%;\n",
              "      cursor: pointer;\n",
              "      display: none;\n",
              "      fill: #1967D2;\n",
              "      height: 32px;\n",
              "      padding: 0 0 0 0;\n",
              "      width: 32px;\n",
              "    }\n",
              "\n",
              "    .colab-df-convert:hover {\n",
              "      background-color: #E2EBFA;\n",
              "      box-shadow: 0px 1px 2px rgba(60, 64, 67, 0.3), 0px 1px 3px 1px rgba(60, 64, 67, 0.15);\n",
              "      fill: #174EA6;\n",
              "    }\n",
              "\n",
              "    [theme=dark] .colab-df-convert {\n",
              "      background-color: #3B4455;\n",
              "      fill: #D2E3FC;\n",
              "    }\n",
              "\n",
              "    [theme=dark] .colab-df-convert:hover {\n",
              "      background-color: #434B5C;\n",
              "      box-shadow: 0px 1px 3px 1px rgba(0, 0, 0, 0.15);\n",
              "      filter: drop-shadow(0px 1px 2px rgba(0, 0, 0, 0.3));\n",
              "      fill: #FFFFFF;\n",
              "    }\n",
              "  </style>\n",
              "\n",
              "      <script>\n",
              "        const buttonEl =\n",
              "          document.querySelector('#df-12df9983-cdc0-4511-8792-b9b64cf1dd97 button.colab-df-convert');\n",
              "        buttonEl.style.display =\n",
              "          google.colab.kernel.accessAllowed ? 'block' : 'none';\n",
              "\n",
              "        async function convertToInteractive(key) {\n",
              "          const element = document.querySelector('#df-12df9983-cdc0-4511-8792-b9b64cf1dd97');\n",
              "          const dataTable =\n",
              "            await google.colab.kernel.invokeFunction('convertToInteractive',\n",
              "                                                     [key], {});\n",
              "          if (!dataTable) return;\n",
              "\n",
              "          const docLinkHtml = 'Like what you see? Visit the ' +\n",
              "            '<a target=\"_blank\" href=https://colab.research.google.com/notebooks/data_table.ipynb>data table notebook</a>'\n",
              "            + ' to learn more about interactive tables.';\n",
              "          element.innerHTML = '';\n",
              "          dataTable['output_type'] = 'display_data';\n",
              "          await google.colab.output.renderOutput(dataTable, element);\n",
              "          const docLink = document.createElement('div');\n",
              "          docLink.innerHTML = docLinkHtml;\n",
              "          element.appendChild(docLink);\n",
              "        }\n",
              "      </script>\n",
              "    </div>\n",
              "  </div>\n",
              "  "
            ]
          },
          "metadata": {},
          "execution_count": 42
        }
      ],
      "source": [
        "#Melihat data value education yang NaN\n",
        "df[df['education'].isna()]"
      ]
    },
    {
      "cell_type": "code",
      "execution_count": 43,
      "metadata": {
        "colab": {
          "base_uri": "https://localhost:8080/"
        },
        "id": "mfzZ7ZMljqqb",
        "outputId": "dd41557f-3424-4f9d-e4b9-4d4cd88092fb"
      },
      "outputs": [
        {
          "output_type": "execute_result",
          "data": {
            "text/plain": [
              "4.395504141882276"
            ]
          },
          "metadata": {},
          "execution_count": 43
        }
      ],
      "source": [
        "#persentase missing value \"education\"\n",
        "2409/54806 *100\n",
        "#tidak perlu kita hapus karena terlalu berpengaruh sekitar 4,4 %\n",
        "#Karena value \"education\" bertipe kategorik, maka kita akan mengisi value Nan dengan modus (value yang paling banyak)"
      ]
    },
    {
      "cell_type": "code",
      "execution_count": 44,
      "metadata": {
        "colab": {
          "base_uri": "https://localhost:8080/"
        },
        "id": "VnGL5GAovb7p",
        "outputId": "52afe212-f231-4f34-8cf8-119904c55d9f"
      },
      "outputs": [
        {
          "output_type": "execute_result",
          "data": {
            "text/plain": [
              "Bachelor's          36669\n",
              "Master's & above    14925\n",
              "Below Secondary       805\n",
              "Name: education, dtype: int64"
            ]
          },
          "metadata": {},
          "execution_count": 44
        }
      ],
      "source": [
        "df['education'].value_counts()"
      ]
    },
    {
      "cell_type": "markdown",
      "metadata": {
        "id": "fT6hXHhmkdpn"
      },
      "source": [
        "Handle missing value\n",
        "Fungsi :\n",
        "Mengisi variabel Nan pada kolom yang kosong pada variabel Education dengan menggunakan modus"
      ]
    },
    {
      "cell_type": "code",
      "execution_count": 45,
      "metadata": {
        "colab": {
          "base_uri": "https://localhost:8080/"
        },
        "id": "o2Jcattvkkqc",
        "outputId": "42c27eb3-0a88-4af4-af16-b3b9e86e4dff"
      },
      "outputs": [
        {
          "output_type": "execute_result",
          "data": {
            "text/plain": [
              "0        Master's & above\n",
              "1              Bachelor's\n",
              "2              Bachelor's\n",
              "3              Bachelor's\n",
              "4              Bachelor's\n",
              "               ...       \n",
              "54803          Bachelor's\n",
              "54804    Master's & above\n",
              "54805          Bachelor's\n",
              "54806          Bachelor's\n",
              "54807          Bachelor's\n",
              "Name: education, Length: 54808, dtype: object"
            ]
          },
          "metadata": {},
          "execution_count": 45
        }
      ],
      "source": [
        "#Handling missing value \"Education\" with mode \n",
        "df['education'] = df['education'].fillna(df['education'].mode()[0])\n",
        "df['education']\n",
        "#Menghapus kolom yang mempunyai missing value pada \"education\"\n",
        "#df[~df['education'].isna()]"
      ]
    },
    {
      "cell_type": "code",
      "execution_count": 46,
      "metadata": {
        "colab": {
          "base_uri": "https://localhost:8080/"
        },
        "id": "Mnd94v6VkG6Z",
        "outputId": "b2323c18-8912-4790-98f2-d8c7cc280ee7"
      },
      "outputs": [
        {
          "output_type": "stream",
          "name": "stdout",
          "text": [
            "<class 'pandas.core.frame.DataFrame'>\n",
            "Int64Index: 54808 entries, 0 to 54807\n",
            "Data columns (total 5 columns):\n",
            " #   Column               Non-Null Count  Dtype \n",
            "---  ------               --------------  ----- \n",
            " 0   department           54808 non-null  object\n",
            " 1   education            54808 non-null  object\n",
            " 2   gender               54808 non-null  object\n",
            " 3   recruitment_channel  54808 non-null  object\n",
            " 4   is_promoted          54808 non-null  int64 \n",
            "dtypes: int64(1), object(4)\n",
            "memory usage: 4.5+ MB\n"
          ]
        }
      ],
      "source": [
        "#Memastikan informasi/kesamaan jumlah data\n",
        "df.info()"
      ]
    },
    {
      "cell_type": "markdown",
      "metadata": {
        "id": "fBza2f9coKkd"
      },
      "source": [
        "Sampai tahap ini Data kita sudah bersih dan data siap untuk dilakukan preprocessing karena jumlah data telah sama."
      ]
    },
    {
      "cell_type": "markdown",
      "metadata": {
        "id": "DnZ7U_5Dl9Ii"
      },
      "source": [
        "##Correlation Analysis"
      ]
    },
    {
      "cell_type": "markdown",
      "metadata": {
        "id": "1dBA0bkQmB6Q"
      },
      "source": [
        "Untuk mengetahui apakah diantara dua variabel terdapat hubungan atau tidak, dan jika ada hubungan bagaimanakah arah hubungan dan seberapa besar hubungan tersebut. Yang dimaksud adalah hubungan variabel X dan Y."
      ]
    },
    {
      "cell_type": "code",
      "execution_count": 47,
      "metadata": {
        "colab": {
          "base_uri": "https://localhost:8080/",
          "height": 0
        },
        "id": "ad0OyOIpmA4T",
        "outputId": "c017b91b-8901-4193-d4b9-b9a4c1790f86"
      },
      "outputs": [
        {
          "output_type": "execute_result",
          "data": {
            "text/plain": [
              "<matplotlib.axes._subplots.AxesSubplot at 0x7f4b76db2ad0>"
            ]
          },
          "metadata": {},
          "execution_count": 47
        },
        {
          "output_type": "display_data",
          "data": {
            "text/plain": [
              "<Figure size 432x288 with 2 Axes>"
            ],
            "image/png": "[encoded data removed]"
          },
          "metadata": {
            "needs_background": "light"
          }
        }
      ],
      "source": [
        "#karena data Imbalance, maka cek kolerasi matriks nya, jika ada yang korelasi nya diatas batas, maka bisa hapus salah satu kolom\n",
        "#correlation matrix \n",
        "# koefisien korelasi berada di Intervalnya [-1,1]\n",
        "FEATURE = ['department', 'education', 'recruitment_channel', 'gender']\n",
        "TARGET =  'is_promoted'\n",
        "sns.heatmap(df[FEATURE+[TARGET]].corr()) #membuat hubungan antara fitur dan target"
      ]
    },
    {
      "cell_type": "markdown",
      "metadata": {
        "id": "-Q88bt39ncT6"
      },
      "source": [
        "##Split Data Train and Testing"
      ]
    },
    {
      "cell_type": "markdown",
      "metadata": {
        "id": "sdZk8kCtwALc"
      },
      "source": [
        "Sekarang, kita harus membuat data split untuk data test dan data train. Di sini, kita alan menggunakan rasio 80:20 untuk data test dan data train. Dengan kata lain, kita harus menggunakan kerangka data baru.\n",
        "Metode train/test split ini akan memberikan hasil prediksi yang lebih akurat untuk new data atau data yang baru.\n",
        "\n",
        "Python memiliki library yang dapat mengimplementasikan train/test split dengan mudah yaitu Scikit-Learn. Untuk menggunakannya, kita perlu mengimport Scikit-Learn terlebih dahulu, kemudian setelah itu kita dapat menggunakan fungsi train_test_split()."
      ]
    },
    {
      "cell_type": "code",
      "execution_count": 48,
      "metadata": {
        "id": "LAKfMQAWnhHT"
      },
      "outputs": [],
      "source": [
        "from sklearn.model_selection import train_test_split"
      ]
    },
    {
      "cell_type": "markdown",
      "metadata": {
        "id": "OYX0_atgx5lL"
      },
      "source": [
        "Setelah itu kita definisikan data yang menjadi source-nya (X)  dan juga data targetnya (y). Misalnya data source-nya adalah semua kolom kecuali kolom terakhir yang di ujung sebelah kanan dataset df, sedangkan data targetnya adalah kolom paling ujung kanan dengan nama kolom “is_promoted”, maka kita dapat mendefinisikannya seperti di bawah ini."
      ]
    },
    {
      "cell_type": "code",
      "execution_count": 49,
      "metadata": {
        "id": "LORI92Bvxz-S"
      },
      "outputs": [],
      "source": [
        "#Menentukan sumbu Fitur dan Target\n",
        "FEATURE = ['department', 'education', 'recruitment_channel', 'gender']\n",
        "TARGET =  'is_promoted'\n",
        "X = df[FEATURE] #selain is_promoted\n",
        "y = df[TARGET] #is_promoted"
      ]
    },
    {
      "cell_type": "code",
      "execution_count": 50,
      "metadata": {
        "colab": {
          "base_uri": "https://localhost:8080/",
          "height": 0
        },
        "id": "HDVXTbe2x1Wx",
        "outputId": "bfab1285-c29f-451f-c66d-a88fbd76f531"
      },
      "outputs": [
        {
          "output_type": "execute_result",
          "data": {
            "text/plain": [
              "              department   education recruitment_channel gender\n",
              "14498        Procurement  Bachelor's               other      f\n",
              "31236  Sales & Marketing  Bachelor's            sourcing      f\n",
              "1312          Operations  Bachelor's               other      m\n",
              "12     Sales & Marketing  Bachelor's            sourcing      m\n",
              "42394  Sales & Marketing  Bachelor's            sourcing      m\n",
              "...                  ...         ...                 ...    ...\n",
              "8260   Sales & Marketing  Bachelor's               other      m\n",
              "24687  Sales & Marketing  Bachelor's            sourcing      m\n",
              "23322                 HR  Bachelor's               other      m\n",
              "14561                 HR  Bachelor's               other      f\n",
              "8895           Analytics  Bachelor's               other      m\n",
              "\n",
              "[43846 rows x 4 columns]"
            ],
            "text/html": [
              "\n",
              "  <div id=\"df-0d52218c-4bc6-48eb-8321-cb68d39c1ad6\">\n",
              "    <div class=\"colab-df-container\">\n",
              "      <div>\n",
              "<style scoped>\n",
              "    .dataframe tbody tr th:only-of-type {\n",
              "        vertical-align: middle;\n",
              "    }\n",
              "\n",
              "    .dataframe tbody tr th {\n",
              "        vertical-align: top;\n",
              "    }\n",
              "\n",
              "    .dataframe thead th {\n",
              "        text-align: right;\n",
              "    }\n",
              "</style>\n",
              "<table border=\"1\" class=\"dataframe\">\n",
              "  <thead>\n",
              "    <tr style=\"text-align: right;\">\n",
              "      <th></th>\n",
              "      <th>department</th>\n",
              "      <th>education</th>\n",
              "      <th>recruitment_channel</th>\n",
              "      <th>gender</th>\n",
              "    </tr>\n",
              "  </thead>\n",
              "  <tbody>\n",
              "    <tr>\n",
              "      <th>14498</th>\n",
              "      <td>Procurement</td>\n",
              "      <td>Bachelor's</td>\n",
              "      <td>other</td>\n",
              "      <td>f</td>\n",
              "    </tr>\n",
              "    <tr>\n",
              "      <th>31236</th>\n",
              "      <td>Sales &amp; Marketing</td>\n",
              "      <td>Bachelor's</td>\n",
              "      <td>sourcing</td>\n",
              "      <td>f</td>\n",
              "    </tr>\n",
              "    <tr>\n",
              "      <th>1312</th>\n",
              "      <td>Operations</td>\n",
              "      <td>Bachelor's</td>\n",
              "      <td>other</td>\n",
              "      <td>m</td>\n",
              "    </tr>\n",
              "    <tr>\n",
              "      <th>12</th>\n",
              "      <td>Sales &amp; Marketing</td>\n",
              "      <td>Bachelor's</td>\n",
              "      <td>sourcing</td>\n",
              "      <td>m</td>\n",
              "    </tr>\n",
              "    <tr>\n",
              "      <th>42394</th>\n",
              "      <td>Sales &amp; Marketing</td>\n",
              "      <td>Bachelor's</td>\n",
              "      <td>sourcing</td>\n",
              "      <td>m</td>\n",
              "    </tr>\n",
              "    <tr>\n",
              "      <th>...</th>\n",
              "      <td>...</td>\n",
              "      <td>...</td>\n",
              "      <td>...</td>\n",
              "      <td>...</td>\n",
              "    </tr>\n",
              "    <tr>\n",
              "      <th>8260</th>\n",
              "      <td>Sales &amp; Marketing</td>\n",
              "      <td>Bachelor's</td>\n",
              "      <td>other</td>\n",
              "      <td>m</td>\n",
              "    </tr>\n",
              "    <tr>\n",
              "      <th>24687</th>\n",
              "      <td>Sales &amp; Marketing</td>\n",
              "      <td>Bachelor's</td>\n",
              "      <td>sourcing</td>\n",
              "      <td>m</td>\n",
              "    </tr>\n",
              "    <tr>\n",
              "      <th>23322</th>\n",
              "      <td>HR</td>\n",
              "      <td>Bachelor's</td>\n",
              "      <td>other</td>\n",
              "      <td>m</td>\n",
              "    </tr>\n",
              "    <tr>\n",
              "      <th>14561</th>\n",
              "      <td>HR</td>\n",
              "      <td>Bachelor's</td>\n",
              "      <td>other</td>\n",
              "      <td>f</td>\n",
              "    </tr>\n",
              "    <tr>\n",
              "      <th>8895</th>\n",
              "      <td>Analytics</td>\n",
              "      <td>Bachelor's</td>\n",
              "      <td>other</td>\n",
              "      <td>m</td>\n",
              "    </tr>\n",
              "  </tbody>\n",
              "</table>\n",
              "<p>43846 rows × 4 columns</p>\n",
              "</div>\n",
              "      <button class=\"colab-df-convert\" onclick=\"convertToInteractive('df-0d52218c-4bc6-48eb-8321-cb68d39c1ad6')\"\n",
              "              title=\"Convert this dataframe to an interactive table.\"\n",
              "              style=\"display:none;\">\n",
              "        \n",
              "  <svg xmlns=\"http://www.w3.org/2000/svg\" height=\"24px\"viewBox=\"0 0 24 24\"\n",
              "       width=\"24px\">\n",
              "    <path d=\"M0 0h24v24H0V0z\" fill=\"none\"/>\n",
              "    <path d=\"M18.56 5.44l.94 2.06.94-2.06 2.06-.94-2.06-.94-.94-2.06-.94 2.06-2.06.94zm-11 1L8.5 8.5l.94-2.06 2.06-.94-2.06-.94L8.5 2.5l-.94 2.06-2.06.94zm10 10l.94 2.06.94-2.06 2.06-.94-2.06-.94-.94-2.06-.94 2.06-2.06.94z\"/><path d=\"M17.41 7.96l-1.37-1.37c-.4-.4-.92-.59-1.43-.59-.52 0-1.04.2-1.43.59L10.3 9.45l-7.72 7.72c-.78.78-.78 2.05 0 2.83L4 21.41c.39.39.9.59 1.41.59.51 0 1.02-.2 1.41-.59l7.78-7.78 2.81-2.81c.8-.78.8-2.07 0-2.86zM5.41 20L4 18.59l7.72-7.72 1.47 1.35L5.41 20z\"/>\n",
              "  </svg>\n",
              "      </button>\n",
              "      \n",
              "  <style>\n",
              "    .colab-df-container {\n",
              "      display:flex;\n",
              "      flex-wrap:wrap;\n",
              "      gap: 12px;\n",
              "    }\n",
              "\n",
              "    .colab-df-convert {\n",
              "      background-color: #E8F0FE;\n",
              "      border: none;\n",
              "      border-radius: 50%;\n",
              "      cursor: pointer;\n",
              "      display: none;\n",
              "      fill: #1967D2;\n",
              "      height: 32px;\n",
              "      padding: 0 0 0 0;\n",
              "      width: 32px;\n",
              "    }\n",
              "\n",
              "    .colab-df-convert:hover {\n",
              "      background-color: #E2EBFA;\n",
              "      box-shadow: 0px 1px 2px rgba(60, 64, 67, 0.3), 0px 1px 3px 1px rgba(60, 64, 67, 0.15);\n",
              "      fill: #174EA6;\n",
              "    }\n",
              "\n",
              "    [theme=dark] .colab-df-convert {\n",
              "      background-color: #3B4455;\n",
              "      fill: #D2E3FC;\n",
              "    }\n",
              "\n",
              "    [theme=dark] .colab-df-convert:hover {\n",
              "      background-color: #434B5C;\n",
              "      box-shadow: 0px 1px 3px 1px rgba(0, 0, 0, 0.15);\n",
              "      filter: drop-shadow(0px 1px 2px rgba(0, 0, 0, 0.3));\n",
              "      fill: #FFFFFF;\n",
              "    }\n",
              "  </style>\n",
              "\n",
              "      <script>\n",
              "        const buttonEl =\n",
              "          document.querySelector('#df-0d52218c-4bc6-48eb-8321-cb68d39c1ad6 button.colab-df-convert');\n",
              "        buttonEl.style.display =\n",
              "          google.colab.kernel.accessAllowed ? 'block' : 'none';\n",
              "\n",
              "        async function convertToInteractive(key) {\n",
              "          const element = document.querySelector('#df-0d52218c-4bc6-48eb-8321-cb68d39c1ad6');\n",
              "          const dataTable =\n",
              "            await google.colab.kernel.invokeFunction('convertToInteractive',\n",
              "                                                     [key], {});\n",
              "          if (!dataTable) return;\n",
              "\n",
              "          const docLinkHtml = 'Like what you see? Visit the ' +\n",
              "            '<a target=\"_blank\" href=https://colab.research.google.com/notebooks/data_table.ipynb>data table notebook</a>'\n",
              "            + ' to learn more about interactive tables.';\n",
              "          element.innerHTML = '';\n",
              "          dataTable['output_type'] = 'display_data';\n",
              "          await google.colab.output.renderOutput(dataTable, element);\n",
              "          const docLink = document.createElement('div');\n",
              "          docLink.innerHTML = docLinkHtml;\n",
              "          element.appendChild(docLink);\n",
              "        }\n",
              "      </script>\n",
              "    </div>\n",
              "  </div>\n",
              "  "
            ]
          },
          "metadata": {},
          "execution_count": 50
        }
      ],
      "source": [
        "X_train, X_test, y_train, y_test = train_test_split(X, y, stratify=y, test_size=0.2)\n",
        "X_train"
      ]
    },
    {
      "cell_type": "markdown",
      "metadata": {
        "id": "h_2N-LnXyjS0"
      },
      "source": [
        "*   X_train: Untuk menampung data source yang akan dilatih.\n",
        "*   X_test: Untuk menampung data target yang akan dilatih.\n",
        "*   y_train: Untuk menampung data source yang akan digunakan untuk testing.\n",
        "*   y_test: Untuk menampung data target yang akan digunakan untuk testing."
      ]
    },
    {
      "cell_type": "markdown",
      "metadata": {
        "id": "XNBVuAA7zDX5"
      },
      "source": [
        "X dan y adalah nama variabel yang digunakan saat mendefinisikan data source dan data target. Parameter test_size digunakan untuk mendefinisikan ukuran data testing. Dalam contoh di atas, test_size=0.2 berarti data yang digunakan sebagai data testing adalah sebesar 20% dari keseluruhan dataset."
      ]
    },
    {
      "cell_type": "markdown",
      "metadata": {
        "id": "n7kte7WOzK_P"
      },
      "source": [
        "Perlu diketahui bahwa metode ini akan membagi train set dan test set secara random atau acak. Jadi, jika kita mengulang proses running, maka tentunya hasil yang didapat akan berubah-ubah. Untuk mengatasinya, kita dapat menggunakan parameter random_state seperti contoh di bawah ini."
      ]
    },
    {
      "cell_type": "code",
      "execution_count": 51,
      "metadata": {
        "id": "OBXczjOAy46M"
      },
      "outputs": [],
      "source": [
        "X_train, X_test, y_train, y_test = train_test_split(X, y, test_size=0.2, random_state=3)\n",
        "#Angka yang didefinisikan pada parameter random_state boleh angka berapa saja yang berupa integer."
      ]
    },
    {
      "cell_type": "code",
      "execution_count": 52,
      "metadata": {
        "colab": {
          "base_uri": "https://localhost:8080/"
        },
        "id": "4BVBhzLP0tvp",
        "outputId": "aa658fd9-2c05-4a94-8243-7d9765e57dad"
      },
      "outputs": [
        {
          "output_type": "stream",
          "name": "stdout",
          "text": [
            "shap of X_train:  (43846, 4)\n",
            "shap of X_test:  (10962, 4)\n",
            "shap of y_train: \n",
            " 0    40094\n",
            "1     3752\n",
            "Name: is_promoted, dtype: int64\n",
            "shap of y_test: \n",
            " 0    10046\n",
            "1      916\n",
            "Name: is_promoted, dtype: int64\n"
          ]
        }
      ],
      "source": [
        "print(\"shap of X_train: \", X_train.shape)\n",
        "print(\"shap of X_test: \", X_test.shape)\n",
        "print(\"shap of y_train: \\n\", y_train.value_counts())\n",
        "print(\"shap of y_test: \\n\", y_test.value_counts())"
      ]
    },
    {
      "cell_type": "code",
      "source": [
        "X_train"
      ],
      "metadata": {
        "colab": {
          "base_uri": "https://localhost:8080/",
          "height": 0
        },
        "id": "XVH8aRXNY42b",
        "outputId": "c9f0bf90-2ee5-4ae1-ceb1-33b144cb8d99"
      },
      "execution_count": 53,
      "outputs": [
        {
          "output_type": "execute_result",
          "data": {
            "text/plain": [
              "              department         education recruitment_channel gender\n",
              "5828                 R&D        Bachelor's            sourcing      m\n",
              "46029        Procurement        Bachelor's            sourcing      m\n",
              "1210                  HR  Master's & above               other      f\n",
              "19469  Sales & Marketing        Bachelor's               other      m\n",
              "26687         Operations   Below Secondary            sourcing      m\n",
              "...                  ...               ...                 ...    ...\n",
              "25544         Technology  Master's & above            sourcing      m\n",
              "48056  Sales & Marketing        Bachelor's               other      m\n",
              "11513          Analytics  Master's & above            sourcing      m\n",
              "1688   Sales & Marketing        Bachelor's               other      m\n",
              "5994          Technology        Bachelor's               other      m\n",
              "\n",
              "[43846 rows x 4 columns]"
            ],
            "text/html": [
              "\n",
              "  <div id=\"df-e840a23a-a848-4385-b9aa-12ffb29956b5\">\n",
              "    <div class=\"colab-df-container\">\n",
              "      <div>\n",
              "<style scoped>\n",
              "    .dataframe tbody tr th:only-of-type {\n",
              "        vertical-align: middle;\n",
              "    }\n",
              "\n",
              "    .dataframe tbody tr th {\n",
              "        vertical-align: top;\n",
              "    }\n",
              "\n",
              "    .dataframe thead th {\n",
              "        text-align: right;\n",
              "    }\n",
              "</style>\n",
              "<table border=\"1\" class=\"dataframe\">\n",
              "  <thead>\n",
              "    <tr style=\"text-align: right;\">\n",
              "      <th></th>\n",
              "      <th>department</th>\n",
              "      <th>education</th>\n",
              "      <th>recruitment_channel</th>\n",
              "      <th>gender</th>\n",
              "    </tr>\n",
              "  </thead>\n",
              "  <tbody>\n",
              "    <tr>\n",
              "      <th>5828</th>\n",
              "      <td>R&amp;D</td>\n",
              "      <td>Bachelor's</td>\n",
              "      <td>sourcing</td>\n",
              "      <td>m</td>\n",
              "    </tr>\n",
              "    <tr>\n",
              "      <th>46029</th>\n",
              "      <td>Procurement</td>\n",
              "      <td>Bachelor's</td>\n",
              "      <td>sourcing</td>\n",
              "      <td>m</td>\n",
              "    </tr>\n",
              "    <tr>\n",
              "      <th>1210</th>\n",
              "      <td>HR</td>\n",
              "      <td>Master's &amp; above</td>\n",
              "      <td>other</td>\n",
              "      <td>f</td>\n",
              "    </tr>\n",
              "    <tr>\n",
              "      <th>19469</th>\n",
              "      <td>Sales &amp; Marketing</td>\n",
              "      <td>Bachelor's</td>\n",
              "      <td>other</td>\n",
              "      <td>m</td>\n",
              "    </tr>\n",
              "    <tr>\n",
              "      <th>26687</th>\n",
              "      <td>Operations</td>\n",
              "      <td>Below Secondary</td>\n",
              "      <td>sourcing</td>\n",
              "      <td>m</td>\n",
              "    </tr>\n",
              "    <tr>\n",
              "      <th>...</th>\n",
              "      <td>...</td>\n",
              "      <td>...</td>\n",
              "      <td>...</td>\n",
              "      <td>...</td>\n",
              "    </tr>\n",
              "    <tr>\n",
              "      <th>25544</th>\n",
              "      <td>Technology</td>\n",
              "      <td>Master's &amp; above</td>\n",
              "      <td>sourcing</td>\n",
              "      <td>m</td>\n",
              "    </tr>\n",
              "    <tr>\n",
              "      <th>48056</th>\n",
              "      <td>Sales &amp; Marketing</td>\n",
              "      <td>Bachelor's</td>\n",
              "      <td>other</td>\n",
              "      <td>m</td>\n",
              "    </tr>\n",
              "    <tr>\n",
              "      <th>11513</th>\n",
              "      <td>Analytics</td>\n",
              "      <td>Master's &amp; above</td>\n",
              "      <td>sourcing</td>\n",
              "      <td>m</td>\n",
              "    </tr>\n",
              "    <tr>\n",
              "      <th>1688</th>\n",
              "      <td>Sales &amp; Marketing</td>\n",
              "      <td>Bachelor's</td>\n",
              "      <td>other</td>\n",
              "      <td>m</td>\n",
              "    </tr>\n",
              "    <tr>\n",
              "      <th>5994</th>\n",
              "      <td>Technology</td>\n",
              "      <td>Bachelor's</td>\n",
              "      <td>other</td>\n",
              "      <td>m</td>\n",
              "    </tr>\n",
              "  </tbody>\n",
              "</table>\n",
              "<p>43846 rows × 4 columns</p>\n",
              "</div>\n",
              "      <button class=\"colab-df-convert\" onclick=\"convertToInteractive('df-e840a23a-a848-4385-b9aa-12ffb29956b5')\"\n",
              "              title=\"Convert this dataframe to an interactive table.\"\n",
              "              style=\"display:none;\">\n",
              "        \n",
              "  <svg xmlns=\"http://www.w3.org/2000/svg\" height=\"24px\"viewBox=\"0 0 24 24\"\n",
              "       width=\"24px\">\n",
              "    <path d=\"M0 0h24v24H0V0z\" fill=\"none\"/>\n",
              "    <path d=\"M18.56 5.44l.94 2.06.94-2.06 2.06-.94-2.06-.94-.94-2.06-.94 2.06-2.06.94zm-11 1L8.5 8.5l.94-2.06 2.06-.94-2.06-.94L8.5 2.5l-.94 2.06-2.06.94zm10 10l.94 2.06.94-2.06 2.06-.94-2.06-.94-.94-2.06-.94 2.06-2.06.94z\"/><path d=\"M17.41 7.96l-1.37-1.37c-.4-.4-.92-.59-1.43-.59-.52 0-1.04.2-1.43.59L10.3 9.45l-7.72 7.72c-.78.78-.78 2.05 0 2.83L4 21.41c.39.39.9.59 1.41.59.51 0 1.02-.2 1.41-.59l7.78-7.78 2.81-2.81c.8-.78.8-2.07 0-2.86zM5.41 20L4 18.59l7.72-7.72 1.47 1.35L5.41 20z\"/>\n",
              "  </svg>\n",
              "      </button>\n",
              "      \n",
              "  <style>\n",
              "    .colab-df-container {\n",
              "      display:flex;\n",
              "      flex-wrap:wrap;\n",
              "      gap: 12px;\n",
              "    }\n",
              "\n",
              "    .colab-df-convert {\n",
              "      background-color: #E8F0FE;\n",
              "      border: none;\n",
              "      border-radius: 50%;\n",
              "      cursor: pointer;\n",
              "      display: none;\n",
              "      fill: #1967D2;\n",
              "      height: 32px;\n",
              "      padding: 0 0 0 0;\n",
              "      width: 32px;\n",
              "    }\n",
              "\n",
              "    .colab-df-convert:hover {\n",
              "      background-color: #E2EBFA;\n",
              "      box-shadow: 0px 1px 2px rgba(60, 64, 67, 0.3), 0px 1px 3px 1px rgba(60, 64, 67, 0.15);\n",
              "      fill: #174EA6;\n",
              "    }\n",
              "\n",
              "    [theme=dark] .colab-df-convert {\n",
              "      background-color: #3B4455;\n",
              "      fill: #D2E3FC;\n",
              "    }\n",
              "\n",
              "    [theme=dark] .colab-df-convert:hover {\n",
              "      background-color: #434B5C;\n",
              "      box-shadow: 0px 1px 3px 1px rgba(0, 0, 0, 0.15);\n",
              "      filter: drop-shadow(0px 1px 2px rgba(0, 0, 0, 0.3));\n",
              "      fill: #FFFFFF;\n",
              "    }\n",
              "  </style>\n",
              "\n",
              "      <script>\n",
              "        const buttonEl =\n",
              "          document.querySelector('#df-e840a23a-a848-4385-b9aa-12ffb29956b5 button.colab-df-convert');\n",
              "        buttonEl.style.display =\n",
              "          google.colab.kernel.accessAllowed ? 'block' : 'none';\n",
              "\n",
              "        async function convertToInteractive(key) {\n",
              "          const element = document.querySelector('#df-e840a23a-a848-4385-b9aa-12ffb29956b5');\n",
              "          const dataTable =\n",
              "            await google.colab.kernel.invokeFunction('convertToInteractive',\n",
              "                                                     [key], {});\n",
              "          if (!dataTable) return;\n",
              "\n",
              "          const docLinkHtml = 'Like what you see? Visit the ' +\n",
              "            '<a target=\"_blank\" href=https://colab.research.google.com/notebooks/data_table.ipynb>data table notebook</a>'\n",
              "            + ' to learn more about interactive tables.';\n",
              "          element.innerHTML = '';\n",
              "          dataTable['output_type'] = 'display_data';\n",
              "          await google.colab.output.renderOutput(dataTable, element);\n",
              "          const docLink = document.createElement('div');\n",
              "          docLink.innerHTML = docLinkHtml;\n",
              "          element.appendChild(docLink);\n",
              "        }\n",
              "      </script>\n",
              "    </div>\n",
              "  </div>\n",
              "  "
            ]
          },
          "metadata": {},
          "execution_count": 53
        }
      ]
    },
    {
      "cell_type": "code",
      "source": [
        "X_test"
      ],
      "metadata": {
        "colab": {
          "base_uri": "https://localhost:8080/",
          "height": 0
        },
        "id": "b1FSnjkCY9EL",
        "outputId": "0bc7d6f8-b21d-4111-8b3d-bc51af6f5264"
      },
      "execution_count": 54,
      "outputs": [
        {
          "output_type": "execute_result",
          "data": {
            "text/plain": [
              "              department         education recruitment_channel gender\n",
              "38273          Analytics  Master's & above            sourcing      m\n",
              "48472         Operations        Bachelor's               other      m\n",
              "47398        Procurement  Master's & above            sourcing      f\n",
              "24059         Technology        Bachelor's               other      f\n",
              "52514         Operations        Bachelor's            sourcing      m\n",
              "...                  ...               ...                 ...    ...\n",
              "29752         Operations        Bachelor's               other      m\n",
              "23254  Sales & Marketing        Bachelor's               other      f\n",
              "51469          Analytics        Bachelor's               other      m\n",
              "12976         Technology   Below Secondary               other      m\n",
              "32040        Procurement        Bachelor's               other      m\n",
              "\n",
              "[10962 rows x 4 columns]"
            ],
            "text/html": [
              "\n",
              "  <div id=\"df-94c369bd-c1e3-46de-8c0e-f68f69a44eae\">\n",
              "    <div class=\"colab-df-container\">\n",
              "      <div>\n",
              "<style scoped>\n",
              "    .dataframe tbody tr th:only-of-type {\n",
              "        vertical-align: middle;\n",
              "    }\n",
              "\n",
              "    .dataframe tbody tr th {\n",
              "        vertical-align: top;\n",
              "    }\n",
              "\n",
              "    .dataframe thead th {\n",
              "        text-align: right;\n",
              "    }\n",
              "</style>\n",
              "<table border=\"1\" class=\"dataframe\">\n",
              "  <thead>\n",
              "    <tr style=\"text-align: right;\">\n",
              "      <th></th>\n",
              "      <th>department</th>\n",
              "      <th>education</th>\n",
              "      <th>recruitment_channel</th>\n",
              "      <th>gender</th>\n",
              "    </tr>\n",
              "  </thead>\n",
              "  <tbody>\n",
              "    <tr>\n",
              "      <th>38273</th>\n",
              "      <td>Analytics</td>\n",
              "      <td>Master's &amp; above</td>\n",
              "      <td>sourcing</td>\n",
              "      <td>m</td>\n",
              "    </tr>\n",
              "    <tr>\n",
              "      <th>48472</th>\n",
              "      <td>Operations</td>\n",
              "      <td>Bachelor's</td>\n",
              "      <td>other</td>\n",
              "      <td>m</td>\n",
              "    </tr>\n",
              "    <tr>\n",
              "      <th>47398</th>\n",
              "      <td>Procurement</td>\n",
              "      <td>Master's &amp; above</td>\n",
              "      <td>sourcing</td>\n",
              "      <td>f</td>\n",
              "    </tr>\n",
              "    <tr>\n",
              "      <th>24059</th>\n",
              "      <td>Technology</td>\n",
              "      <td>Bachelor's</td>\n",
              "      <td>other</td>\n",
              "      <td>f</td>\n",
              "    </tr>\n",
              "    <tr>\n",
              "      <th>52514</th>\n",
              "      <td>Operations</td>\n",
              "      <td>Bachelor's</td>\n",
              "      <td>sourcing</td>\n",
              "      <td>m</td>\n",
              "    </tr>\n",
              "    <tr>\n",
              "      <th>...</th>\n",
              "      <td>...</td>\n",
              "      <td>...</td>\n",
              "      <td>...</td>\n",
              "      <td>...</td>\n",
              "    </tr>\n",
              "    <tr>\n",
              "      <th>29752</th>\n",
              "      <td>Operations</td>\n",
              "      <td>Bachelor's</td>\n",
              "      <td>other</td>\n",
              "      <td>m</td>\n",
              "    </tr>\n",
              "    <tr>\n",
              "      <th>23254</th>\n",
              "      <td>Sales &amp; Marketing</td>\n",
              "      <td>Bachelor's</td>\n",
              "      <td>other</td>\n",
              "      <td>f</td>\n",
              "    </tr>\n",
              "    <tr>\n",
              "      <th>51469</th>\n",
              "      <td>Analytics</td>\n",
              "      <td>Bachelor's</td>\n",
              "      <td>other</td>\n",
              "      <td>m</td>\n",
              "    </tr>\n",
              "    <tr>\n",
              "      <th>12976</th>\n",
              "      <td>Technology</td>\n",
              "      <td>Below Secondary</td>\n",
              "      <td>other</td>\n",
              "      <td>m</td>\n",
              "    </tr>\n",
              "    <tr>\n",
              "      <th>32040</th>\n",
              "      <td>Procurement</td>\n",
              "      <td>Bachelor's</td>\n",
              "      <td>other</td>\n",
              "      <td>m</td>\n",
              "    </tr>\n",
              "  </tbody>\n",
              "</table>\n",
              "<p>10962 rows × 4 columns</p>\n",
              "</div>\n",
              "      <button class=\"colab-df-convert\" onclick=\"convertToInteractive('df-94c369bd-c1e3-46de-8c0e-f68f69a44eae')\"\n",
              "              title=\"Convert this dataframe to an interactive table.\"\n",
              "              style=\"display:none;\">\n",
              "        \n",
              "  <svg xmlns=\"http://www.w3.org/2000/svg\" height=\"24px\"viewBox=\"0 0 24 24\"\n",
              "       width=\"24px\">\n",
              "    <path d=\"M0 0h24v24H0V0z\" fill=\"none\"/>\n",
              "    <path d=\"M18.56 5.44l.94 2.06.94-2.06 2.06-.94-2.06-.94-.94-2.06-.94 2.06-2.06.94zm-11 1L8.5 8.5l.94-2.06 2.06-.94-2.06-.94L8.5 2.5l-.94 2.06-2.06.94zm10 10l.94 2.06.94-2.06 2.06-.94-2.06-.94-.94-2.06-.94 2.06-2.06.94z\"/><path d=\"M17.41 7.96l-1.37-1.37c-.4-.4-.92-.59-1.43-.59-.52 0-1.04.2-1.43.59L10.3 9.45l-7.72 7.72c-.78.78-.78 2.05 0 2.83L4 21.41c.39.39.9.59 1.41.59.51 0 1.02-.2 1.41-.59l7.78-7.78 2.81-2.81c.8-.78.8-2.07 0-2.86zM5.41 20L4 18.59l7.72-7.72 1.47 1.35L5.41 20z\"/>\n",
              "  </svg>\n",
              "      </button>\n",
              "      \n",
              "  <style>\n",
              "    .colab-df-container {\n",
              "      display:flex;\n",
              "      flex-wrap:wrap;\n",
              "      gap: 12px;\n",
              "    }\n",
              "\n",
              "    .colab-df-convert {\n",
              "      background-color: #E8F0FE;\n",
              "      border: none;\n",
              "      border-radius: 50%;\n",
              "      cursor: pointer;\n",
              "      display: none;\n",
              "      fill: #1967D2;\n",
              "      height: 32px;\n",
              "      padding: 0 0 0 0;\n",
              "      width: 32px;\n",
              "    }\n",
              "\n",
              "    .colab-df-convert:hover {\n",
              "      background-color: #E2EBFA;\n",
              "      box-shadow: 0px 1px 2px rgba(60, 64, 67, 0.3), 0px 1px 3px 1px rgba(60, 64, 67, 0.15);\n",
              "      fill: #174EA6;\n",
              "    }\n",
              "\n",
              "    [theme=dark] .colab-df-convert {\n",
              "      background-color: #3B4455;\n",
              "      fill: #D2E3FC;\n",
              "    }\n",
              "\n",
              "    [theme=dark] .colab-df-convert:hover {\n",
              "      background-color: #434B5C;\n",
              "      box-shadow: 0px 1px 3px 1px rgba(0, 0, 0, 0.15);\n",
              "      filter: drop-shadow(0px 1px 2px rgba(0, 0, 0, 0.3));\n",
              "      fill: #FFFFFF;\n",
              "    }\n",
              "  </style>\n",
              "\n",
              "      <script>\n",
              "        const buttonEl =\n",
              "          document.querySelector('#df-94c369bd-c1e3-46de-8c0e-f68f69a44eae button.colab-df-convert');\n",
              "        buttonEl.style.display =\n",
              "          google.colab.kernel.accessAllowed ? 'block' : 'none';\n",
              "\n",
              "        async function convertToInteractive(key) {\n",
              "          const element = document.querySelector('#df-94c369bd-c1e3-46de-8c0e-f68f69a44eae');\n",
              "          const dataTable =\n",
              "            await google.colab.kernel.invokeFunction('convertToInteractive',\n",
              "                                                     [key], {});\n",
              "          if (!dataTable) return;\n",
              "\n",
              "          const docLinkHtml = 'Like what you see? Visit the ' +\n",
              "            '<a target=\"_blank\" href=https://colab.research.google.com/notebooks/data_table.ipynb>data table notebook</a>'\n",
              "            + ' to learn more about interactive tables.';\n",
              "          element.innerHTML = '';\n",
              "          dataTable['output_type'] = 'display_data';\n",
              "          await google.colab.output.renderOutput(dataTable, element);\n",
              "          const docLink = document.createElement('div');\n",
              "          docLink.innerHTML = docLinkHtml;\n",
              "          element.appendChild(docLink);\n",
              "        }\n",
              "      </script>\n",
              "    </div>\n",
              "  </div>\n",
              "  "
            ]
          },
          "metadata": {},
          "execution_count": 54
        }
      ]
    },
    {
      "cell_type": "markdown",
      "metadata": {
        "id": "OhmpnYZT046X"
      },
      "source": [
        "Jadi:\n",
        "\n",
        "X_train -> data (80-an%) adalah 43.846 baris, 4 kolom.\n",
        " \n",
        "X_test -> data (20-an%) adalah 10.962 baris, 4 kolom.\n",
        "\n",
        "Terus kita mulai training x_train dan y_train. \n",
        "\n",
        "X_test nya di prediksi dan dimasukan ke variabel 'y_pred' yang bakal jadi array yang berisi hasil klasifikasi dari ke-10.962 data dari x_test."
      ]
    },
    {
      "cell_type": "markdown",
      "metadata": {
        "id": "f_3ORsyx5wkR"
      },
      "source": [
        "### Transformasi Data (Mengubah Fitur Kategori ke dalam Numerik)\n",
        "\n",
        "Model machine learning tidak dapat mengolah data kategorik(nominal), sehingga kita perlu melakukan konversi data kategorik menjadi data numerik.\n",
        "\n",
        "Salah satu teknik untuk mengubah data kategorik menjadi data numerik adalah dengan menggunakan One Hot Encoding atau yang juga dikenal sebagai dummy variables. One Hot Encoding mengubah data kategorik dengan membuat kolom baru untuk setiap kategori."
      ]
    },
    {
      "cell_type": "code",
      "execution_count": 55,
      "metadata": {
        "colab": {
          "base_uri": "https://localhost:8080/"
        },
        "id": "NnqU209a1mbL",
        "outputId": "c00f126e-9445-41db-a656-d93eb7f0cb1c"
      },
      "outputs": [
        {
          "output_type": "execute_result",
          "data": {
            "text/plain": [
              "OneHotEncoder(sparse=False)"
            ]
          },
          "metadata": {},
          "execution_count": 55
        }
      ],
      "source": [
        "from sklearn.preprocessing import StandardScaler, OneHotEncoder, LabelEncoder\n",
        "import numpy as np\n",
        "FEATURE_CAT_NUM = ['department', 'recruitment_channel', 'gender', 'education']\n",
        "#FEATURE_CAT_OR = ['education']\n",
        "\n",
        "#encoderL = LabelEncoder()\n",
        "encoderOh = OneHotEncoder(sparse=False)\n",
        "\n",
        "encoderOh.fit(X_train[FEATURE_CAT_NUM])\n",
        "#encoderL.fit(X_train[FEATURE_CAT_OR])"
      ]
    },
    {
      "cell_type": "code",
      "execution_count": 56,
      "metadata": {
        "id": "Ow2Unxn32Qeg"
      },
      "outputs": [],
      "source": [
        "#X_train_encL = encoderL.transform(X_train[FEATURE_CAT_OR])\n",
        "X_train_encode = encoderOh.transform(X_train[FEATURE_CAT_NUM])"
      ]
    },
    {
      "cell_type": "code",
      "execution_count": 57,
      "metadata": {
        "id": "o_A2Rjll2UlP"
      },
      "outputs": [],
      "source": [
        "#X_test_encL = encoderL.transform(X_test[FEATURE_CAT_OR])\n",
        "X_test_encode = encoderOh.transform(X_test[FEATURE_CAT_NUM])"
      ]
    },
    {
      "cell_type": "code",
      "source": [
        "#Memeriksa data X_train_encode\n",
        "X_train_encode"
      ],
      "metadata": {
        "colab": {
          "base_uri": "https://localhost:8080/"
        },
        "id": "s8J49vKyYeqQ",
        "outputId": "d291bfb7-65c9-4bca-b573-a5a0c8bf1ebd"
      },
      "execution_count": 58,
      "outputs": [
        {
          "output_type": "execute_result",
          "data": {
            "text/plain": [
              "array([[0., 0., 0., ..., 1., 0., 0.],\n",
              "       [0., 0., 0., ..., 1., 0., 0.],\n",
              "       [0., 0., 1., ..., 0., 0., 1.],\n",
              "       ...,\n",
              "       [1., 0., 0., ..., 0., 0., 1.],\n",
              "       [0., 0., 0., ..., 1., 0., 0.],\n",
              "       [0., 0., 0., ..., 1., 0., 0.]])"
            ]
          },
          "metadata": {},
          "execution_count": 58
        }
      ]
    },
    {
      "cell_type": "code",
      "source": [
        "X_test_encode"
      ],
      "metadata": {
        "colab": {
          "base_uri": "https://localhost:8080/"
        },
        "id": "Lfao9l_kYqSl",
        "outputId": "1bffb61a-ad13-45d9-8f79-463c12a6f469"
      },
      "execution_count": 59,
      "outputs": [
        {
          "output_type": "execute_result",
          "data": {
            "text/plain": [
              "array([[1., 0., 0., ..., 0., 0., 1.],\n",
              "       [0., 0., 0., ..., 1., 0., 0.],\n",
              "       [0., 0., 0., ..., 0., 0., 1.],\n",
              "       ...,\n",
              "       [1., 0., 0., ..., 1., 0., 0.],\n",
              "       [0., 0., 0., ..., 0., 1., 0.],\n",
              "       [0., 0., 0., ..., 1., 0., 0.]])"
            ]
          },
          "metadata": {},
          "execution_count": 59
        }
      ]
    },
    {
      "cell_type": "code",
      "source": [
        "y_train"
      ],
      "metadata": {
        "colab": {
          "base_uri": "https://localhost:8080/"
        },
        "id": "qE48KG3bZrEz",
        "outputId": "9d2a8f9d-7e16-41fa-dcbc-e8843134fede"
      },
      "execution_count": 60,
      "outputs": [
        {
          "output_type": "execute_result",
          "data": {
            "text/plain": [
              "5828     0\n",
              "46029    0\n",
              "1210     0\n",
              "19469    0\n",
              "26687    0\n",
              "        ..\n",
              "25544    0\n",
              "48056    0\n",
              "11513    0\n",
              "1688     0\n",
              "5994     0\n",
              "Name: is_promoted, Length: 43846, dtype: int64"
            ]
          },
          "metadata": {},
          "execution_count": 60
        }
      ]
    },
    {
      "cell_type": "code",
      "source": [
        "y_test"
      ],
      "metadata": {
        "colab": {
          "base_uri": "https://localhost:8080/"
        },
        "id": "tRrM-bx7ZvC4",
        "outputId": "37954ede-c962-45c6-d64e-7230b211dd72"
      },
      "execution_count": 61,
      "outputs": [
        {
          "output_type": "execute_result",
          "data": {
            "text/plain": [
              "38273    0\n",
              "48472    0\n",
              "47398    0\n",
              "24059    1\n",
              "52514    0\n",
              "        ..\n",
              "29752    0\n",
              "23254    0\n",
              "51469    0\n",
              "12976    0\n",
              "32040    1\n",
              "Name: is_promoted, Length: 10962, dtype: int64"
            ]
          },
          "metadata": {},
          "execution_count": 61
        }
      ]
    },
    {
      "cell_type": "markdown",
      "source": [
        "## Correlation Analysis"
      ],
      "metadata": {
        "id": "wmVn8s9GZ2El"
      }
    },
    {
      "cell_type": "code",
      "source": [
        "df"
      ],
      "metadata": {
        "colab": {
          "base_uri": "https://localhost:8080/",
          "height": 0
        },
        "id": "gkGdYbUhZ7W5",
        "outputId": "fa803b30-f3ac-4144-dc89-03071775a006"
      },
      "execution_count": 62,
      "outputs": [
        {
          "output_type": "execute_result",
          "data": {
            "text/plain": [
              "              department         education gender recruitment_channel  \\\n",
              "0      Sales & Marketing  Master's & above      f            sourcing   \n",
              "1             Operations        Bachelor's      m               other   \n",
              "2      Sales & Marketing        Bachelor's      m            sourcing   \n",
              "3      Sales & Marketing        Bachelor's      m               other   \n",
              "4             Technology        Bachelor's      m               other   \n",
              "...                  ...               ...    ...                 ...   \n",
              "54803         Technology        Bachelor's      m            sourcing   \n",
              "54804         Operations  Master's & above      f               other   \n",
              "54805          Analytics        Bachelor's      m               other   \n",
              "54806  Sales & Marketing        Bachelor's      m            sourcing   \n",
              "54807                 HR        Bachelor's      m               other   \n",
              "\n",
              "       is_promoted  \n",
              "0                0  \n",
              "1                0  \n",
              "2                0  \n",
              "3                0  \n",
              "4                0  \n",
              "...            ...  \n",
              "54803            0  \n",
              "54804            0  \n",
              "54805            0  \n",
              "54806            0  \n",
              "54807            0  \n",
              "\n",
              "[54808 rows x 5 columns]"
            ],
            "text/html": [
              "\n",
              "  <div id=\"df-d3858428-88d5-4cad-b18a-9ac60b58f11f\">\n",
              "    <div class=\"colab-df-container\">\n",
              "      <div>\n",
              "<style scoped>\n",
              "    .dataframe tbody tr th:only-of-type {\n",
              "        vertical-align: middle;\n",
              "    }\n",
              "\n",
              "    .dataframe tbody tr th {\n",
              "        vertical-align: top;\n",
              "    }\n",
              "\n",
              "    .dataframe thead th {\n",
              "        text-align: right;\n",
              "    }\n",
              "</style>\n",
              "<table border=\"1\" class=\"dataframe\">\n",
              "  <thead>\n",
              "    <tr style=\"text-align: right;\">\n",
              "      <th></th>\n",
              "      <th>department</th>\n",
              "      <th>education</th>\n",
              "      <th>gender</th>\n",
              "      <th>recruitment_channel</th>\n",
              "      <th>is_promoted</th>\n",
              "    </tr>\n",
              "  </thead>\n",
              "  <tbody>\n",
              "    <tr>\n",
              "      <th>0</th>\n",
              "      <td>Sales &amp; Marketing</td>\n",
              "      <td>Master's &amp; above</td>\n",
              "      <td>f</td>\n",
              "      <td>sourcing</td>\n",
              "      <td>0</td>\n",
              "    </tr>\n",
              "    <tr>\n",
              "      <th>1</th>\n",
              "      <td>Operations</td>\n",
              "      <td>Bachelor's</td>\n",
              "      <td>m</td>\n",
              "      <td>other</td>\n",
              "      <td>0</td>\n",
              "    </tr>\n",
              "    <tr>\n",
              "      <th>2</th>\n",
              "      <td>Sales &amp; Marketing</td>\n",
              "      <td>Bachelor's</td>\n",
              "      <td>m</td>\n",
              "      <td>sourcing</td>\n",
              "      <td>0</td>\n",
              "    </tr>\n",
              "    <tr>\n",
              "      <th>3</th>\n",
              "      <td>Sales &amp; Marketing</td>\n",
              "      <td>Bachelor's</td>\n",
              "      <td>m</td>\n",
              "      <td>other</td>\n",
              "      <td>0</td>\n",
              "    </tr>\n",
              "    <tr>\n",
              "      <th>4</th>\n",
              "      <td>Technology</td>\n",
              "      <td>Bachelor's</td>\n",
              "      <td>m</td>\n",
              "      <td>other</td>\n",
              "      <td>0</td>\n",
              "    </tr>\n",
              "    <tr>\n",
              "      <th>...</th>\n",
              "      <td>...</td>\n",
              "      <td>...</td>\n",
              "      <td>...</td>\n",
              "      <td>...</td>\n",
              "      <td>...</td>\n",
              "    </tr>\n",
              "    <tr>\n",
              "      <th>54803</th>\n",
              "      <td>Technology</td>\n",
              "      <td>Bachelor's</td>\n",
              "      <td>m</td>\n",
              "      <td>sourcing</td>\n",
              "      <td>0</td>\n",
              "    </tr>\n",
              "    <tr>\n",
              "      <th>54804</th>\n",
              "      <td>Operations</td>\n",
              "      <td>Master's &amp; above</td>\n",
              "      <td>f</td>\n",
              "      <td>other</td>\n",
              "      <td>0</td>\n",
              "    </tr>\n",
              "    <tr>\n",
              "      <th>54805</th>\n",
              "      <td>Analytics</td>\n",
              "      <td>Bachelor's</td>\n",
              "      <td>m</td>\n",
              "      <td>other</td>\n",
              "      <td>0</td>\n",
              "    </tr>\n",
              "    <tr>\n",
              "      <th>54806</th>\n",
              "      <td>Sales &amp; Marketing</td>\n",
              "      <td>Bachelor's</td>\n",
              "      <td>m</td>\n",
              "      <td>sourcing</td>\n",
              "      <td>0</td>\n",
              "    </tr>\n",
              "    <tr>\n",
              "      <th>54807</th>\n",
              "      <td>HR</td>\n",
              "      <td>Bachelor's</td>\n",
              "      <td>m</td>\n",
              "      <td>other</td>\n",
              "      <td>0</td>\n",
              "    </tr>\n",
              "  </tbody>\n",
              "</table>\n",
              "<p>54808 rows × 5 columns</p>\n",
              "</div>\n",
              "      <button class=\"colab-df-convert\" onclick=\"convertToInteractive('df-d3858428-88d5-4cad-b18a-9ac60b58f11f')\"\n",
              "              title=\"Convert this dataframe to an interactive table.\"\n",
              "              style=\"display:none;\">\n",
              "        \n",
              "  <svg xmlns=\"http://www.w3.org/2000/svg\" height=\"24px\"viewBox=\"0 0 24 24\"\n",
              "       width=\"24px\">\n",
              "    <path d=\"M0 0h24v24H0V0z\" fill=\"none\"/>\n",
              "    <path d=\"M18.56 5.44l.94 2.06.94-2.06 2.06-.94-2.06-.94-.94-2.06-.94 2.06-2.06.94zm-11 1L8.5 8.5l.94-2.06 2.06-.94-2.06-.94L8.5 2.5l-.94 2.06-2.06.94zm10 10l.94 2.06.94-2.06 2.06-.94-2.06-.94-.94-2.06-.94 2.06-2.06.94z\"/><path d=\"M17.41 7.96l-1.37-1.37c-.4-.4-.92-.59-1.43-.59-.52 0-1.04.2-1.43.59L10.3 9.45l-7.72 7.72c-.78.78-.78 2.05 0 2.83L4 21.41c.39.39.9.59 1.41.59.51 0 1.02-.2 1.41-.59l7.78-7.78 2.81-2.81c.8-.78.8-2.07 0-2.86zM5.41 20L4 18.59l7.72-7.72 1.47 1.35L5.41 20z\"/>\n",
              "  </svg>\n",
              "      </button>\n",
              "      \n",
              "  <style>\n",
              "    .colab-df-container {\n",
              "      display:flex;\n",
              "      flex-wrap:wrap;\n",
              "      gap: 12px;\n",
              "    }\n",
              "\n",
              "    .colab-df-convert {\n",
              "      background-color: #E8F0FE;\n",
              "      border: none;\n",
              "      border-radius: 50%;\n",
              "      cursor: pointer;\n",
              "      display: none;\n",
              "      fill: #1967D2;\n",
              "      height: 32px;\n",
              "      padding: 0 0 0 0;\n",
              "      width: 32px;\n",
              "    }\n",
              "\n",
              "    .colab-df-convert:hover {\n",
              "      background-color: #E2EBFA;\n",
              "      box-shadow: 0px 1px 2px rgba(60, 64, 67, 0.3), 0px 1px 3px 1px rgba(60, 64, 67, 0.15);\n",
              "      fill: #174EA6;\n",
              "    }\n",
              "\n",
              "    [theme=dark] .colab-df-convert {\n",
              "      background-color: #3B4455;\n",
              "      fill: #D2E3FC;\n",
              "    }\n",
              "\n",
              "    [theme=dark] .colab-df-convert:hover {\n",
              "      background-color: #434B5C;\n",
              "      box-shadow: 0px 1px 3px 1px rgba(0, 0, 0, 0.15);\n",
              "      filter: drop-shadow(0px 1px 2px rgba(0, 0, 0, 0.3));\n",
              "      fill: #FFFFFF;\n",
              "    }\n",
              "  </style>\n",
              "\n",
              "      <script>\n",
              "        const buttonEl =\n",
              "          document.querySelector('#df-d3858428-88d5-4cad-b18a-9ac60b58f11f button.colab-df-convert');\n",
              "        buttonEl.style.display =\n",
              "          google.colab.kernel.accessAllowed ? 'block' : 'none';\n",
              "\n",
              "        async function convertToInteractive(key) {\n",
              "          const element = document.querySelector('#df-d3858428-88d5-4cad-b18a-9ac60b58f11f');\n",
              "          const dataTable =\n",
              "            await google.colab.kernel.invokeFunction('convertToInteractive',\n",
              "                                                     [key], {});\n",
              "          if (!dataTable) return;\n",
              "\n",
              "          const docLinkHtml = 'Like what you see? Visit the ' +\n",
              "            '<a target=\"_blank\" href=https://colab.research.google.com/notebooks/data_table.ipynb>data table notebook</a>'\n",
              "            + ' to learn more about interactive tables.';\n",
              "          element.innerHTML = '';\n",
              "          dataTable['output_type'] = 'display_data';\n",
              "          await google.colab.output.renderOutput(dataTable, element);\n",
              "          const docLink = document.createElement('div');\n",
              "          docLink.innerHTML = docLinkHtml;\n",
              "          element.appendChild(docLink);\n",
              "        }\n",
              "      </script>\n",
              "    </div>\n",
              "  </div>\n",
              "  "
            ]
          },
          "metadata": {},
          "execution_count": 62
        }
      ]
    },
    {
      "cell_type": "code",
      "source": [
        "encoded = pd.get_dummies(df)\n",
        "encoded"
      ],
      "metadata": {
        "colab": {
          "base_uri": "https://localhost:8080/",
          "height": 0
        },
        "id": "vAWEzVpjaDbW",
        "outputId": "21866c1f-1ad3-4efa-cec2-24eaa66647df"
      },
      "execution_count": 63,
      "outputs": [
        {
          "output_type": "execute_result",
          "data": {
            "text/plain": [
              "       is_promoted  department_Analytics  department_Finance  department_HR  \\\n",
              "0                0                     0                   0              0   \n",
              "1                0                     0                   0              0   \n",
              "2                0                     0                   0              0   \n",
              "3                0                     0                   0              0   \n",
              "4                0                     0                   0              0   \n",
              "...            ...                   ...                 ...            ...   \n",
              "54803            0                     0                   0              0   \n",
              "54804            0                     0                   0              0   \n",
              "54805            0                     1                   0              0   \n",
              "54806            0                     0                   0              0   \n",
              "54807            0                     0                   0              1   \n",
              "\n",
              "       department_Legal  department_Operations  department_Procurement  \\\n",
              "0                     0                      0                       0   \n",
              "1                     0                      1                       0   \n",
              "2                     0                      0                       0   \n",
              "3                     0                      0                       0   \n",
              "4                     0                      0                       0   \n",
              "...                 ...                    ...                     ...   \n",
              "54803                 0                      0                       0   \n",
              "54804                 0                      1                       0   \n",
              "54805                 0                      0                       0   \n",
              "54806                 0                      0                       0   \n",
              "54807                 0                      0                       0   \n",
              "\n",
              "       department_R&D  department_Sales & Marketing  department_Technology  \\\n",
              "0                   0                             1                      0   \n",
              "1                   0                             0                      0   \n",
              "2                   0                             1                      0   \n",
              "3                   0                             1                      0   \n",
              "4                   0                             0                      1   \n",
              "...               ...                           ...                    ...   \n",
              "54803               0                             0                      1   \n",
              "54804               0                             0                      0   \n",
              "54805               0                             0                      0   \n",
              "54806               0                             1                      0   \n",
              "54807               0                             0                      0   \n",
              "\n",
              "       education_Bachelor's  education_Below Secondary  \\\n",
              "0                         0                          0   \n",
              "1                         1                          0   \n",
              "2                         1                          0   \n",
              "3                         1                          0   \n",
              "4                         1                          0   \n",
              "...                     ...                        ...   \n",
              "54803                     1                          0   \n",
              "54804                     0                          0   \n",
              "54805                     1                          0   \n",
              "54806                     1                          0   \n",
              "54807                     1                          0   \n",
              "\n",
              "       education_Master's & above  gender_f  gender_m  \\\n",
              "0                               1         1         0   \n",
              "1                               0         0         1   \n",
              "2                               0         0         1   \n",
              "3                               0         0         1   \n",
              "4                               0         0         1   \n",
              "...                           ...       ...       ...   \n",
              "54803                           0         0         1   \n",
              "54804                           1         1         0   \n",
              "54805                           0         0         1   \n",
              "54806                           0         0         1   \n",
              "54807                           0         0         1   \n",
              "\n",
              "       recruitment_channel_other  recruitment_channel_referred  \\\n",
              "0                              0                             0   \n",
              "1                              1                             0   \n",
              "2                              0                             0   \n",
              "3                              1                             0   \n",
              "4                              1                             0   \n",
              "...                          ...                           ...   \n",
              "54803                          0                             0   \n",
              "54804                          1                             0   \n",
              "54805                          1                             0   \n",
              "54806                          0                             0   \n",
              "54807                          1                             0   \n",
              "\n",
              "       recruitment_channel_sourcing  \n",
              "0                                 1  \n",
              "1                                 0  \n",
              "2                                 1  \n",
              "3                                 0  \n",
              "4                                 0  \n",
              "...                             ...  \n",
              "54803                             1  \n",
              "54804                             0  \n",
              "54805                             0  \n",
              "54806                             1  \n",
              "54807                             0  \n",
              "\n",
              "[54808 rows x 18 columns]"
            ],
            "text/html": [
              "\n",
              "  <div id=\"df-da9861f0-c801-451a-8337-a60b3a2b21b3\">\n",
              "    <div class=\"colab-df-container\">\n",
              "      <div>\n",
              "<style scoped>\n",
              "    .dataframe tbody tr th:only-of-type {\n",
              "        vertical-align: middle;\n",
              "    }\n",
              "\n",
              "    .dataframe tbody tr th {\n",
              "        vertical-align: top;\n",
              "    }\n",
              "\n",
              "    .dataframe thead th {\n",
              "        text-align: right;\n",
              "    }\n",
              "</style>\n",
              "<table border=\"1\" class=\"dataframe\">\n",
              "  <thead>\n",
              "    <tr style=\"text-align: right;\">\n",
              "      <th></th>\n",
              "      <th>is_promoted</th>\n",
              "      <th>department_Analytics</th>\n",
              "      <th>department_Finance</th>\n",
              "      <th>department_HR</th>\n",
              "      <th>department_Legal</th>\n",
              "      <th>department_Operations</th>\n",
              "      <th>department_Procurement</th>\n",
              "      <th>department_R&amp;D</th>\n",
              "      <th>department_Sales &amp; Marketing</th>\n",
              "      <th>department_Technology</th>\n",
              "      <th>education_Bachelor's</th>\n",
              "      <th>education_Below Secondary</th>\n",
              "      <th>education_Master's &amp; above</th>\n",
              "      <th>gender_f</th>\n",
              "      <th>gender_m</th>\n",
              "      <th>recruitment_channel_other</th>\n",
              "      <th>recruitment_channel_referred</th>\n",
              "      <th>recruitment_channel_sourcing</th>\n",
              "    </tr>\n",
              "  </thead>\n",
              "  <tbody>\n",
              "    <tr>\n",
              "      <th>0</th>\n",
              "      <td>0</td>\n",
              "      <td>0</td>\n",
              "      <td>0</td>\n",
              "      <td>0</td>\n",
              "      <td>0</td>\n",
              "      <td>0</td>\n",
              "      <td>0</td>\n",
              "      <td>0</td>\n",
              "      <td>1</td>\n",
              "      <td>0</td>\n",
              "      <td>0</td>\n",
              "      <td>0</td>\n",
              "      <td>1</td>\n",
              "      <td>1</td>\n",
              "      <td>0</td>\n",
              "      <td>0</td>\n",
              "      <td>0</td>\n",
              "      <td>1</td>\n",
              "    </tr>\n",
              "    <tr>\n",
              "      <th>1</th>\n",
              "      <td>0</td>\n",
              "      <td>0</td>\n",
              "      <td>0</td>\n",
              "      <td>0</td>\n",
              "      <td>0</td>\n",
              "      <td>1</td>\n",
              "      <td>0</td>\n",
              "      <td>0</td>\n",
              "      <td>0</td>\n",
              "      <td>0</td>\n",
              "      <td>1</td>\n",
              "      <td>0</td>\n",
              "      <td>0</td>\n",
              "      <td>0</td>\n",
              "      <td>1</td>\n",
              "      <td>1</td>\n",
              "      <td>0</td>\n",
              "      <td>0</td>\n",
              "    </tr>\n",
              "    <tr>\n",
              "      <th>2</th>\n",
              "      <td>0</td>\n",
              "      <td>0</td>\n",
              "      <td>0</td>\n",
              "      <td>0</td>\n",
              "      <td>0</td>\n",
              "      <td>0</td>\n",
              "      <td>0</td>\n",
              "      <td>0</td>\n",
              "      <td>1</td>\n",
              "      <td>0</td>\n",
              "      <td>1</td>\n",
              "      <td>0</td>\n",
              "      <td>0</td>\n",
              "      <td>0</td>\n",
              "      <td>1</td>\n",
              "      <td>0</td>\n",
              "      <td>0</td>\n",
              "      <td>1</td>\n",
              "    </tr>\n",
              "    <tr>\n",
              "      <th>3</th>\n",
              "      <td>0</td>\n",
              "      <td>0</td>\n",
              "      <td>0</td>\n",
              "      <td>0</td>\n",
              "      <td>0</td>\n",
              "      <td>0</td>\n",
              "      <td>0</td>\n",
              "      <td>0</td>\n",
              "      <td>1</td>\n",
              "      <td>0</td>\n",
              "      <td>1</td>\n",
              "      <td>0</td>\n",
              "      <td>0</td>\n",
              "      <td>0</td>\n",
              "      <td>1</td>\n",
              "      <td>1</td>\n",
              "      <td>0</td>\n",
              "      <td>0</td>\n",
              "    </tr>\n",
              "    <tr>\n",
              "      <th>4</th>\n",
              "      <td>0</td>\n",
              "      <td>0</td>\n",
              "      <td>0</td>\n",
              "      <td>0</td>\n",
              "      <td>0</td>\n",
              "      <td>0</td>\n",
              "      <td>0</td>\n",
              "      <td>0</td>\n",
              "      <td>0</td>\n",
              "      <td>1</td>\n",
              "      <td>1</td>\n",
              "      <td>0</td>\n",
              "      <td>0</td>\n",
              "      <td>0</td>\n",
              "      <td>1</td>\n",
              "      <td>1</td>\n",
              "      <td>0</td>\n",
              "      <td>0</td>\n",
              "    </tr>\n",
              "    <tr>\n",
              "      <th>...</th>\n",
              "      <td>...</td>\n",
              "      <td>...</td>\n",
              "      <td>...</td>\n",
              "      <td>...</td>\n",
              "      <td>...</td>\n",
              "      <td>...</td>\n",
              "      <td>...</td>\n",
              "      <td>...</td>\n",
              "      <td>...</td>\n",
              "      <td>...</td>\n",
              "      <td>...</td>\n",
              "      <td>...</td>\n",
              "      <td>...</td>\n",
              "      <td>...</td>\n",
              "      <td>...</td>\n",
              "      <td>...</td>\n",
              "      <td>...</td>\n",
              "      <td>...</td>\n",
              "    </tr>\n",
              "    <tr>\n",
              "      <th>54803</th>\n",
              "      <td>0</td>\n",
              "      <td>0</td>\n",
              "      <td>0</td>\n",
              "      <td>0</td>\n",
              "      <td>0</td>\n",
              "      <td>0</td>\n",
              "      <td>0</td>\n",
              "      <td>0</td>\n",
              "      <td>0</td>\n",
              "      <td>1</td>\n",
              "      <td>1</td>\n",
              "      <td>0</td>\n",
              "      <td>0</td>\n",
              "      <td>0</td>\n",
              "      <td>1</td>\n",
              "      <td>0</td>\n",
              "      <td>0</td>\n",
              "      <td>1</td>\n",
              "    </tr>\n",
              "    <tr>\n",
              "      <th>54804</th>\n",
              "      <td>0</td>\n",
              "      <td>0</td>\n",
              "      <td>0</td>\n",
              "      <td>0</td>\n",
              "      <td>0</td>\n",
              "      <td>1</td>\n",
              "      <td>0</td>\n",
              "      <td>0</td>\n",
              "      <td>0</td>\n",
              "      <td>0</td>\n",
              "      <td>0</td>\n",
              "      <td>0</td>\n",
              "      <td>1</td>\n",
              "      <td>1</td>\n",
              "      <td>0</td>\n",
              "      <td>1</td>\n",
              "      <td>0</td>\n",
              "      <td>0</td>\n",
              "    </tr>\n",
              "    <tr>\n",
              "      <th>54805</th>\n",
              "      <td>0</td>\n",
              "      <td>1</td>\n",
              "      <td>0</td>\n",
              "      <td>0</td>\n",
              "      <td>0</td>\n",
              "      <td>0</td>\n",
              "      <td>0</td>\n",
              "      <td>0</td>\n",
              "      <td>0</td>\n",
              "      <td>0</td>\n",
              "      <td>1</td>\n",
              "      <td>0</td>\n",
              "      <td>0</td>\n",
              "      <td>0</td>\n",
              "      <td>1</td>\n",
              "      <td>1</td>\n",
              "      <td>0</td>\n",
              "      <td>0</td>\n",
              "    </tr>\n",
              "    <tr>\n",
              "      <th>54806</th>\n",
              "      <td>0</td>\n",
              "      <td>0</td>\n",
              "      <td>0</td>\n",
              "      <td>0</td>\n",
              "      <td>0</td>\n",
              "      <td>0</td>\n",
              "      <td>0</td>\n",
              "      <td>0</td>\n",
              "      <td>1</td>\n",
              "      <td>0</td>\n",
              "      <td>1</td>\n",
              "      <td>0</td>\n",
              "      <td>0</td>\n",
              "      <td>0</td>\n",
              "      <td>1</td>\n",
              "      <td>0</td>\n",
              "      <td>0</td>\n",
              "      <td>1</td>\n",
              "    </tr>\n",
              "    <tr>\n",
              "      <th>54807</th>\n",
              "      <td>0</td>\n",
              "      <td>0</td>\n",
              "      <td>0</td>\n",
              "      <td>1</td>\n",
              "      <td>0</td>\n",
              "      <td>0</td>\n",
              "      <td>0</td>\n",
              "      <td>0</td>\n",
              "      <td>0</td>\n",
              "      <td>0</td>\n",
              "      <td>1</td>\n",
              "      <td>0</td>\n",
              "      <td>0</td>\n",
              "      <td>0</td>\n",
              "      <td>1</td>\n",
              "      <td>1</td>\n",
              "      <td>0</td>\n",
              "      <td>0</td>\n",
              "    </tr>\n",
              "  </tbody>\n",
              "</table>\n",
              "<p>54808 rows × 18 columns</p>\n",
              "</div>\n",
              "      <button class=\"colab-df-convert\" onclick=\"convertToInteractive('df-da9861f0-c801-451a-8337-a60b3a2b21b3')\"\n",
              "              title=\"Convert this dataframe to an interactive table.\"\n",
              "              style=\"display:none;\">\n",
              "        \n",
              "  <svg xmlns=\"http://www.w3.org/2000/svg\" height=\"24px\"viewBox=\"0 0 24 24\"\n",
              "       width=\"24px\">\n",
              "    <path d=\"M0 0h24v24H0V0z\" fill=\"none\"/>\n",
              "    <path d=\"M18.56 5.44l.94 2.06.94-2.06 2.06-.94-2.06-.94-.94-2.06-.94 2.06-2.06.94zm-11 1L8.5 8.5l.94-2.06 2.06-.94-2.06-.94L8.5 2.5l-.94 2.06-2.06.94zm10 10l.94 2.06.94-2.06 2.06-.94-2.06-.94-.94-2.06-.94 2.06-2.06.94z\"/><path d=\"M17.41 7.96l-1.37-1.37c-.4-.4-.92-.59-1.43-.59-.52 0-1.04.2-1.43.59L10.3 9.45l-7.72 7.72c-.78.78-.78 2.05 0 2.83L4 21.41c.39.39.9.59 1.41.59.51 0 1.02-.2 1.41-.59l7.78-7.78 2.81-2.81c.8-.78.8-2.07 0-2.86zM5.41 20L4 18.59l7.72-7.72 1.47 1.35L5.41 20z\"/>\n",
              "  </svg>\n",
              "      </button>\n",
              "      \n",
              "  <style>\n",
              "    .colab-df-container {\n",
              "      display:flex;\n",
              "      flex-wrap:wrap;\n",
              "      gap: 12px;\n",
              "    }\n",
              "\n",
              "    .colab-df-convert {\n",
              "      background-color: #E8F0FE;\n",
              "      border: none;\n",
              "      border-radius: 50%;\n",
              "      cursor: pointer;\n",
              "      display: none;\n",
              "      fill: #1967D2;\n",
              "      height: 32px;\n",
              "      padding: 0 0 0 0;\n",
              "      width: 32px;\n",
              "    }\n",
              "\n",
              "    .colab-df-convert:hover {\n",
              "      background-color: #E2EBFA;\n",
              "      box-shadow: 0px 1px 2px rgba(60, 64, 67, 0.3), 0px 1px 3px 1px rgba(60, 64, 67, 0.15);\n",
              "      fill: #174EA6;\n",
              "    }\n",
              "\n",
              "    [theme=dark] .colab-df-convert {\n",
              "      background-color: #3B4455;\n",
              "      fill: #D2E3FC;\n",
              "    }\n",
              "\n",
              "    [theme=dark] .colab-df-convert:hover {\n",
              "      background-color: #434B5C;\n",
              "      box-shadow: 0px 1px 3px 1px rgba(0, 0, 0, 0.15);\n",
              "      filter: drop-shadow(0px 1px 2px rgba(0, 0, 0, 0.3));\n",
              "      fill: #FFFFFF;\n",
              "    }\n",
              "  </style>\n",
              "\n",
              "      <script>\n",
              "        const buttonEl =\n",
              "          document.querySelector('#df-da9861f0-c801-451a-8337-a60b3a2b21b3 button.colab-df-convert');\n",
              "        buttonEl.style.display =\n",
              "          google.colab.kernel.accessAllowed ? 'block' : 'none';\n",
              "\n",
              "        async function convertToInteractive(key) {\n",
              "          const element = document.querySelector('#df-da9861f0-c801-451a-8337-a60b3a2b21b3');\n",
              "          const dataTable =\n",
              "            await google.colab.kernel.invokeFunction('convertToInteractive',\n",
              "                                                     [key], {});\n",
              "          if (!dataTable) return;\n",
              "\n",
              "          const docLinkHtml = 'Like what you see? Visit the ' +\n",
              "            '<a target=\"_blank\" href=https://colab.research.google.com/notebooks/data_table.ipynb>data table notebook</a>'\n",
              "            + ' to learn more about interactive tables.';\n",
              "          element.innerHTML = '';\n",
              "          dataTable['output_type'] = 'display_data';\n",
              "          await google.colab.output.renderOutput(dataTable, element);\n",
              "          const docLink = document.createElement('div');\n",
              "          docLink.innerHTML = docLinkHtml;\n",
              "          element.appendChild(docLink);\n",
              "        }\n",
              "      </script>\n",
              "    </div>\n",
              "  </div>\n",
              "  "
            ]
          },
          "metadata": {},
          "execution_count": 63
        }
      ]
    },
    {
      "cell_type": "code",
      "source": [
        "#Visualisasi Data Correlation Analysis\n",
        "corr_matrix = encoded.corr().abs()\n",
        "upper = corr_matrix.where(np.triu(np.ones(corr_matrix.shape), k=1).astype(np.bool))\n",
        "\n",
        "plt.figure(figsize=(20,10))\n",
        "sns.heatmap(upper, annot=True, cmap='Blues')"
      ],
      "metadata": {
        "colab": {
          "base_uri": "https://localhost:8080/",
          "height": 0
        },
        "id": "PuDbvLjraZMh",
        "outputId": "de075ac9-22f3-47a5-9a7d-127eb408258b"
      },
      "execution_count": 64,
      "outputs": [
        {
          "output_type": "execute_result",
          "data": {
            "text/plain": [
              "<matplotlib.axes._subplots.AxesSubplot at 0x7f4b73ad1e90>"
            ]
          },
          "metadata": {},
          "execution_count": 64
        },
        {
          "output_type": "display_data",
          "data": {
            "text/plain": [
              "<Figure size 1440x720 with 2 Axes>"
            ],
            "image/png": "[encoded data removed]"
          },
          "metadata": {
            "needs_background": "light"
          }
        }
      ]
    },
    {
      "cell_type": "markdown",
      "metadata": {
        "id": "QeLqqJ5zQPp3"
      },
      "source": [
        "# Modelling Before Sampling"
      ]
    },
    {
      "cell_type": "markdown",
      "metadata": {
        "id": "c4m6pMtTQf3e"
      },
      "source": [
        "Selanjutnya, kita dapat menggunakannya untuk pemodelan dengan algoritma tertentu misalnya disini menggunakan beberapa model seperti contoh berikut:"
      ]
    },
    {
      "cell_type": "code",
      "execution_count": 65,
      "metadata": {
        "id": "kaM3OV0uL6L8"
      },
      "outputs": [],
      "source": [
        "#Machine Learning Model\n",
        "from sklearn.metrics import accuracy_score, precision_score, recall_score\n",
        "from sklearn.tree import DecisionTreeClassifier\n",
        "#from sklearn.linear_model import LogisticRegression\n",
        "from sklearn.neighbors import KNeighborsClassifier\n",
        "#from sklearn.svm import SVC, LinearSVC\n",
        "from sklearn.ensemble import RandomForestClassifier\n",
        "from sklearn.naive_bayes import GaussianNB\n",
        "\n",
        "import warnings\n",
        "warnings.filterwarnings(\"ignore\")\n",
        "from sklearn.utils import class_weight\n",
        "\n",
        "models = [\n",
        "    #('DTC', DecisionTreeClassifier(class_weight='balanced')),\n",
        "    #('LR', LogisticRegression(class_weight='balanced')),\n",
        "    #('SVC', SVC(class_weight='balanced')),\n",
        "    #('LinSVC', LinearSVC(class_weight='balanced')),\n",
        "    ('KNC', KNeighborsClassifier(weights='uniform')),\n",
        "    ('RFC', RandomForestClassifier(class_weight='balanced')),\n",
        "    ('NB', GaussianNB())\n",
        "    ]"
      ]
    },
    {
      "cell_type": "code",
      "execution_count": 66,
      "metadata": {
        "colab": {
          "base_uri": "https://localhost:8080/"
        },
        "id": "arh6-dtJL6Hn",
        "outputId": "ddb1f278-cc0e-4014-e3ca-32362cdd154e"
      },
      "outputs": [
        {
          "output_type": "stream",
          "name": "stdout",
          "text": [
            "Training KNC\n",
            "Model KNC, Accuracy: 0.92, precision 0.00, recall 0.00\n",
            "Training RFC\n",
            "Model RFC, Accuracy: 0.61, precision 0.10, recall 0.45\n",
            "Training NB\n",
            "Model NB, Accuracy: 0.90, precision 0.11, recall 0.03\n"
          ]
        }
      ],
      "source": [
        "from sklearn.metrics import precision_score, recall_score, accuracy_score\n",
        "for model_name, model in models:\n",
        "    print('Training {}'.format(model_name))\n",
        "    #Training the model\n",
        "    model.fit(X_train_encode, y_train)\n",
        "\n",
        "    #Memprediksi model dengan test set\n",
        "    prediction = model.predict(X_test_encode)\n",
        "\n",
        "    #Check performa model menggunakan Model \n",
        "    acc = accuracy_score(y_test, prediction)\n",
        "    prec = precision_score(y_test, prediction)\n",
        "    rec = recall_score(y_test, prediction)\n",
        "    print(\"Model {}, Accuracy: {:.2F}, precision {:.2F}, recall {:.2F}\".format(model_name, acc, prec, rec))"
      ]
    },
    {
      "cell_type": "code",
      "execution_count": 70,
      "metadata": {
        "colab": {
          "base_uri": "https://localhost:8080/"
        },
        "id": "IbWm-OEAMofV",
        "outputId": "d51902ab-deee-4158-a8ae-1978563632e3"
      },
      "outputs": [
        {
          "output_type": "stream",
          "name": "stdout",
          "text": [
            "              precision    recall  f1-score   support\n",
            "\n",
            "           0       0.92      0.98      0.95     10046\n",
            "           1       0.11      0.03      0.04       916\n",
            "\n",
            "    accuracy                           0.90     10962\n",
            "   macro avg       0.51      0.50      0.49     10962\n",
            "weighted avg       0.85      0.90      0.87     10962\n",
            "\n"
          ]
        }
      ],
      "source": [
        "#Check performa model menggunakan classification_report\n",
        "from sklearn.metrics import classification_report, confusion_matrix\n",
        "print(classification_report(y_test, prediction))"
      ]
    },
    {
      "cell_type": "markdown",
      "metadata": {
        "id": "8_uoIaweNAt3"
      },
      "source": [
        "Dari classification report dapat dilihat bahwa model memiliki rata-rata performa sebelum di lakukan sampling sekitar 50% mulai dari precision, recall, f1-score Sedangkan Accuracy menunjukkan sekitar 90%. Ini terjadi karena akibat ketidakseimbangan data, kemudian accuracy membuat kesimpulan kedalam data yang mempunyai kecenderungan persentase paling besar.\n",
        "\n",
        "Itulah sebabnya kita melakukan Sampling untuk melakukan pemodelan yang lebih baik dengan data yang seimbang."
      ]
    },
    {
      "cell_type": "markdown",
      "metadata": {
        "id": "lrYi4oAqQVNR"
      },
      "source": [
        "# Evaluation"
      ]
    },
    {
      "cell_type": "markdown",
      "metadata": {
        "id": "bqbXrZK63F83"
      },
      "source": [
        "##Sampling"
      ]
    },
    {
      "cell_type": "markdown",
      "source": [
        "Sampling adalah proses di mana porsi dari suatu populasi diseleksi agar dapat mewakilkan populasi tersebut. Tujuan dari dilakukannya sampling adalah untuk mendapatkan sampel (objek sampling) yang benar-benar sesuai dan dapat menggambarkan populasi untuk dijadikan sebagai subjek penelitian.\n",
        "\n",
        "Disini kami menggunakan 2 teknik sampling, yaitu Random Sampling dan SMOTE.\n",
        "Random Sampling -> adalah mengambil secara acak dan menghasilkan sample baru untuk  *class* minoritas sehingga kedua *class* memilki jumlah sampel yang sama.\n",
        "\n",
        "SMOTE -> adalah menghasilkan jumlah data sintetis, sesuai dengan jumlah data mayoritas.\n"
      ],
      "metadata": {
        "id": "KGZb2aeneIhr"
      }
    },
    {
      "cell_type": "code",
      "execution_count": 71,
      "metadata": {
        "id": "TDtNmBOs2WOT",
        "colab": {
          "base_uri": "https://localhost:8080/",
          "height": 297
        },
        "outputId": "23b13cba-2628-4e4d-eaa0-4685427bce90"
      },
      "outputs": [
        {
          "output_type": "execute_result",
          "data": {
            "text/plain": [
              "<matplotlib.axes._subplots.AxesSubplot at 0x7f4b715a9b10>"
            ]
          },
          "metadata": {},
          "execution_count": 71
        },
        {
          "output_type": "display_data",
          "data": {
            "text/plain": [
              "<Figure size 432x288 with 1 Axes>"
            ],
            "image/png": "[encoded data removed]"
          },
          "metadata": {
            "needs_background": "light"
          }
        }
      ],
      "source": [
        "#check imbalance data\n",
        "#check balance data\n",
        "#print(df[\"is_promoted\"].value_counts())\n",
        "\n",
        "#df.groupby('is_promoted').size().plot(kind='pie',\n",
        "                                       #y = \"v1\",\n",
        "                                       #label = \"Type\",\n",
        "                                       #autopct='%1.1f%%')\n",
        "#Univariate analysis target.\n",
        "sns.countplot(df['is_promoted'])"
      ]
    },
    {
      "cell_type": "code",
      "source": [
        "df['is_promoted'].value_counts()"
      ],
      "metadata": {
        "colab": {
          "base_uri": "https://localhost:8080/"
        },
        "id": "Q0C7gjGOi-8r",
        "outputId": "2bd24dd3-925a-48f8-bfba-d0a7f612f4cb"
      },
      "execution_count": 72,
      "outputs": [
        {
          "output_type": "execute_result",
          "data": {
            "text/plain": [
              "0    50140\n",
              "1     4668\n",
              "Name: is_promoted, dtype: int64"
            ]
          },
          "metadata": {},
          "execution_count": 72
        }
      ]
    },
    {
      "cell_type": "code",
      "execution_count": 73,
      "metadata": {
        "id": "xhpNoll03rER"
      },
      "outputs": [],
      "source": [
        "#Teknik Random Sampling\n",
        "from imblearn.over_sampling import RandomOverSampler\n",
        "from imblearn.under_sampling import RandomUnderSampler\n",
        "\n",
        "over_sampler = RandomOverSampler(sampling_strategy={1:4500})\n",
        "under_sampler = RandomUnderSampler(sampling_strategy={0:4500})\n",
        "X_train_encode_smp, y_train_smp = over_sampler.fit_resample(X_train_encode,y_train)\n",
        "X_train_encode_smp, y_train_smp = under_sampler.fit_resample(X_train_encode_smp, y_train_smp)"
      ]
    },
    {
      "cell_type": "code",
      "execution_count": 76,
      "metadata": {
        "colab": {
          "base_uri": "https://localhost:8080/"
        },
        "id": "Wtm-3n_i4kX3",
        "outputId": "0f4c6acb-1d70-4bbe-c472-3cd06dc718c6"
      },
      "outputs": [
        {
          "output_type": "execute_result",
          "data": {
            "text/plain": [
              "0    4500\n",
              "1    4500\n",
              "Name: is_promoted, dtype: int64"
            ]
          },
          "metadata": {},
          "execution_count": 76
        }
      ],
      "source": [
        "y_train_smp.value_counts()"
      ]
    },
    {
      "cell_type": "markdown",
      "metadata": {
        "id": "P03ckbDb9x5K"
      },
      "source": [
        "#Modelling After Sampling"
      ]
    },
    {
      "cell_type": "markdown",
      "metadata": {
        "id": "9Vv87-vn91t3"
      },
      "source": [
        "Selanjutnya, kita dapat menggunakannya untuk pemodelan data yang seimbang dengan menggunakan algoritma tertentu misalnya disini menggunakan beberapa model seperti contoh berikut:"
      ]
    },
    {
      "cell_type": "code",
      "source": [
        "models = [\n",
        "    #('DTC', DecisionTreeClassifier(class_weight='balanced')),\n",
        "    #('LR', LogisticRegression(class_weight='balanced')),\n",
        "    #('SVC', SVC(class_weight='balanced')),\n",
        "    #('LinSVC', LinearSVC(class_weight='balanced')),\n",
        "    ('KNC', KNeighborsClassifier(weights='uniform')),\n",
        "    ('RFC', RandomForestClassifier(class_weight='balanced')),\n",
        "    ('NB', GaussianNB())\n",
        "    ]\n",
        "\n",
        "for model_name, model in models:\n",
        "    print('Training {}'.format(model_name))\n",
        "\n",
        "    model.fit(X_train_encode_smp, y_train_smp)\n",
        "    predicted = model.predict(X_test_encode)\n",
        "\n",
        "    acc = accuracy_score(y_test, predicted)\n",
        "    prec = precision_score(y_test, predicted)\n",
        "    recall = recall_score(y_test, predicted)\n",
        "\n",
        "    print('Model: {}, Acc: {:.2F}, Prec: {:.2F}, Recall: {:.2F}'.format(\n",
        "        model_name, acc, prec, recall\n",
        "    ))"
      ],
      "metadata": {
        "colab": {
          "base_uri": "https://localhost:8080/"
        },
        "id": "kYf-ty0FkkFM",
        "outputId": "d1336d2b-0a16-4483-b680-8459e60811dc"
      },
      "execution_count": 74,
      "outputs": [
        {
          "output_type": "stream",
          "name": "stdout",
          "text": [
            "Training KNC\n",
            "Model: KNC, Acc: 0.46, Prec: 0.09, Recall: 0.56\n",
            "Training RFC\n",
            "Model: RFC, Acc: 0.51, Prec: 0.09, Recall: 0.57\n",
            "Training NB\n",
            "Model: NB, Acc: 0.39, Prec: 0.09, Recall: 0.72\n"
          ]
        }
      ]
    },
    {
      "cell_type": "code",
      "execution_count": 79,
      "metadata": {
        "colab": {
          "base_uri": "https://localhost:8080/"
        },
        "id": "pgTph9FxE_s6",
        "outputId": "ca4d549a-e537-4dcd-e04b-e2949965fa15"
      },
      "outputs": [
        {
          "output_type": "execute_result",
          "data": {
            "text/plain": [
              "0.539383138871236"
            ]
          },
          "metadata": {},
          "execution_count": 79
        }
      ],
      "source": [
        "#Check performa dari model menggunakan auc score\n",
        "from sklearn.metrics import roc_auc_score\n",
        "roc_auc_score(y_test, predicted)"
      ]
    },
    {
      "cell_type": "code",
      "execution_count": 80,
      "metadata": {
        "colab": {
          "base_uri": "https://localhost:8080/"
        },
        "id": "ADkgZrbISON8",
        "outputId": "6ece7873-f80c-4be4-c41a-f396ab43bc92"
      },
      "outputs": [
        {
          "output_type": "stream",
          "name": "stdout",
          "text": [
            "              precision    recall  f1-score   support\n",
            "\n",
            "           0       0.93      0.35      0.51     10046\n",
            "           1       0.09      0.72      0.16       916\n",
            "\n",
            "    accuracy                           0.39     10962\n",
            "   macro avg       0.51      0.54      0.34     10962\n",
            "weighted avg       0.86      0.39      0.49     10962\n",
            "\n"
          ]
        }
      ],
      "source": [
        "#Check performa model menggunakan classification_report\n",
        "print(classification_report(y_test, predicted))"
      ]
    },
    {
      "cell_type": "markdown",
      "metadata": {
        "id": "KBMGBzf9SjE-"
      },
      "source": [
        "*   Dari classification report dapat dilihat bahwa model memiliki rata-rata performa sekitar 50% mulai dari precision, recall, dan f1-score. Accuracy menunjukan akurasi sekitar 39%.\n",
        "\n",
        "*   Lalu untuk score dari AUC dapat dilihat bahwa nilainya seitar 53,92%\n",
        "Hasil dari 3 model yaitu algoritma KNeighbor Classifier, Random Forest Classifier, dan Naive Bayes yang memiliki performa paling baik adalah Naive Bayes recall sekitar 72%.\n",
        "\n"
      ]
    },
    {
      "cell_type": "markdown",
      "metadata": {
        "id": "83io6Smu9DnF"
      },
      "source": [
        "##Hyperparameter Search"
      ]
    },
    {
      "cell_type": "markdown",
      "metadata": {
        "id": "mb3TF_uS_RxZ"
      },
      "source": [
        "Salah satu cara untuk menentukan kombinasi Hyperparameters adalah menggunakan Grid Search. Metriks pengukuran performa dari Grid Search adalah Mean Cross Validation (CV). Cara kerja dari Grid Search itu mengkombinasikan nilai yang kita masukan pada Hyperparameters. Contohnya adalah ketika kita ingin mencari kombinasi dari Hyperparameters C = [1] dan kernel=['linear], dan gamma=['scale'], maka Grid Search akan mencari seluruh kombinasi dari C, kernel, dan gamma tersebut dan memilih kombinasi terbaik berdasarkan nilai dari CV Score yang paling tinggi."
      ]
    },
    {
      "cell_type": "code",
      "execution_count": 81,
      "metadata": {
        "id": "fxLQ_n96PClS"
      },
      "outputs": [],
      "source": [
        "#Grid Search --> untuk mencari hyperparameter terbaik\n",
        "from sklearn.model_selection import GridSearchCV\n",
        "\n",
        "#Cross Validation --> untuk mengatasi data-data yang tidak balance\n",
        "from sklearn.model_selection import StratifiedKFold\n",
        "from sklearn.model_selection import RepeatedStratifiedKFold\n",
        "\n",
        "%matplotlib inline"
      ]
    },
    {
      "cell_type": "code",
      "source": [
        "from sklearn.model_selection import GridSearchCV\n",
        "\n",
        "#Menjadikan ke dalam bentuk dictionary\n",
        "'''\n",
        "param = {\n",
        "    'C': [1, 0.01, 0.05, 0.001],\n",
        "    'intercept_scaling' : [1, 0.01, 0.05, 0.001],\n",
        "    'penalty' : ['l1', 'l2', 'elasticnet'],\n",
        "    'dual' : [False],\n",
        "    'solver' : ['newton-cg', 'lbfgs', 'liblinear', 'sag', 'saga'],\n",
        "    'class_weight': ['balanced', {0:1, 1:2}, {0:1, 1:4}]\n",
        "}\n",
        "\n",
        "cv = GridSearchCV(LogisticRegression(), param, verbose=1, scoring='recall')\n",
        "cv.fit(X_train_encode_smp, y_train_smp)\n",
        "'''"
      ],
      "metadata": {
        "colab": {
          "base_uri": "https://localhost:8080/",
          "height": 70
        },
        "id": "TQrS-nuhoBdR",
        "outputId": "ec9b1451-6c88-492a-a66f-675bba26d2f2"
      },
      "execution_count": 82,
      "outputs": [
        {
          "output_type": "execute_result",
          "data": {
            "text/plain": [
              "\"\\nparam = {\\n    'C': [1, 0.01, 0.05, 0.001],\\n    'intercept_scaling' : [1, 0.01, 0.05, 0.001],\\n    'penalty' : ['l1', 'l2', 'elasticnet'],\\n    'dual' : [False],\\n    'solver' : ['newton-cg', 'lbfgs', 'liblinear', 'sag', 'saga'],\\n    'class_weight': ['balanced', {0:1, 1:2}, {0:1, 1:4}]\\n}\\n\\ncv = GridSearchCV(LogisticRegression(), param, verbose=1, scoring='recall')\\ncv.fit(X_train_encode_smp, y_train_smp)\\n\""
            ],
            "application/vnd.google.colaboratory.intrinsic+json": {
              "type": "string"
            }
          },
          "metadata": {},
          "execution_count": 82
        }
      ]
    },
    {
      "cell_type": "code",
      "source": [
        "#cv.best_params_"
      ],
      "metadata": {
        "id": "__LSzWFIoLn4"
      },
      "execution_count": 84,
      "outputs": []
    },
    {
      "cell_type": "code",
      "source": [
        "# Model LogisticRegression\n",
        "#prediction1 = cv.predict(X_test_encode)\n",
        "\n",
        "#acc = accuracy_score(y_test, prediction1)\n",
        "#prec = precision_score(y_test, prediction1)\n",
        "#rec = recall_score(y_test, prediction1)\n",
        "\n",
        "#print(\"Accuracy: {:.2F}, precision {:.2F}, recall {:.2F}\".format(acc, prec, rec))"
      ],
      "metadata": {
        "id": "1ohsT3hto3Qp"
      },
      "execution_count": 83,
      "outputs": []
    },
    {
      "cell_type": "code",
      "source": [
        "# Model KNC\n",
        "param = {\n",
        "      'n_neighbors' : [5],\n",
        "      'weights' : ['uniform'],\n",
        "      'algorithm' : ['auto', 'ball_tree', 'kd_tree', 'brute'],\n",
        "      'leaf_size' : [30],\n",
        "      'p' : [1, 2],\n",
        "      'metric' : ['minkowski'],\n",
        "      'metric_params' : [None],\n",
        "      'n_jobs' : [None]\n",
        "      }\n",
        "\n",
        "cv = GridSearchCV(KNeighborsClassifier(), param, verbose=1, scoring='precision')\n",
        "cv.fit(X_train_encode, y_train)"
      ],
      "metadata": {
        "colab": {
          "base_uri": "https://localhost:8080/"
        },
        "id": "rDHetBWjphZt",
        "outputId": "78830e9e-e3ad-4f86-adf9-b87146391cfa"
      },
      "execution_count": 85,
      "outputs": [
        {
          "output_type": "stream",
          "name": "stdout",
          "text": [
            "Fitting 5 folds for each of 8 candidates, totalling 40 fits\n"
          ]
        },
        {
          "output_type": "execute_result",
          "data": {
            "text/plain": [
              "GridSearchCV(estimator=KNeighborsClassifier(),\n",
              "             param_grid={'algorithm': ['auto', 'ball_tree', 'kd_tree', 'brute'],\n",
              "                         'leaf_size': [30], 'metric': ['minkowski'],\n",
              "                         'metric_params': [None], 'n_jobs': [None],\n",
              "                         'n_neighbors': [5], 'p': [1, 2],\n",
              "                         'weights': ['uniform']},\n",
              "             scoring='precision', verbose=1)"
            ]
          },
          "metadata": {},
          "execution_count": 85
        }
      ]
    },
    {
      "cell_type": "code",
      "source": [
        "cv.best_params_"
      ],
      "metadata": {
        "colab": {
          "base_uri": "https://localhost:8080/"
        },
        "id": "krmbVMJVp2xw",
        "outputId": "cf38cba2-bda5-4db6-8eda-60571122f4a1"
      },
      "execution_count": 86,
      "outputs": [
        {
          "output_type": "execute_result",
          "data": {
            "text/plain": [
              "{'algorithm': 'kd_tree',\n",
              " 'leaf_size': 30,\n",
              " 'metric': 'minkowski',\n",
              " 'metric_params': None,\n",
              " 'n_jobs': None,\n",
              " 'n_neighbors': 5,\n",
              " 'p': 1,\n",
              " 'weights': 'uniform'}"
            ]
          },
          "metadata": {},
          "execution_count": 86
        }
      ]
    },
    {
      "cell_type": "code",
      "source": [
        "#Training the model\n",
        "prediction = cv.predict(X_test_encode)\n",
        "\n",
        "acc = accuracy_score(y_test, prediction)\n",
        "prec = precision_score(y_test, prediction)\n",
        "rec = recall_score(y_test, prediction)\n",
        "\n",
        "print(\"Accuracy: {:.2F}, precision {:.2F}, recall {:.2F}\".format(acc, prec, rec))"
      ],
      "metadata": {
        "colab": {
          "base_uri": "https://localhost:8080/"
        },
        "id": "uBAQ5CYmp8QW",
        "outputId": "54275aed-11c1-4845-f7db-71a402655113"
      },
      "execution_count": 87,
      "outputs": [
        {
          "output_type": "stream",
          "name": "stdout",
          "text": [
            "Accuracy: 0.91, precision 0.08, recall 0.01\n"
          ]
        }
      ]
    },
    {
      "cell_type": "code",
      "source": [
        "#KNC dengan satu parameter\n",
        "cv = KNeighborsClassifier(weights='uniform').fit(X_train_encode, y_train)\n",
        "\n",
        "prediction2 = cv.predict(X_test_encode)\n",
        "\n",
        "acc = accuracy_score(y_test, prediction2)\n",
        "prec = precision_score(y_test, prediction2)\n",
        "rec = recall_score(y_test, prediction2)\n",
        "\n",
        "print(\"Accuracy: {:.2F}, precision {:.2F}, recall {:.2F}\".format(acc, prec, rec))"
      ],
      "metadata": {
        "colab": {
          "base_uri": "https://localhost:8080/"
        },
        "id": "MbAvVp1EqHdP",
        "outputId": "b7e107f6-582d-42aa-f7b3-781da2c37490"
      },
      "execution_count": 88,
      "outputs": [
        {
          "output_type": "stream",
          "name": "stdout",
          "text": [
            "Accuracy: 0.92, precision 0.00, recall 0.00\n"
          ]
        }
      ]
    },
    {
      "cell_type": "code",
      "source": [
        "# Model GaussianNB\n",
        "\n",
        "param = {\n",
        "    'priors' : [None],\n",
        "    'var_smoothing' : np.logspace(0,-9, num=100)\n",
        "}\n",
        "\n",
        "cv = GridSearchCV(GaussianNB(), param, verbose=1, scoring='precision')\n",
        "cv.fit(X_train_encode, y_train)"
      ],
      "metadata": {
        "colab": {
          "base_uri": "https://localhost:8080/"
        },
        "id": "1oW3DqeCqLz0",
        "outputId": "4f1baddd-4c02-4f74-b7b4-702169cd4e7b"
      },
      "execution_count": 89,
      "outputs": [
        {
          "output_type": "stream",
          "name": "stdout",
          "text": [
            "Fitting 5 folds for each of 100 candidates, totalling 500 fits\n"
          ]
        },
        {
          "output_type": "execute_result",
          "data": {
            "text/plain": [
              "GridSearchCV(estimator=GaussianNB(),\n",
              "             param_grid={'priors': [None],\n",
              "                         'var_smoothing': array([1.00000000e+00, 8.11130831e-01, 6.57933225e-01, 5.33669923e-01,\n",
              "       4.32876128e-01, 3.51119173e-01, 2.84803587e-01, 2.31012970e-01,\n",
              "       1.87381742e-01, 1.51991108e-01, 1.23284674e-01, 1.00000000e-01,\n",
              "       8.11130831e-02, 6.57933225e-02, 5.33669923e-02, 4.32876128e-02,\n",
              "       3.51119173e-02, 2.848035...\n",
              "       1.23284674e-07, 1.00000000e-07, 8.11130831e-08, 6.57933225e-08,\n",
              "       5.33669923e-08, 4.32876128e-08, 3.51119173e-08, 2.84803587e-08,\n",
              "       2.31012970e-08, 1.87381742e-08, 1.51991108e-08, 1.23284674e-08,\n",
              "       1.00000000e-08, 8.11130831e-09, 6.57933225e-09, 5.33669923e-09,\n",
              "       4.32876128e-09, 3.51119173e-09, 2.84803587e-09, 2.31012970e-09,\n",
              "       1.87381742e-09, 1.51991108e-09, 1.23284674e-09, 1.00000000e-09])},\n",
              "             scoring='precision', verbose=1)"
            ]
          },
          "metadata": {},
          "execution_count": 89
        }
      ]
    },
    {
      "cell_type": "code",
      "source": [
        "cv.best_params_"
      ],
      "metadata": {
        "colab": {
          "base_uri": "https://localhost:8080/"
        },
        "id": "xUWA48XHqT5h",
        "outputId": "91668b2a-1fb9-4f61-9f34-dc17bf4b5164"
      },
      "execution_count": 90,
      "outputs": [
        {
          "output_type": "execute_result",
          "data": {
            "text/plain": [
              "{'priors': None, 'var_smoothing': 0.12328467394420659}"
            ]
          },
          "metadata": {},
          "execution_count": 90
        }
      ]
    },
    {
      "cell_type": "code",
      "source": [
        "#Training the model\n",
        "prediction3 = cv.predict(X_test_encode)\n",
        "\n",
        "acc = accuracy_score(y_test, prediction3)\n",
        "prec = precision_score(y_test, prediction3)\n",
        "rec = recall_score(y_test, prediction3)\n",
        "\n",
        "print(\"Accuracy: {:.2F}, precision {:.2F}, recall {:.2F}\".format(acc, prec, rec))"
      ],
      "metadata": {
        "colab": {
          "base_uri": "https://localhost:8080/"
        },
        "id": "EiTpw3ekwiet",
        "outputId": "a8dafd9d-5de6-4677-9ce1-13675b03a058"
      },
      "execution_count": 91,
      "outputs": [
        {
          "output_type": "stream",
          "name": "stdout",
          "text": [
            "Accuracy: 0.92, precision 0.17, recall 0.00\n"
          ]
        }
      ]
    },
    {
      "cell_type": "code",
      "source": [
        "#Model GaussianNB dengan satu parameter\n",
        "cv = GaussianNB().fit(X_train_encode, y_train)\n",
        "\n",
        "prediction4 = cv.predict(X_test_encode)\n",
        "\n",
        "acc = accuracy_score(y_test, prediction4)\n",
        "prec = precision_score(y_test, prediction4)\n",
        "rec = recall_score(y_test, prediction4)\n",
        "\n",
        "print(\"Accuracy: {:.2F}, precision {:.2F}, recall {:.2F}\".format(acc, prec, rec))"
      ],
      "metadata": {
        "colab": {
          "base_uri": "https://localhost:8080/"
        },
        "id": "bZr804dPqX4_",
        "outputId": "e78967b2-eb71-44f1-d4bf-30822ca3686f"
      },
      "execution_count": 92,
      "outputs": [
        {
          "output_type": "stream",
          "name": "stdout",
          "text": [
            "Accuracy: 0.90, precision 0.11, recall 0.03\n"
          ]
        }
      ]
    },
    {
      "cell_type": "code",
      "source": [
        "from sklearn.metrics import classification_report\n",
        "from sklearn.metrics import confusion_matrix\n",
        "\n",
        "confusion_matrix(y_test, prediction3)"
      ],
      "metadata": {
        "colab": {
          "base_uri": "https://localhost:8080/"
        },
        "id": "XPWg6rKKqlTc",
        "outputId": "5a67b0dd-ba56-4549-c3cb-e2c0e77914f0"
      },
      "execution_count": 93,
      "outputs": [
        {
          "output_type": "execute_result",
          "data": {
            "text/plain": [
              "array([[10031,    15],\n",
              "       [  913,     3]])"
            ]
          },
          "metadata": {},
          "execution_count": 93
        }
      ]
    },
    {
      "cell_type": "code",
      "source": [
        "print(classification_report(y_test, prediction3))"
      ],
      "metadata": {
        "colab": {
          "base_uri": "https://localhost:8080/"
        },
        "id": "ZlGBSNtPxnhX",
        "outputId": "bf73cd26-bab7-4d82-f75e-284e251b426a"
      },
      "execution_count": 94,
      "outputs": [
        {
          "output_type": "stream",
          "name": "stdout",
          "text": [
            "              precision    recall  f1-score   support\n",
            "\n",
            "           0       0.92      1.00      0.96     10046\n",
            "           1       0.17      0.00      0.01       916\n",
            "\n",
            "    accuracy                           0.92     10962\n",
            "   macro avg       0.54      0.50      0.48     10962\n",
            "weighted avg       0.85      0.92      0.88     10962\n",
            "\n"
          ]
        }
      ]
    },
    {
      "cell_type": "markdown",
      "source": [
        "Berikut adalah beberapa manfaat dari confusion matrix:\n",
        "\n",
        "Menunjukkan bagaimana model ketika membuat prediksi.\n",
        "Tidak hanya memberi informasi tentang kesalahan yang dibuat oleh model tetapi juga jenis kesalahan yang dibuat.\n",
        "Setiap kolom dari confusion matrix merepresentasikan instance dari kelas prediksi.\n",
        "Setiap baris dari confusion matrix mewakili instance dari kelas aktual."
      ],
      "metadata": {
        "id": "7vM4CGuY2Kzc"
      }
    },
    {
      "cell_type": "code",
      "source": [
        "f, ax = plt.subplots(figsize=(8,5))\n",
        "sns.heatmap(confusion_matrix(y_test, prediction3), annot=True, fmt=\".0f\", ax=ax)\n",
        "plt.xlabel(\"y_predic\")\n",
        "plt.ylabel(\"y_true\")\n",
        "plt.show()"
      ],
      "metadata": {
        "colab": {
          "base_uri": "https://localhost:8080/",
          "height": 338
        },
        "id": "HT0YWMrkxaX3",
        "outputId": "979eace6-abe6-4ebb-9080-cb78a302a690"
      },
      "execution_count": 95,
      "outputs": [
        {
          "output_type": "display_data",
          "data": {
            "text/plain": [
              "<Figure size 576x360 with 2 Axes>"
            ],
            "image/png": "[encoded data removed]"
          },
          "metadata": {
            "needs_background": "light"
          }
        }
      ]
    },
    {
      "cell_type": "markdown",
      "source": [
        "##Kesimpulan :\n",
        "Karena akurasi tidak optimal diterapkan dalam data yang tidak seimbang, akan menimbulkan kecenderungan terhadap data class mayoritas, maka kami memutuskan bahwa:\n",
        "\n",
        "Dengan presisi 17%, dapat disimpulkan:\n",
        "\n",
        "3 karyawan benar dipromosikan dari 18 karyawan yang diprediksi Machine Learning dipromosikan.\n",
        "\n",
        "dan \n",
        "\n",
        "Dengan recall 0.0"
      ],
      "metadata": {
        "id": "0HPVMKMkx6OO"
      }
    },
    {
      "cell_type": "markdown",
      "source": [
        "#Recommendation"
      ],
      "metadata": {
        "id": "BicrzUj-6vqr"
      }
    },
    {
      "cell_type": "markdown",
      "source": [
        "1.   Proyek ini dilaksanakan selama 2 minggu.\n",
        "2.   Variabel utama yang digunakan dalam proyek ini adalah promosi, education, department, gender, dan recruitment channel.\n",
        "3.   Menurut kami, model bisnis yang paling menguntungkan adalah Naive Bayes. Karena ketepatan menunjukkan kesalahan paling banyak dalam promosi yaitu sebanyak 913 karyawan. Dan juga hasil persentase tertinggi diantara model lainnya dengan recall 99%.\n",
        "Sehingga rencana promosi dapat mencapai target yang optimal dan meningkatkan motivasi orang yang dipromosikan.\n",
        "\n",
        "4. Proyek ini dapat dimanfaatkan oleh seorang HR dalam efisiensi waktu kinerja mereka untuk mengembangkan KPI dalam mempromosikan posisi.\n",
        "\n",
        "5. Proyek ini dapat digunakan oleh seorang manajer dalam memprediksi kemungkinan kenaikan pangkat, sehingga manajer dapat mengetahui parameter yang tepat bagi seseorang untuk bisa mendapatkan promosi. Proyek ini juga dapat membantu manajer dalam meminimalkan kecacatan seseorang setelah mendapatkan promosi karena kesalahan dalam memilih kandidat promosi."
      ],
      "metadata": {
        "id": "hxb5IPJQ6vhP"
      }
    }
  ],
  "metadata": {
    "colab": {
      "provenance": []
    },
    "kernelspec": {
      "display_name": "Python 3",
      "name": "python3"
    },
    "language_info": {
      "name": "python"
    }
  },
  "nbformat": 4,
  "nbformat_minor": 0
}